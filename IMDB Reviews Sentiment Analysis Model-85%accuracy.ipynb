{
 "cells": [
  {
   "cell_type": "markdown",
   "metadata": {},
   "source": [
    "## IMDB Reviews Sentiment Analysis using Glove Model and LSTM Neural Networks"
   ]
  },
  {
   "cell_type": "markdown",
   "metadata": {},
   "source": [
    "### Read the dataset"
   ]
  },
  {
   "cell_type": "code",
   "execution_count": 1,
   "metadata": {},
   "outputs": [],
   "source": [
    "import os\n",
    "os.chdir('E:/Sindhura/Data Science-ETLhive/Projects self taught')"
   ]
  },
  {
   "cell_type": "code",
   "execution_count": 2,
   "metadata": {},
   "outputs": [
    {
     "data": {
      "text/html": [
       "<div>\n",
       "<style scoped>\n",
       "    .dataframe tbody tr th:only-of-type {\n",
       "        vertical-align: middle;\n",
       "    }\n",
       "\n",
       "    .dataframe tbody tr th {\n",
       "        vertical-align: top;\n",
       "    }\n",
       "\n",
       "    .dataframe thead th {\n",
       "        text-align: right;\n",
       "    }\n",
       "</style>\n",
       "<table border=\"1\" class=\"dataframe\">\n",
       "  <thead>\n",
       "    <tr style=\"text-align: right;\">\n",
       "      <th></th>\n",
       "      <th>review</th>\n",
       "      <th>sentiment</th>\n",
       "    </tr>\n",
       "  </thead>\n",
       "  <tbody>\n",
       "    <tr>\n",
       "      <th>0</th>\n",
       "      <td>One of the other reviewers has mentioned that ...</td>\n",
       "      <td>positive</td>\n",
       "    </tr>\n",
       "    <tr>\n",
       "      <th>1</th>\n",
       "      <td>A wonderful little production. &lt;br /&gt;&lt;br /&gt;The...</td>\n",
       "      <td>positive</td>\n",
       "    </tr>\n",
       "    <tr>\n",
       "      <th>2</th>\n",
       "      <td>I thought this was a wonderful way to spend ti...</td>\n",
       "      <td>positive</td>\n",
       "    </tr>\n",
       "    <tr>\n",
       "      <th>3</th>\n",
       "      <td>Basically there's a family where a little boy ...</td>\n",
       "      <td>negative</td>\n",
       "    </tr>\n",
       "    <tr>\n",
       "      <th>4</th>\n",
       "      <td>Petter Mattei's \"Love in the Time of Money\" is...</td>\n",
       "      <td>positive</td>\n",
       "    </tr>\n",
       "  </tbody>\n",
       "</table>\n",
       "</div>"
      ],
      "text/plain": [
       "                                              review sentiment\n",
       "0  One of the other reviewers has mentioned that ...  positive\n",
       "1  A wonderful little production. <br /><br />The...  positive\n",
       "2  I thought this was a wonderful way to spend ti...  positive\n",
       "3  Basically there's a family where a little boy ...  negative\n",
       "4  Petter Mattei's \"Love in the Time of Money\" is...  positive"
      ]
     },
     "execution_count": 2,
     "metadata": {},
     "output_type": "execute_result"
    }
   ],
   "source": [
    "import pandas as pd\n",
    "df = pd.read_csv('IMDB Dataset.csv')\n",
    "df.head()"
   ]
  },
  {
   "cell_type": "markdown",
   "metadata": {},
   "source": [
    "### Perform basic data quality checks"
   ]
  },
  {
   "cell_type": "code",
   "execution_count": 3,
   "metadata": {},
   "outputs": [
    {
     "data": {
      "text/plain": [
       "(50000, 2)"
      ]
     },
     "execution_count": 3,
     "metadata": {},
     "output_type": "execute_result"
    }
   ],
   "source": [
    "df.shape"
   ]
  },
  {
   "cell_type": "code",
   "execution_count": 4,
   "metadata": {},
   "outputs": [
    {
     "data": {
      "text/plain": [
       "Index(['review', 'sentiment'], dtype='object')"
      ]
     },
     "execution_count": 4,
     "metadata": {},
     "output_type": "execute_result"
    }
   ],
   "source": [
    "df.columns"
   ]
  },
  {
   "cell_type": "code",
   "execution_count": 5,
   "metadata": {},
   "outputs": [
    {
     "name": "stdout",
     "output_type": "stream",
     "text": [
      "<class 'pandas.core.frame.DataFrame'>\n",
      "RangeIndex: 50000 entries, 0 to 49999\n",
      "Data columns (total 2 columns):\n",
      " #   Column     Non-Null Count  Dtype \n",
      "---  ------     --------------  ----- \n",
      " 0   review     50000 non-null  object\n",
      " 1   sentiment  50000 non-null  object\n",
      "dtypes: object(2)\n",
      "memory usage: 781.4+ KB\n"
     ]
    }
   ],
   "source": [
    "df.info()"
   ]
  },
  {
   "cell_type": "markdown",
   "metadata": {},
   "source": [
    "### Data Cleaning\n",
    "Checking for missing values\n",
    "\n",
    "Checking for duplicates"
   ]
  },
  {
   "cell_type": "code",
   "execution_count": 6,
   "metadata": {},
   "outputs": [
    {
     "data": {
      "text/plain": [
       "review       0\n",
       "sentiment    0\n",
       "dtype: int64"
      ]
     },
     "execution_count": 6,
     "metadata": {},
     "output_type": "execute_result"
    }
   ],
   "source": [
    "df.isna().sum()"
   ]
  },
  {
   "cell_type": "code",
   "execution_count": 7,
   "metadata": {},
   "outputs": [
    {
     "data": {
      "text/plain": [
       "418"
      ]
     },
     "execution_count": 7,
     "metadata": {},
     "output_type": "execute_result"
    }
   ],
   "source": [
    "df.duplicated().sum()"
   ]
  },
  {
   "cell_type": "code",
   "execution_count": 8,
   "metadata": {},
   "outputs": [],
   "source": [
    "## Let's drop the duplicated rows\n",
    "df.drop_duplicates(inplace=True)"
   ]
  },
  {
   "cell_type": "code",
   "execution_count": 9,
   "metadata": {},
   "outputs": [
    {
     "data": {
      "text/plain": [
       "0"
      ]
     },
     "execution_count": 9,
     "metadata": {},
     "output_type": "execute_result"
    }
   ],
   "source": [
    "df.duplicated().sum()"
   ]
  },
  {
   "cell_type": "markdown",
   "metadata": {},
   "source": [
    "### Data Pre-Processing"
   ]
  },
  {
   "cell_type": "markdown",
   "metadata": {},
   "source": [
    "Install necessary packages to perform preprocessing operations"
   ]
  },
  {
   "cell_type": "code",
   "execution_count": 10,
   "metadata": {},
   "outputs": [
    {
     "name": "stdout",
     "output_type": "stream",
     "text": [
      "Requirement already satisfied: nltk in c:\\users\\acer\\appdata\\local\\programs\\python\\python38\\lib\\site-packages (3.8.1)\n",
      "Requirement already satisfied: regex>=2021.8.3 in c:\\users\\acer\\appdata\\local\\programs\\python\\python38\\lib\\site-packages (from nltk) (2024.5.15)\n",
      "Requirement already satisfied: joblib in c:\\users\\acer\\appdata\\local\\programs\\python\\python38\\lib\\site-packages (from nltk) (1.4.2)\n",
      "Requirement already satisfied: click in c:\\users\\acer\\appdata\\local\\programs\\python\\python38\\lib\\site-packages (from nltk) (8.1.7)\n",
      "Requirement already satisfied: tqdm in c:\\users\\acer\\appdata\\local\\programs\\python\\python38\\lib\\site-packages (from nltk) (4.66.4)\n",
      "Requirement already satisfied: colorama in c:\\users\\acer\\appdata\\roaming\\python\\python38\\site-packages (from click->nltk) (0.4.6)\n",
      "Note: you may need to restart the kernel to use updated packages.\n"
     ]
    },
    {
     "name": "stderr",
     "output_type": "stream",
     "text": [
      "WARNING: You are using pip version 21.1.1; however, version 24.1.2 is available.\n",
      "You should consider upgrading via the 'c:\\Users\\acer\\AppData\\Local\\Programs\\Python\\Python38\\python.exe -m pip install --upgrade pip' command.\n"
     ]
    }
   ],
   "source": [
    "%pip install nltk"
   ]
  },
  {
   "cell_type": "code",
   "execution_count": 11,
   "metadata": {},
   "outputs": [
    {
     "name": "stderr",
     "output_type": "stream",
     "text": [
      "[nltk_data] Downloading package stopwords to\n",
      "[nltk_data]     C:\\Users\\acer\\AppData\\Roaming\\nltk_data...\n",
      "[nltk_data]   Package stopwords is already up-to-date!\n"
     ]
    }
   ],
   "source": [
    "import re\n",
    "import nltk\n",
    "nltk.download('stopwords')\n",
    "from nltk.corpus import stopwords"
   ]
  },
  {
   "cell_type": "code",
   "execution_count": 12,
   "metadata": {},
   "outputs": [
    {
     "data": {
      "text/plain": [
       "0    One of the other reviewers has mentioned that ...\n",
       "1    A wonderful little production. <br /><br />The...\n",
       "2    I thought this was a wonderful way to spend ti...\n",
       "3    Basically there's a family where a little boy ...\n",
       "4    Petter Mattei's \"Love in the Time of Money\" is...\n",
       "5    Probably my all-time favorite movie, a story o...\n",
       "6    I sure would like to see a resurrection of a u...\n",
       "7    This show was an amazing, fresh & innovative i...\n",
       "8    Encouraged by the positive comments about this...\n",
       "9    If you like original gut wrenching laughter yo...\n",
       "Name: review, dtype: object"
      ]
     },
     "execution_count": 12,
     "metadata": {},
     "output_type": "execute_result"
    }
   ],
   "source": [
    "df['review'].head(10)"
   ]
  },
  {
   "cell_type": "markdown",
   "metadata": {},
   "source": [
    "### HTML tags removal\n",
    "We can observe HTML tags in 'review' section of dataset. We need to remove HTML tags.\n",
    "\n",
    "Create a function to remove tags from every review"
   ]
  },
  {
   "cell_type": "code",
   "execution_count": 13,
   "metadata": {},
   "outputs": [],
   "source": [
    "tag_re = re.compile(r'<[^>+]>')\n",
    "\n",
    "def remove_tags(text):\n",
    "    return tag_re.sub('',text)"
   ]
  },
  {
   "cell_type": "markdown",
   "metadata": {},
   "source": [
    "### Create a preprocessor function which will \n",
    "    a) convert entire content to lower case\n",
    "    b) remove html tags \n",
    "    c) remove punchuation marks and sybmols\n",
    "    d) remove isolated letters\n",
    "    e) remove extra space\n",
    "    f) remove stopwords"
   ]
  },
  {
   "cell_type": "code",
   "execution_count": 14,
   "metadata": {},
   "outputs": [],
   "source": [
    "def preprocess_text(sentences):\n",
    "\n",
    "    # convert entire content to lower case\n",
    "    sentence = sentences.lower()\n",
    "\n",
    "    # remove html tags     \n",
    "    sentence = remove_tags(sentence)\n",
    "\n",
    "    # remove punchuation marks and sybmols\n",
    "    sentence = re.sub(r'[^a-z]',' ',sentence)\n",
    "\n",
    "    # remove isolated letters (like a or x or d)\n",
    "    sentence = re.sub(r'\\s+[a-z]\\s+',' ',sentence)\n",
    "\n",
    "    # remove extra space\n",
    "    sentence = re.sub(r'\\s+',' ',sentence)\n",
    "\n",
    "    # remove stopwords\n",
    "    pattern = re.compile(r'\\b(' + r'|'.join(stopwords.words('english')) + r')\\b\\s*') \n",
    "    # r'|'.join(stopwords.words('english'))-- example: It returns the|a|an where | refers to Logical OR\n",
    "    sentence = pattern.sub('',sentence)\n",
    "\n",
    "    return sentence"
   ]
  },
  {
   "cell_type": "markdown",
   "metadata": {},
   "source": [
    "### Saving Preprocessed data to X"
   ]
  },
  {
   "cell_type": "code",
   "execution_count": 15,
   "metadata": {},
   "outputs": [
    {
     "data": {
      "text/plain": [
       "['one reviewers mentioned watching oz episode hooked right exactly happened br br first thing struck oz brutality unflinching scenes violence set right word go trust show faint hearted timid show pulls punches regards drugs sex violence hardcore classic use word br br called oz nickname given oswald maximum security state penitentary focuses mainly emerald city experimental section prison cells glass fronts face inwards privacy high agenda em city home many aryans muslims gangstas latinos christians italians irish scuffles death stares dodgy dealings shady agreements never far away br br would say main appeal show due fact goes shows dare forget pretty pictures painted mainstream audiences forget charm forget romance oz mess around first episode ever saw struck nasty surreal say ready watched developed taste oz got accustomed high levels graphic violence violence injustice crooked guards sold nickel inmates kill order get away well mannered middle class inmates turned prison bitches due lack street skills prison experience watching oz may become comfortable uncomfortable viewing thats get touch darker side ',\n",
       " 'wonderful little production br br filming technique unassuming old time bbc fashion gives comforting sometimes discomforting sense realism entire piece br br actors extremely well chosen michael sheen got polari voices pat truly see seamless editing guided references williams diary entries well worth watching terrificly written performed piece masterful production one great master comedy life br br realism really comes home little things fantasy guard rather use traditional dream techniques remains solid disappears plays knowledge senses particularly scenes concerning orton halliwell sets particularly flat halliwell murals decorating every surface terribly well done ',\n",
       " 'thought wonderful way spend time hot summer weekend sitting air conditioned theater watching light hearted comedy plot simplistic dialogue witty characters likable even well bread suspected serial killer may disappointed realize match point risk addiction thought proof woody allen still fully control style many us grown love br br laughed one woody comedies years dare say decade never impressed scarlet johanson managed tone sexy image jumped right average spirited young woman br br may crown jewel career wittier devil wears prada interesting superman great comedy go see friends ',\n",
       " 'basically family little boy jake thinks zombie closet parents fighting time br br movie slower soap opera suddenly jake decides become rambo kill zombie br br ok first going make film must decide thriller drama drama movie watchable parents divorcing arguing like real life jake closet totally ruins film expected see boogeyman similar movie instead watched drama meaningless thriller spots br br well playing parents descent dialogs shots jake ignore ',\n",
       " 'petter mattei love time money visually stunning film watch mr mattei offers us vivid portrait human relations movie seems telling us money power success people different situations encounter br br variation arthur schnitzler play theme director transfers action present time new york different characters meet connect one connected one way another next person one seems know previous point contact stylishly film sophisticated luxurious look taken see people live world live habitat br br thing one gets souls picture different stages loneliness one inhabits big city exactly best place human relations find sincere fulfillment one discerns case people encounter br br acting good mr mattei direction steve buscemi rosario dawson carol kane michael imperioli adrian grenier rest talented cast make characters come alive br br wish mr mattei good luck await anxiously next work ']"
      ]
     },
     "execution_count": 15,
     "metadata": {},
     "output_type": "execute_result"
    }
   ],
   "source": [
    "X = [preprocess_text(i) for i in df.review]\n",
    "X[:5]"
   ]
  },
  {
   "cell_type": "markdown",
   "metadata": {},
   "source": [
    "### Preprocessing Y- Sentiments"
   ]
  },
  {
   "cell_type": "code",
   "execution_count": 16,
   "metadata": {},
   "outputs": [
    {
     "data": {
      "text/plain": [
       "array(['positive', 'negative'], dtype=object)"
      ]
     },
     "execution_count": 16,
     "metadata": {},
     "output_type": "execute_result"
    }
   ],
   "source": [
    "df['sentiment'].unique()"
   ]
  },
  {
   "cell_type": "code",
   "execution_count": 17,
   "metadata": {},
   "outputs": [
    {
     "data": {
      "text/plain": [
       "array([1, 1, 1, ..., 0, 0, 0], dtype=int64)"
      ]
     },
     "execution_count": 17,
     "metadata": {},
     "output_type": "execute_result"
    }
   ],
   "source": [
    "Y = df['sentiment'].replace({'positive':1,'negative':0}).values\n",
    "Y"
   ]
  },
  {
   "cell_type": "markdown",
   "metadata": {},
   "source": [
    "### Perform Train Test Split"
   ]
  },
  {
   "cell_type": "code",
   "execution_count": 18,
   "metadata": {},
   "outputs": [],
   "source": [
    "from sklearn.model_selection import train_test_split\n",
    "xtrain, xtest, ytrain, ytest = train_test_split(X,Y,train_size=0.80,test_size=0.20,random_state=21)"
   ]
  },
  {
   "cell_type": "code",
   "execution_count": 19,
   "metadata": {},
   "outputs": [
    {
     "data": {
      "text/plain": [
       "['made minutes steel frontier turned glutton punishment watched next day today iron pile clothes decided finish movie punishment understand robert rodriguez shane carruth spent debut features created two remarkable movies yet two directors arguably way money churn huge steaming pile crap let see figure logic road warrior like future western get cheapest actors find mentally challenged cousin write script spend budget bunch explosions lose br br seriously think even mst guys could improve insist watching recommend getting drunk first ',\n",
       " 'love science fiction fascinated egyptian mythology appreciate digital animation figured movie combines three would least enjoyable could wrong story actually lack completely uninspired lacks imagination imagination usually biggest component science fiction story dialogue acting even worse average porno movie especially thomas kretschmann gives new meaning term bad performance bad acting huge problem director bilal take seriously lines sound like supposed poetic looks like bilal really thinks made piece art well art poetry found piece junk pretentiousness man really stick making comics since fails possible accounts director worst terrible digital animation ugly actually turns watching movie physically painful experience graphics look fake even make werewolves van helsing look like live actors since half characters cgi animated quite problem cgi effects look fake egyptian gods actually exist bilal dead guy since doubt take gruesome revenge ridiculous way portrays disastrously bad movie ',\n",
       " 'certainly serious contender one worst time br br got dvd cheap sandra bullock headliner case false advertising screen almost minutes movie br br hand selling point movie dialog horrible editing apparently done someone strung quaaludes directing well let say yo daughter could better hope never sees faint praise possible family cat could done better br br sandra creditable job first film short time screen redeeming quality film stupid story poorly written transferred film th grade media class able br br short dreck ',\n",
       " 'simply good ole fashioned western overly complex long deceive thinking made entertainment still one westerns watch done without returning features former partners randolph scott glenn ford whose friendship strong despite fact ford cheyenne rogers part bank robbing even steals scott sheriff steve upton horse without knowing good friend thieving red valley upton heavy scrutiny bank robbing ended several dead claire trvor portrays countess maletta friend cheyenne gives buddy nitro guinn big boy williams place stay time cheyenne desires go straight finds hard jack lester bernard nedell bad bunch want rob red valley bank actually jack behind murders cheyenne troubled past hard get away nitro charged murders commit robbery one cheyenne commit upton must somehow save day lester gets away murder sub plots include cheyenne falling love alison mcleod evelyn keyes irony story alison father uncle willie actually cahoots banker stanley clanton porter hall planned united theft lester steal town red valley loot upton uncover uncle willie banker clanton treacherous scheme uncle willie able go without conscience always bothering film terrific barroom brawl dandy climactic shootout columbia picked better genre begin coloring process film fine mountainous shots men give chase horseback expect get socks blown film simple well paced ',\n",
       " 'movie disaster box office reason behind innocence movie sweetness story music good story simple old presentation story good director tried best abhay excellent impressive shines role best comedy emotional scene soha looks sweet movie rest star cast simply okay music songs good himesh impressive singer miss movie wonderful movie feel good one us abhay best work till date give ahista ahista ']"
      ]
     },
     "execution_count": 19,
     "metadata": {},
     "output_type": "execute_result"
    }
   ],
   "source": [
    "xtrain[0:5]"
   ]
  },
  {
   "cell_type": "code",
   "execution_count": 20,
   "metadata": {},
   "outputs": [
    {
     "data": {
      "text/plain": [
       "['oh dear rarely horror film bored made laugh much one spirited start intriguing premise descends much slasher flick supernatural sexual asides usually excellent alice krige wasted one plot twists ludicrous bother unless really desperate rating ',\n",
       " 'advertised expensive movie ever made czech republic automatically makes think glorified clich fear budget however budget million half movie english exactly big budget high risk movie br br grand epic tale centered around friendship two people younger karel older frantisek pilots czech air force germans invade beginning world war ii escape country england joined raf br br friendship becomes strained love woman however bond friendship goes beyond merely friendly friendship elegant metaphor attitude czech people country remember winners defeated germans invaded russians br br funny exciting intriguing beautiful sad illuminating movie one favourite war movies like way make fun british way amazingly affectionate gives amazing insight way british military fought wwii br br forget recent american efforts peal harbour saving private ryan best wwii movie long time ',\n",
       " 'pulled guys guts butt spoof right one really writes happens like improv gone horribly wrong think way movie must spoof would say wrote script otherwise anyone imagine entire cast sitting around director writers go storyboard br br director says next inbreed villain uses inch machete disembowel token creepy neighbor get going pull guts bunghole br br brilliant entire cast proclaims br br way happen nobody writes stupid gotta spoof br br loved part skinny introspective gal beats inbreed freak death cast iron skillet finds floor cave sure inbreed cannibal types bothered cook much maybe explains skillet lying floor dark right time kill malformed hulk seems ironic freaky guy bested martial arts expert porn queens couple doors type jocks falls easily frying pan skinny defenseless girl next door br br heck richard greco guy fire agent something br br anyone explain ending please get either quite figure nice hero girl wanted kill funny lady making tea never mind want know ',\n",
       " 'going attempt building tension film always good idea build beyond point total tedium br br unfortunately butcher brothers grasped yet br br film sucks unlike majority characters work vampires first minutes shame preference stringing plentiful supply one knows cheerleader types homosexual drifters waft conveniently fast food swagger past isolated door br br tiny bit originality plot vampires come vampires first place rest ludicrous sloppy br br forced sticks opposed stakes regular basis due penchant filling basement bloodless corpses really none bright fed victims could run little blood farm would cut mortality rate thereby allowing settle get chintzy br br producers felt necessary introduce incestuous twins homicidally gay older brother sure added zero plot unfortunate given great deal plot start shock value br br one never told parents died unless course explained one frequent tea breaks clearly social worker must alerted family reason viewer write reason br br well rounded character youngest brother emerges looking like pugsley adams family indeed way rounded appearance child inadvertently wandered weight watchers class bad horror film oh heavens never mind dear another doughnut yummy blood centre ',\n",
       " 'set venice mainly lido visconti death venice triumph filmmaking combining excellence dirk bogarde characterisation expert photography resort area various daily moods love venice film cherish br br mahler music frequently heard throughout film heightens drama mood creates always happy else would expect title like br br lot dialogue film rather sparse fact mainly background noises chatter laughter among hotel guests intriguing part interpret exchange glances gustav von aschenbach composer renown slim teenage youth tadzio see time time across tables hotel dining room beach odd unexpected places around venice seem acknowledge presence shyly first little suggestion smile later strong riveting urgent gaze br br viewer interpretation composer lost child behaviour expression yearning child loved perhaps sexual attraction towards fragile young man dazed somewhat girlish stare could discovering new inspiration yet unwritten musical masterpiece knows br br beginning end film captures true spirit th century venice elegance ladies deck chairs sand children frolicking neck knee bathing costumes glow sunsets general feeling satisfaction world may think pace rather slow times film overall gentle quality simmering indecision two repressed human beings prepared sad beautiful ending ']"
      ]
     },
     "execution_count": 20,
     "metadata": {},
     "output_type": "execute_result"
    }
   ],
   "source": [
    "xtest[:5]"
   ]
  },
  {
   "cell_type": "code",
   "execution_count": 21,
   "metadata": {},
   "outputs": [
    {
     "data": {
      "text/plain": [
       "array([0, 0, 0, 1, 1], dtype=int64)"
      ]
     },
     "execution_count": 21,
     "metadata": {},
     "output_type": "execute_result"
    }
   ],
   "source": [
    "ytrain[:5]"
   ]
  },
  {
   "cell_type": "code",
   "execution_count": 22,
   "metadata": {},
   "outputs": [
    {
     "data": {
      "text/plain": [
       "array([0, 1, 0, 0, 1], dtype=int64)"
      ]
     },
     "execution_count": 22,
     "metadata": {},
     "output_type": "execute_result"
    }
   ],
   "source": [
    "ytest[:5]"
   ]
  },
  {
   "cell_type": "markdown",
   "metadata": {},
   "source": [
    "### Install necessary packages to proceed with text preprocessing"
   ]
  },
  {
   "cell_type": "code",
   "execution_count": 23,
   "metadata": {},
   "outputs": [
    {
     "name": "stdout",
     "output_type": "stream",
     "text": [
      "Requirement already satisfied: keras in c:\\users\\acer\\appdata\\local\\programs\\python\\python38\\lib\\site-packages (2.13.1)\n",
      "Note: you may need to restart the kernel to use updated packages.\n"
     ]
    },
    {
     "name": "stderr",
     "output_type": "stream",
     "text": [
      "WARNING: You are using pip version 21.1.1; however, version 24.1.2 is available.\n",
      "You should consider upgrading via the 'c:\\Users\\acer\\AppData\\Local\\Programs\\Python\\Python38\\python.exe -m pip install --upgrade pip' command.\n"
     ]
    }
   ],
   "source": [
    "%pip install keras"
   ]
  },
  {
   "cell_type": "code",
   "execution_count": 24,
   "metadata": {},
   "outputs": [
    {
     "name": "stdout",
     "output_type": "stream",
     "text": [
      "Requirement already satisfied: tensorflow in c:\\users\\acer\\appdata\\local\\programs\\python\\python38\\lib\\site-packages (2.13.0)\n",
      "Requirement already satisfied: tensorflow-intel==2.13.0 in c:\\users\\acer\\appdata\\local\\programs\\python\\python38\\lib\\site-packages (from tensorflow) (2.13.0)\n",
      "Requirement already satisfied: wrapt>=1.11.0 in c:\\users\\acer\\appdata\\local\\programs\\python\\python38\\lib\\site-packages (from tensorflow-intel==2.13.0->tensorflow) (1.16.0)\n",
      "Requirement already satisfied: gast<=0.4.0,>=0.2.1 in c:\\users\\acer\\appdata\\local\\programs\\python\\python38\\lib\\site-packages (from tensorflow-intel==2.13.0->tensorflow) (0.4.0)\n",
      "Requirement already satisfied: astunparse>=1.6.0 in c:\\users\\acer\\appdata\\local\\programs\\python\\python38\\lib\\site-packages (from tensorflow-intel==2.13.0->tensorflow) (1.6.3)\n",
      "Requirement already satisfied: tensorflow-io-gcs-filesystem>=0.23.1 in c:\\users\\acer\\appdata\\local\\programs\\python\\python38\\lib\\site-packages (from tensorflow-intel==2.13.0->tensorflow) (0.31.0)\n",
      "Requirement already satisfied: absl-py>=1.0.0 in c:\\users\\acer\\appdata\\local\\programs\\python\\python38\\lib\\site-packages (from tensorflow-intel==2.13.0->tensorflow) (2.1.0)\n",
      "Requirement already satisfied: opt-einsum>=2.3.2 in c:\\users\\acer\\appdata\\local\\programs\\python\\python38\\lib\\site-packages (from tensorflow-intel==2.13.0->tensorflow) (3.3.0)\n",
      "Requirement already satisfied: tensorboard<2.14,>=2.13 in c:\\users\\acer\\appdata\\local\\programs\\python\\python38\\lib\\site-packages (from tensorflow-intel==2.13.0->tensorflow) (2.13.0)\n",
      "Requirement already satisfied: google-pasta>=0.1.1 in c:\\users\\acer\\appdata\\local\\programs\\python\\python38\\lib\\site-packages (from tensorflow-intel==2.13.0->tensorflow) (0.2.0)\n",
      "Requirement already satisfied: packaging in c:\\users\\acer\\appdata\\roaming\\python\\python38\\site-packages (from tensorflow-intel==2.13.0->tensorflow) (24.1)\n",
      "Requirement already satisfied: numpy<=1.24.3,>=1.22 in c:\\users\\acer\\appdata\\local\\programs\\python\\python38\\lib\\site-packages (from tensorflow-intel==2.13.0->tensorflow) (1.24.3)\n",
      "Requirement already satisfied: protobuf!=4.21.0,!=4.21.1,!=4.21.2,!=4.21.3,!=4.21.4,!=4.21.5,<5.0.0dev,>=3.20.3 in c:\\users\\acer\\appdata\\local\\programs\\python\\python38\\lib\\site-packages (from tensorflow-intel==2.13.0->tensorflow) (4.25.3)\n",
      "Requirement already satisfied: termcolor>=1.1.0 in c:\\users\\acer\\appdata\\local\\programs\\python\\python38\\lib\\site-packages (from tensorflow-intel==2.13.0->tensorflow) (2.4.0)\n",
      "Requirement already satisfied: six>=1.12.0 in c:\\users\\acer\\appdata\\roaming\\python\\python38\\site-packages (from tensorflow-intel==2.13.0->tensorflow) (1.16.0)\n",
      "Requirement already satisfied: flatbuffers>=23.1.21 in c:\\users\\acer\\appdata\\local\\programs\\python\\python38\\lib\\site-packages (from tensorflow-intel==2.13.0->tensorflow) (24.3.25)\n",
      "Requirement already satisfied: grpcio<2.0,>=1.24.3 in c:\\users\\acer\\appdata\\local\\programs\\python\\python38\\lib\\site-packages (from tensorflow-intel==2.13.0->tensorflow) (1.64.1)\n",
      "Requirement already satisfied: tensorflow-estimator<2.14,>=2.13.0 in c:\\users\\acer\\appdata\\local\\programs\\python\\python38\\lib\\site-packages (from tensorflow-intel==2.13.0->tensorflow) (2.13.0)\n",
      "Requirement already satisfied: typing-extensions<4.6.0,>=3.6.6 in c:\\users\\acer\\appdata\\local\\programs\\python\\python38\\lib\\site-packages (from tensorflow-intel==2.13.0->tensorflow) (4.5.0)\n",
      "Requirement already satisfied: setuptools in c:\\users\\acer\\appdata\\local\\programs\\python\\python38\\lib\\site-packages (from tensorflow-intel==2.13.0->tensorflow) (56.0.0)\n",
      "Requirement already satisfied: libclang>=13.0.0 in c:\\users\\acer\\appdata\\local\\programs\\python\\python38\\lib\\site-packages (from tensorflow-intel==2.13.0->tensorflow) (18.1.1)\n",
      "Requirement already satisfied: keras<2.14,>=2.13.1 in c:\\users\\acer\\appdata\\local\\programs\\python\\python38\\lib\\site-packages (from tensorflow-intel==2.13.0->tensorflow) (2.13.1)\n",
      "Requirement already satisfied: h5py>=2.9.0 in c:\\users\\acer\\appdata\\local\\programs\\python\\python38\\lib\\site-packages (from tensorflow-intel==2.13.0->tensorflow) (3.11.0)\n",
      "Requirement already satisfied: wheel<1.0,>=0.23.0 in c:\\users\\acer\\appdata\\local\\programs\\python\\python38\\lib\\site-packages (from astunparse>=1.6.0->tensorflow-intel==2.13.0->tensorflow) (0.43.0)\n",
      "Requirement already satisfied: tensorboard-data-server<0.8.0,>=0.7.0 in c:\\users\\acer\\appdata\\local\\programs\\python\\python38\\lib\\site-packages (from tensorboard<2.14,>=2.13->tensorflow-intel==2.13.0->tensorflow) (0.7.2)\n",
      "Requirement already satisfied: google-auth<3,>=1.6.3 in c:\\users\\acer\\appdata\\local\\programs\\python\\python38\\lib\\site-packages (from tensorboard<2.14,>=2.13->tensorflow-intel==2.13.0->tensorflow) (2.32.0)\n",
      "Requirement already satisfied: google-auth-oauthlib<1.1,>=0.5 in c:\\users\\acer\\appdata\\local\\programs\\python\\python38\\lib\\site-packages (from tensorboard<2.14,>=2.13->tensorflow-intel==2.13.0->tensorflow) (1.0.0)\n",
      "Requirement already satisfied: requests<3,>=2.21.0 in c:\\users\\acer\\appdata\\local\\programs\\python\\python38\\lib\\site-packages (from tensorboard<2.14,>=2.13->tensorflow-intel==2.13.0->tensorflow) (2.32.3)\n",
      "Requirement already satisfied: werkzeug>=1.0.1 in c:\\users\\acer\\appdata\\local\\programs\\python\\python38\\lib\\site-packages (from tensorboard<2.14,>=2.13->tensorflow-intel==2.13.0->tensorflow) (3.0.3)\n",
      "Requirement already satisfied: markdown>=2.6.8 in c:\\users\\acer\\appdata\\local\\programs\\python\\python38\\lib\\site-packages (from tensorboard<2.14,>=2.13->tensorflow-intel==2.13.0->tensorflow) (3.6)\n",
      "Requirement already satisfied: rsa<5,>=3.1.4 in c:\\users\\acer\\appdata\\local\\programs\\python\\python38\\lib\\site-packages (from google-auth<3,>=1.6.3->tensorboard<2.14,>=2.13->tensorflow-intel==2.13.0->tensorflow) (4.9)\n",
      "Requirement already satisfied: cachetools<6.0,>=2.0.0 in c:\\users\\acer\\appdata\\local\\programs\\python\\python38\\lib\\site-packages (from google-auth<3,>=1.6.3->tensorboard<2.14,>=2.13->tensorflow-intel==2.13.0->tensorflow) (5.4.0)\n",
      "Requirement already satisfied: pyasn1-modules>=0.2.1 in c:\\users\\acer\\appdata\\local\\programs\\python\\python38\\lib\\site-packages (from google-auth<3,>=1.6.3->tensorboard<2.14,>=2.13->tensorflow-intel==2.13.0->tensorflow) (0.4.0)\n",
      "Requirement already satisfied: requests-oauthlib>=0.7.0 in c:\\users\\acer\\appdata\\local\\programs\\python\\python38\\lib\\site-packages (from google-auth-oauthlib<1.1,>=0.5->tensorboard<2.14,>=2.13->tensorflow-intel==2.13.0->tensorflow) (2.0.0)\n",
      "Requirement already satisfied: importlib-metadata>=4.4 in c:\\users\\acer\\appdata\\roaming\\python\\python38\\site-packages (from markdown>=2.6.8->tensorboard<2.14,>=2.13->tensorflow-intel==2.13.0->tensorflow) (8.0.0)\n",
      "Requirement already satisfied: zipp>=0.5 in c:\\users\\acer\\appdata\\roaming\\python\\python38\\site-packages (from importlib-metadata>=4.4->markdown>=2.6.8->tensorboard<2.14,>=2.13->tensorflow-intel==2.13.0->tensorflow) (3.19.2)\n",
      "Requirement already satisfied: pyasn1<0.7.0,>=0.4.6 in c:\\users\\acer\\appdata\\local\\programs\\python\\python38\\lib\\site-packages (from pyasn1-modules>=0.2.1->google-auth<3,>=1.6.3->tensorboard<2.14,>=2.13->tensorflow-intel==2.13.0->tensorflow) (0.6.0)\n",
      "Requirement already satisfied: charset-normalizer<4,>=2 in c:\\users\\acer\\appdata\\local\\programs\\python\\python38\\lib\\site-packages (from requests<3,>=2.21.0->tensorboard<2.14,>=2.13->tensorflow-intel==2.13.0->tensorflow) (3.3.2)\n",
      "Requirement already satisfied: certifi>=2017.4.17 in c:\\users\\acer\\appdata\\local\\programs\\python\\python38\\lib\\site-packages (from requests<3,>=2.21.0->tensorboard<2.14,>=2.13->tensorflow-intel==2.13.0->tensorflow) (2024.7.4)\n",
      "Requirement already satisfied: urllib3<3,>=1.21.1 in c:\\users\\acer\\appdata\\local\\programs\\python\\python38\\lib\\site-packages (from requests<3,>=2.21.0->tensorboard<2.14,>=2.13->tensorflow-intel==2.13.0->tensorflow) (2.2.2)\n",
      "Requirement already satisfied: idna<4,>=2.5 in c:\\users\\acer\\appdata\\local\\programs\\python\\python38\\lib\\site-packages (from requests<3,>=2.21.0->tensorboard<2.14,>=2.13->tensorflow-intel==2.13.0->tensorflow) (3.7)\n",
      "Requirement already satisfied: oauthlib>=3.0.0 in c:\\users\\acer\\appdata\\local\\programs\\python\\python38\\lib\\site-packages (from requests-oauthlib>=0.7.0->google-auth-oauthlib<1.1,>=0.5->tensorboard<2.14,>=2.13->tensorflow-intel==2.13.0->tensorflow) (3.2.2)\n",
      "Requirement already satisfied: MarkupSafe>=2.1.1 in c:\\users\\acer\\appdata\\local\\programs\\python\\python38\\lib\\site-packages (from werkzeug>=1.0.1->tensorboard<2.14,>=2.13->tensorflow-intel==2.13.0->tensorflow) (2.1.5)\n",
      "Note: you may need to restart the kernel to use updated packages.\n"
     ]
    },
    {
     "name": "stderr",
     "output_type": "stream",
     "text": [
      "WARNING: You are using pip version 21.1.1; however, version 24.1.2 is available.\n",
      "You should consider upgrading via the 'c:\\Users\\acer\\AppData\\Local\\Programs\\Python\\Python38\\python.exe -m pip install --upgrade pip' command.\n"
     ]
    }
   ],
   "source": [
    "%pip install tensorflow"
   ]
  },
  {
   "cell_type": "markdown",
   "metadata": {},
   "source": [
    "--------------------------------------------------------------------------\n",
    "We are using Tokenizer to divide the sentences into a list of words.\n",
    "\n",
    "fit_on_texts:\n",
    "The fit_on_texts method is used to create the vocabulary index based on the frequency of words in corpus (collection of texts).It will then count the occurrences of each word across all texts.And then it assigns a unique integer index to each word based on its frequency, with the most frequent word getting the smallest index (typically starting from 1).For example, \n",
    "``` python\n",
    "texts = [\n",
    "    'Hello, how are you?',\n",
    "    'I am doing well, thank you!',\n",
    "    'What is your name?',\n",
    "    'My name is xxxx.'\n",
    "]\n",
    "tokenizer = Tokenizer()\n",
    "tokenizer.fit_on_texts(texts)\n",
    "\n",
    "output: {'is': 1, 'name': 2, 'hello': 3, 'how': 4, 'are': 5, 'you': 6, 'i': 7, 'am': 8, 'doing': 9, 'well': 10, 'thank': 11, 'what': 12, 'your': 13, 'my': 14, 'xxxx': 15}\n",
    "\n",
    "texts_to_sequences: The texts_to_sequences method converts text into sequence of integers where each integer corresponds to a word (based on the word_index created by fit_on_texts). For example,\n",
    "\n",
    "xtrain = tokenizer.texts_to_sequences(xtrain)\n",
    "print(xtrain)\n",
    "\n",
    "Output:\n",
    "[3, 4, 5, 6]\n",
    "[7, 8, 9, 10, 11]\n",
    "[12, 1, 13, 2]\n",
    "[14, 2, 1, 15]\n",
    "\n",
    "```\n"
   ]
  },
  {
   "cell_type": "code",
   "execution_count": 25,
   "metadata": {},
   "outputs": [],
   "source": [
    "from keras.preprocessing.text import Tokenizer\n",
    "words = Tokenizer()\n",
    "words.fit_on_texts(xtrain) \n",
    "\n",
    "xtrain = words.texts_to_sequences(xtrain)\n",
    "xtest = words.texts_to_sequences(xtest)"
   ]
  },
  {
   "cell_type": "code",
   "execution_count": 26,
   "metadata": {},
   "outputs": [
    {
     "data": {
      "text/plain": [
       "[21, 122, 4033, 6604, 531]"
      ]
     },
     "execution_count": 26,
     "metadata": {},
     "output_type": "execute_result"
    }
   ],
   "source": [
    "xtrain[0][:5]"
   ]
  },
  {
   "cell_type": "code",
   "execution_count": 27,
   "metadata": {},
   "outputs": [
    {
     "data": {
      "text/plain": [
       "{'br': 1,\n",
       " 'movie': 2,\n",
       " 'film': 3,\n",
       " 'one': 4,\n",
       " 'like': 5,\n",
       " 'good': 6,\n",
       " 'time': 7,\n",
       " 'even': 8,\n",
       " 'would': 9,\n",
       " 'story': 10,\n",
       " 'really': 11,\n",
       " 'see': 12,\n",
       " 'well': 13,\n",
       " 'much': 14,\n",
       " 'bad': 15,\n",
       " 'get': 16,\n",
       " 'great': 17,\n",
       " 'people': 18,\n",
       " 'also': 19,\n",
       " 'first': 20,\n",
       " 'made': 21,\n",
       " 'make': 22,\n",
       " 'way': 23,\n",
       " 'could': 24,\n",
       " 'movies': 25,\n",
       " 'characters': 26,\n",
       " 'think': 27,\n",
       " 'watch': 28,\n",
       " 'character': 29,\n",
       " 'films': 30,\n",
       " 'two': 31,\n",
       " 'many': 32,\n",
       " 'seen': 33,\n",
       " 'never': 34,\n",
       " 'love': 35,\n",
       " 'life': 36,\n",
       " 'acting': 37,\n",
       " 'plot': 38,\n",
       " 'show': 39,\n",
       " 'little': 40,\n",
       " 'best': 41,\n",
       " 'know': 42,\n",
       " 'ever': 43,\n",
       " 'man': 44,\n",
       " 'better': 45,\n",
       " 'end': 46,\n",
       " 'scene': 47,\n",
       " 'still': 48,\n",
       " 'say': 49,\n",
       " 'scenes': 50,\n",
       " 'go': 51,\n",
       " 'something': 52,\n",
       " 'back': 53,\n",
       " 'real': 54,\n",
       " 'watching': 55,\n",
       " 'thing': 56,\n",
       " 'actors': 57,\n",
       " 'years': 58,\n",
       " 'director': 59,\n",
       " 'though': 60,\n",
       " 'funny': 61,\n",
       " 'another': 62,\n",
       " 'work': 63,\n",
       " 'old': 64,\n",
       " 'nothing': 65,\n",
       " 'actually': 66,\n",
       " 'makes': 67,\n",
       " 'look': 68,\n",
       " 'find': 69,\n",
       " 'going': 70,\n",
       " 'new': 71,\n",
       " 'every': 72,\n",
       " 'lot': 73,\n",
       " 'part': 74,\n",
       " 'cast': 75,\n",
       " 'world': 76,\n",
       " 'things': 77,\n",
       " 'horror': 78,\n",
       " 'us': 79,\n",
       " 'quite': 80,\n",
       " 'want': 81,\n",
       " 'pretty': 82,\n",
       " 'seems': 83,\n",
       " 'around': 84,\n",
       " 'young': 85,\n",
       " 'take': 86,\n",
       " 'big': 87,\n",
       " 'however': 88,\n",
       " 'got': 89,\n",
       " 'fact': 90,\n",
       " 'enough': 91,\n",
       " 'thought': 92,\n",
       " 'long': 93,\n",
       " 'give': 94,\n",
       " 'may': 95,\n",
       " 'comedy': 96,\n",
       " 'series': 97,\n",
       " 'right': 98,\n",
       " 'must': 99,\n",
       " 'without': 100,\n",
       " 'music': 101,\n",
       " 'saw': 102,\n",
       " 'action': 103,\n",
       " 'come': 104,\n",
       " 'guy': 105,\n",
       " 'original': 106,\n",
       " 'always': 107,\n",
       " 'times': 108,\n",
       " 'role': 109,\n",
       " 'almost': 110,\n",
       " 'point': 111,\n",
       " 'gets': 112,\n",
       " 'interesting': 113,\n",
       " 'least': 114,\n",
       " 'done': 115,\n",
       " 'whole': 116,\n",
       " 'bit': 117,\n",
       " 'far': 118,\n",
       " 'script': 119,\n",
       " 'feel': 120,\n",
       " 'family': 121,\n",
       " 'minutes': 122,\n",
       " 'might': 123,\n",
       " 'anything': 124,\n",
       " 'making': 125,\n",
       " 'last': 126,\n",
       " 'since': 127,\n",
       " 'tv': 128,\n",
       " 'probably': 129,\n",
       " 'performance': 130,\n",
       " 'away': 131,\n",
       " 'kind': 132,\n",
       " 'girl': 133,\n",
       " 'yet': 134,\n",
       " 'fun': 135,\n",
       " 'woman': 136,\n",
       " 'worst': 137,\n",
       " 'anyone': 138,\n",
       " 'sure': 139,\n",
       " 'rather': 140,\n",
       " 'day': 141,\n",
       " 'played': 142,\n",
       " 'hard': 143,\n",
       " 'found': 144,\n",
       " 'screen': 145,\n",
       " 'although': 146,\n",
       " 'looking': 147,\n",
       " 'believe': 148,\n",
       " 'trying': 149,\n",
       " 'especially': 150,\n",
       " 'dvd': 151,\n",
       " 'course': 152,\n",
       " 'set': 153,\n",
       " 'everything': 154,\n",
       " 'goes': 155,\n",
       " 'place': 156,\n",
       " 'comes': 157,\n",
       " 'book': 158,\n",
       " 'ending': 159,\n",
       " 'put': 160,\n",
       " 'maybe': 161,\n",
       " 'worth': 162,\n",
       " 'different': 163,\n",
       " 'three': 164,\n",
       " 'shows': 165,\n",
       " 'actor': 166,\n",
       " 'main': 167,\n",
       " 'let': 168,\n",
       " 'sense': 169,\n",
       " 'american': 170,\n",
       " 'reason': 171,\n",
       " 'someone': 172,\n",
       " 'true': 173,\n",
       " 'everyone': 174,\n",
       " 'year': 175,\n",
       " 'play': 176,\n",
       " 'effects': 177,\n",
       " 'job': 178,\n",
       " 'looks': 179,\n",
       " 'money': 180,\n",
       " 'war': 181,\n",
       " 'together': 182,\n",
       " 'watched': 183,\n",
       " 'audience': 184,\n",
       " 'later': 185,\n",
       " 'plays': 186,\n",
       " 'half': 187,\n",
       " 'instead': 188,\n",
       " 'high': 189,\n",
       " 'said': 190,\n",
       " 'takes': 191,\n",
       " 'special': 192,\n",
       " 'black': 193,\n",
       " 'night': 194,\n",
       " 'john': 195,\n",
       " 'seem': 196,\n",
       " 'left': 197,\n",
       " 'wife': 198,\n",
       " 'seeing': 199,\n",
       " 'beautiful': 200,\n",
       " 'house': 201,\n",
       " 'version': 202,\n",
       " 'shot': 203,\n",
       " 'excellent': 204,\n",
       " 'idea': 205,\n",
       " 'else': 206,\n",
       " 'star': 207,\n",
       " 'mind': 208,\n",
       " 'father': 209,\n",
       " 'fan': 210,\n",
       " 'death': 211,\n",
       " 'budget': 212,\n",
       " 'simply': 213,\n",
       " 'short': 214,\n",
       " 'completely': 215,\n",
       " 'used': 216,\n",
       " 'second': 217,\n",
       " 'nice': 218,\n",
       " 'poor': 219,\n",
       " 'men': 220,\n",
       " 'less': 221,\n",
       " 'along': 222,\n",
       " 'read': 223,\n",
       " 'top': 224,\n",
       " 'either': 225,\n",
       " 'line': 226,\n",
       " 'dead': 227,\n",
       " 'hollywood': 228,\n",
       " 'camera': 229,\n",
       " 'help': 230,\n",
       " 'home': 231,\n",
       " 'low': 232,\n",
       " 'friends': 233,\n",
       " 'boring': 234,\n",
       " 'production': 235,\n",
       " 'stupid': 236,\n",
       " 'women': 237,\n",
       " 'need': 238,\n",
       " 'wrong': 239,\n",
       " 'kids': 240,\n",
       " 'enjoy': 241,\n",
       " 'given': 242,\n",
       " 'try': 243,\n",
       " 'classic': 244,\n",
       " 'full': 245,\n",
       " 'school': 246,\n",
       " 'use': 247,\n",
       " 'rest': 248,\n",
       " 'next': 249,\n",
       " 'couple': 250,\n",
       " 'performances': 251,\n",
       " 'awful': 252,\n",
       " 'video': 253,\n",
       " 'sex': 254,\n",
       " 'start': 255,\n",
       " 'truly': 256,\n",
       " 'recommend': 257,\n",
       " 'tell': 258,\n",
       " 'perhaps': 259,\n",
       " 'understand': 260,\n",
       " 'mean': 261,\n",
       " 'getting': 262,\n",
       " 'terrible': 263,\n",
       " 'came': 264,\n",
       " 'remember': 265,\n",
       " 'moments': 266,\n",
       " 'name': 267,\n",
       " 'face': 268,\n",
       " 'wonderful': 269,\n",
       " 'mother': 270,\n",
       " 'human': 271,\n",
       " 'keep': 272,\n",
       " 'person': 273,\n",
       " 'small': 274,\n",
       " 'style': 275,\n",
       " 'episode': 276,\n",
       " 'others': 277,\n",
       " 'early': 278,\n",
       " 'stars': 279,\n",
       " 'boy': 280,\n",
       " 'playing': 281,\n",
       " 'head': 282,\n",
       " 'often': 283,\n",
       " 'definitely': 284,\n",
       " 'gives': 285,\n",
       " 'perfect': 286,\n",
       " 'piece': 287,\n",
       " 'children': 288,\n",
       " 'written': 289,\n",
       " 'cinema': 290,\n",
       " 'title': 291,\n",
       " 'lines': 292,\n",
       " 'live': 293,\n",
       " 'finally': 294,\n",
       " 'absolutely': 295,\n",
       " 'yes': 296,\n",
       " 'dialogue': 297,\n",
       " 'certainly': 298,\n",
       " 'oh': 299,\n",
       " 'went': 300,\n",
       " 'laugh': 301,\n",
       " 'case': 302,\n",
       " 'become': 303,\n",
       " 'lost': 304,\n",
       " 'liked': 305,\n",
       " 'called': 306,\n",
       " 'supposed': 307,\n",
       " 'friend': 308,\n",
       " 'hope': 309,\n",
       " 'entertaining': 310,\n",
       " 'sort': 311,\n",
       " 'picture': 312,\n",
       " 'worse': 313,\n",
       " 'based': 314,\n",
       " 'loved': 315,\n",
       " 'entire': 316,\n",
       " 'mr': 317,\n",
       " 'several': 318,\n",
       " 'felt': 319,\n",
       " 'overall': 320,\n",
       " 'drama': 321,\n",
       " 'problem': 322,\n",
       " 'sound': 323,\n",
       " 'waste': 324,\n",
       " 'dark': 325,\n",
       " 'white': 326,\n",
       " 'beginning': 327,\n",
       " 'guys': 328,\n",
       " 'fans': 329,\n",
       " 'seemed': 330,\n",
       " 'totally': 331,\n",
       " 'direction': 332,\n",
       " 'care': 333,\n",
       " 'lead': 334,\n",
       " 'example': 335,\n",
       " 'game': 336,\n",
       " 'despite': 337,\n",
       " 'lives': 338,\n",
       " 'wanted': 339,\n",
       " 'humor': 340,\n",
       " 'already': 341,\n",
       " 'turn': 342,\n",
       " 'evil': 343,\n",
       " 'becomes': 344,\n",
       " 'guess': 345,\n",
       " 'throughout': 346,\n",
       " 'final': 347,\n",
       " 'unfortunately': 348,\n",
       " 'history': 349,\n",
       " 'able': 350,\n",
       " 'michael': 351,\n",
       " 'son': 352,\n",
       " 'killer': 353,\n",
       " 'heart': 354,\n",
       " 'days': 355,\n",
       " 'flick': 356,\n",
       " 'quality': 357,\n",
       " 'writing': 358,\n",
       " 'fine': 359,\n",
       " 'art': 360,\n",
       " 'town': 361,\n",
       " 'wants': 362,\n",
       " 'run': 363,\n",
       " 'side': 364,\n",
       " 'horrible': 365,\n",
       " 'today': 366,\n",
       " 'close': 367,\n",
       " 'act': 368,\n",
       " 'amazing': 369,\n",
       " 'god': 370,\n",
       " 'child': 371,\n",
       " 'works': 372,\n",
       " 'matter': 373,\n",
       " 'kill': 374,\n",
       " 'parts': 375,\n",
       " 'car': 376,\n",
       " 'enjoyed': 377,\n",
       " 'past': 378,\n",
       " 'gave': 379,\n",
       " 'brilliant': 380,\n",
       " 'tries': 381,\n",
       " 'genre': 382,\n",
       " 'behind': 383,\n",
       " 'stuff': 384,\n",
       " 'etc': 385,\n",
       " 'eyes': 386,\n",
       " 'viewer': 387,\n",
       " 'kid': 388,\n",
       " 'directed': 389,\n",
       " 'city': 390,\n",
       " 'turns': 391,\n",
       " 'late': 392,\n",
       " 'hand': 393,\n",
       " 'favorite': 394,\n",
       " 'hour': 395,\n",
       " 'expect': 396,\n",
       " 'soon': 397,\n",
       " 'actress': 398,\n",
       " 'daughter': 399,\n",
       " 'thinking': 400,\n",
       " 'highly': 401,\n",
       " 'obviously': 402,\n",
       " 'sometimes': 403,\n",
       " 'girls': 404,\n",
       " 'decent': 405,\n",
       " 'type': 406,\n",
       " 'says': 407,\n",
       " 'stop': 408,\n",
       " 'took': 409,\n",
       " 'self': 410,\n",
       " 'feeling': 411,\n",
       " 'killed': 412,\n",
       " 'fight': 413,\n",
       " 'starts': 414,\n",
       " 'anyway': 415,\n",
       " 'happens': 416,\n",
       " 'except': 417,\n",
       " 'group': 418,\n",
       " 'experience': 419,\n",
       " 'blood': 420,\n",
       " 'heard': 421,\n",
       " 'known': 422,\n",
       " 'writer': 423,\n",
       " 'voice': 424,\n",
       " 'leave': 425,\n",
       " 'coming': 426,\n",
       " 'stories': 427,\n",
       " 'brother': 428,\n",
       " 'slow': 429,\n",
       " 'police': 430,\n",
       " 'chance': 431,\n",
       " 'score': 432,\n",
       " 'strong': 433,\n",
       " 'violence': 434,\n",
       " 'told': 435,\n",
       " 'hell': 436,\n",
       " 'moment': 437,\n",
       " 'happen': 438,\n",
       " 'involved': 439,\n",
       " 'hit': 440,\n",
       " 'simple': 441,\n",
       " 'hero': 442,\n",
       " 'hilarious': 443,\n",
       " 'ok': 444,\n",
       " 'including': 445,\n",
       " 'lack': 446,\n",
       " 'extremely': 447,\n",
       " 'murder': 448,\n",
       " 'cannot': 449,\n",
       " 'roles': 450,\n",
       " 'wonder': 451,\n",
       " 'living': 452,\n",
       " 'cool': 453,\n",
       " 'save': 454,\n",
       " 'obvious': 455,\n",
       " 'shown': 456,\n",
       " 'crap': 457,\n",
       " 'particularly': 458,\n",
       " 'age': 459,\n",
       " 'serious': 460,\n",
       " 'gore': 461,\n",
       " 'david': 462,\n",
       " 'attempt': 463,\n",
       " 'husband': 464,\n",
       " 'happened': 465,\n",
       " 'looked': 466,\n",
       " 'james': 467,\n",
       " 'cut': 468,\n",
       " 'ago': 469,\n",
       " 'english': 470,\n",
       " 'robert': 471,\n",
       " 'complete': 472,\n",
       " 'please': 473,\n",
       " 'released': 474,\n",
       " 'none': 475,\n",
       " 'song': 476,\n",
       " 'taken': 477,\n",
       " 'seriously': 478,\n",
       " 'exactly': 479,\n",
       " 'jokes': 480,\n",
       " 'career': 481,\n",
       " 'reality': 482,\n",
       " 'interest': 483,\n",
       " 'possible': 484,\n",
       " 'number': 485,\n",
       " 'alone': 486,\n",
       " 'across': 487,\n",
       " 'sad': 488,\n",
       " 'documentary': 489,\n",
       " 'hours': 490,\n",
       " 'running': 491,\n",
       " 'opening': 492,\n",
       " 'talent': 493,\n",
       " 'saying': 494,\n",
       " 'usually': 495,\n",
       " 'order': 496,\n",
       " 'huge': 497,\n",
       " 'word': 498,\n",
       " 'taking': 499,\n",
       " 'view': 500,\n",
       " 'light': 501,\n",
       " 'relationship': 502,\n",
       " 'ridiculous': 503,\n",
       " 'level': 504,\n",
       " 'body': 505,\n",
       " 'scary': 506,\n",
       " 'cinematography': 507,\n",
       " 'important': 508,\n",
       " 'annoying': 509,\n",
       " 'ends': 510,\n",
       " 'call': 511,\n",
       " 'four': 512,\n",
       " 'major': 513,\n",
       " 'wish': 514,\n",
       " 'knew': 515,\n",
       " 'whose': 516,\n",
       " 'female': 517,\n",
       " 'country': 518,\n",
       " 'shots': 519,\n",
       " 'mostly': 520,\n",
       " 'silly': 521,\n",
       " 'strange': 522,\n",
       " 'started': 523,\n",
       " 'room': 524,\n",
       " 'opinion': 525,\n",
       " 'modern': 526,\n",
       " 'usual': 527,\n",
       " 'talking': 528,\n",
       " 'novel': 529,\n",
       " 'ones': 530,\n",
       " 'turned': 531,\n",
       " 'middle': 532,\n",
       " 'beyond': 533,\n",
       " 'happy': 534,\n",
       " 'upon': 535,\n",
       " 'power': 536,\n",
       " 'somewhat': 537,\n",
       " 'change': 538,\n",
       " 'cheap': 539,\n",
       " 'rating': 540,\n",
       " 'attention': 541,\n",
       " 'due': 542,\n",
       " 'finds': 543,\n",
       " 'words': 544,\n",
       " 'knows': 545,\n",
       " 'disappointed': 546,\n",
       " 'single': 547,\n",
       " 'non': 548,\n",
       " 'apparently': 549,\n",
       " 'episodes': 550,\n",
       " 'problems': 551,\n",
       " 'musical': 552,\n",
       " 'thriller': 553,\n",
       " 'basically': 554,\n",
       " 'jack': 555,\n",
       " 'earth': 556,\n",
       " 'television': 557,\n",
       " 'clearly': 558,\n",
       " 'local': 559,\n",
       " 'clich': 560,\n",
       " 'team': 561,\n",
       " 'king': 562,\n",
       " 'talk': 563,\n",
       " 'french': 564,\n",
       " 'five': 565,\n",
       " 'sequence': 566,\n",
       " 'comic': 567,\n",
       " 'class': 568,\n",
       " 'sets': 569,\n",
       " 'george': 570,\n",
       " 'events': 571,\n",
       " 'british': 572,\n",
       " 'miss': 573,\n",
       " 'moving': 574,\n",
       " 'tells': 575,\n",
       " 'predictable': 576,\n",
       " 'romantic': 577,\n",
       " 'monster': 578,\n",
       " 'whether': 579,\n",
       " 'add': 580,\n",
       " 'die': 581,\n",
       " 'straight': 582,\n",
       " 'fast': 583,\n",
       " 'songs': 584,\n",
       " 'review': 585,\n",
       " 'future': 586,\n",
       " 'entertainment': 587,\n",
       " 'appears': 588,\n",
       " 'ten': 589,\n",
       " 'easily': 590,\n",
       " 'dialog': 591,\n",
       " 'supporting': 592,\n",
       " 'soundtrack': 593,\n",
       " 'eye': 594,\n",
       " 'clear': 595,\n",
       " 'space': 596,\n",
       " 'enjoyable': 597,\n",
       " 'release': 598,\n",
       " 'rock': 599,\n",
       " 'filmed': 600,\n",
       " 'similar': 601,\n",
       " 'surprised': 602,\n",
       " 'giving': 603,\n",
       " 'lots': 604,\n",
       " 'sequel': 605,\n",
       " 'needs': 606,\n",
       " 'theater': 607,\n",
       " 'message': 608,\n",
       " 'dull': 609,\n",
       " 'ways': 610,\n",
       " 'mention': 611,\n",
       " 'bring': 612,\n",
       " 'hate': 613,\n",
       " 'sister': 614,\n",
       " 'showing': 615,\n",
       " 'tried': 616,\n",
       " 'falls': 617,\n",
       " 'working': 618,\n",
       " 'bunch': 619,\n",
       " 'dog': 620,\n",
       " 'within': 621,\n",
       " 'sorry': 622,\n",
       " 'near': 623,\n",
       " 'easy': 624,\n",
       " 'certain': 625,\n",
       " 'effort': 626,\n",
       " 'theme': 627,\n",
       " 'minute': 628,\n",
       " 'lady': 629,\n",
       " 'gone': 630,\n",
       " 'storyline': 631,\n",
       " 'named': 632,\n",
       " 'stay': 633,\n",
       " 'feature': 634,\n",
       " 'among': 635,\n",
       " 'buy': 636,\n",
       " 'dr': 637,\n",
       " 'kept': 638,\n",
       " 'editing': 639,\n",
       " 'parents': 640,\n",
       " 'fall': 641,\n",
       " 'stand': 642,\n",
       " 'typical': 643,\n",
       " 'tale': 644,\n",
       " 'deal': 645,\n",
       " 'feels': 646,\n",
       " 'fantastic': 647,\n",
       " 'suspense': 648,\n",
       " 'richard': 649,\n",
       " 'comments': 650,\n",
       " 'mystery': 651,\n",
       " 'viewing': 652,\n",
       " 'doubt': 653,\n",
       " 'elements': 654,\n",
       " 'actual': 655,\n",
       " 'peter': 656,\n",
       " 'avoid': 657,\n",
       " 'general': 658,\n",
       " 'subject': 659,\n",
       " 'paul': 660,\n",
       " 'okay': 661,\n",
       " 'realistic': 662,\n",
       " 'red': 663,\n",
       " 'follow': 664,\n",
       " 'nearly': 665,\n",
       " 'famous': 666,\n",
       " 'oscar': 667,\n",
       " 'points': 668,\n",
       " 'check': 669,\n",
       " 'means': 670,\n",
       " 'using': 671,\n",
       " 'form': 672,\n",
       " 'th': 673,\n",
       " 'rent': 674,\n",
       " 'believable': 675,\n",
       " 'viewers': 676,\n",
       " 'crime': 677,\n",
       " 'tom': 678,\n",
       " 'move': 679,\n",
       " 'greatest': 680,\n",
       " 'imagine': 681,\n",
       " 'dance': 682,\n",
       " 'material': 683,\n",
       " 'sit': 684,\n",
       " 'leads': 685,\n",
       " 'somehow': 686,\n",
       " 'imdb': 687,\n",
       " 'hear': 688,\n",
       " 'begins': 689,\n",
       " 'brought': 690,\n",
       " 'forget': 691,\n",
       " 'reviews': 692,\n",
       " 'period': 693,\n",
       " 'killing': 694,\n",
       " 'premise': 695,\n",
       " 'fi': 696,\n",
       " 'wait': 697,\n",
       " 'society': 698,\n",
       " 'learn': 699,\n",
       " 'atmosphere': 700,\n",
       " 'doctor': 701,\n",
       " 'sequences': 702,\n",
       " 'sci': 703,\n",
       " 'surprise': 704,\n",
       " 'average': 705,\n",
       " 'animation': 706,\n",
       " 'lame': 707,\n",
       " 'weak': 708,\n",
       " 'whatever': 709,\n",
       " 'figure': 710,\n",
       " 'america': 711,\n",
       " 'note': 712,\n",
       " 'truth': 713,\n",
       " 'york': 714,\n",
       " 'indeed': 715,\n",
       " 'eventually': 716,\n",
       " 'box': 717,\n",
       " 'lee': 718,\n",
       " 'expected': 719,\n",
       " 'boys': 720,\n",
       " 'decided': 721,\n",
       " 'open': 722,\n",
       " 'western': 723,\n",
       " 'deep': 724,\n",
       " 'gay': 725,\n",
       " 'particular': 726,\n",
       " 'third': 727,\n",
       " 'hot': 728,\n",
       " 'situation': 729,\n",
       " 'de': 730,\n",
       " 'begin': 731,\n",
       " 'credits': 732,\n",
       " 'difficult': 733,\n",
       " 'shame': 734,\n",
       " 'free': 735,\n",
       " 'became': 736,\n",
       " 'leaves': 737,\n",
       " 'question': 738,\n",
       " 'needed': 739,\n",
       " 'emotional': 740,\n",
       " 'cheesy': 741,\n",
       " 'poorly': 742,\n",
       " 'sexual': 743,\n",
       " 'memorable': 744,\n",
       " 'footage': 745,\n",
       " 'nature': 746,\n",
       " 'romance': 747,\n",
       " 'season': 748,\n",
       " 'possibly': 749,\n",
       " 'write': 750,\n",
       " 'crew': 751,\n",
       " 'unless': 752,\n",
       " 'street': 753,\n",
       " 'acted': 754,\n",
       " 'forced': 755,\n",
       " 'meet': 756,\n",
       " 'perfectly': 757,\n",
       " 'plus': 758,\n",
       " 'male': 759,\n",
       " 'baby': 760,\n",
       " 'effect': 761,\n",
       " 'meets': 762,\n",
       " 'beauty': 763,\n",
       " 'otherwise': 764,\n",
       " 'quickly': 765,\n",
       " 'japanese': 766,\n",
       " 'air': 767,\n",
       " 'reading': 768,\n",
       " 'previous': 769,\n",
       " 'stage': 770,\n",
       " 'badly': 771,\n",
       " 'hands': 772,\n",
       " 'screenplay': 773,\n",
       " 'joe': 774,\n",
       " 'superb': 775,\n",
       " 'forward': 776,\n",
       " 'personal': 777,\n",
       " 'masterpiece': 778,\n",
       " 'cop': 779,\n",
       " 'comment': 780,\n",
       " 'sounds': 781,\n",
       " 'battle': 782,\n",
       " 'features': 783,\n",
       " 'setting': 784,\n",
       " 'weird': 785,\n",
       " 'earlier': 786,\n",
       " 'girlfriend': 787,\n",
       " 'crazy': 788,\n",
       " 'dream': 789,\n",
       " 'towards': 790,\n",
       " 'creepy': 791,\n",
       " 'total': 792,\n",
       " 'incredibly': 793,\n",
       " 'worked': 794,\n",
       " 'result': 795,\n",
       " 'background': 796,\n",
       " 'powerful': 797,\n",
       " 'unique': 798,\n",
       " 'laughs': 799,\n",
       " 'interested': 800,\n",
       " 'keeps': 801,\n",
       " 'mess': 802,\n",
       " 'mark': 803,\n",
       " 'disney': 804,\n",
       " 'inside': 805,\n",
       " 'older': 806,\n",
       " 'rate': 807,\n",
       " 'island': 808,\n",
       " 'dramatic': 809,\n",
       " 'writers': 810,\n",
       " 'pay': 811,\n",
       " 'various': 812,\n",
       " 'copy': 813,\n",
       " 'brings': 814,\n",
       " 'directing': 815,\n",
       " 'realize': 816,\n",
       " 'directors': 817,\n",
       " 'fire': 818,\n",
       " 'front': 819,\n",
       " 'development': 820,\n",
       " 'appear': 821,\n",
       " 'portrayed': 822,\n",
       " 'joke': 823,\n",
       " 'plenty': 824,\n",
       " 'fairly': 825,\n",
       " 'business': 826,\n",
       " 'dumb': 827,\n",
       " 'break': 828,\n",
       " 'deserves': 829,\n",
       " 'leading': 830,\n",
       " 'return': 831,\n",
       " 'rich': 832,\n",
       " 'ask': 833,\n",
       " 'era': 834,\n",
       " 'apart': 835,\n",
       " 'admit': 836,\n",
       " 'following': 837,\n",
       " 'spent': 838,\n",
       " 'german': 839,\n",
       " 'secret': 840,\n",
       " 'bill': 841,\n",
       " 'political': 842,\n",
       " 'outside': 843,\n",
       " 'water': 844,\n",
       " 'william': 845,\n",
       " 'gun': 846,\n",
       " 'cover': 847,\n",
       " 'fighting': 848,\n",
       " 'unlike': 849,\n",
       " 'party': 850,\n",
       " 'present': 851,\n",
       " 'zombie': 852,\n",
       " 'list': 853,\n",
       " 'fails': 854,\n",
       " 'create': 855,\n",
       " 'match': 856,\n",
       " 'reasons': 857,\n",
       " 'caught': 858,\n",
       " 'telling': 859,\n",
       " 'plain': 860,\n",
       " 'ended': 861,\n",
       " 'odd': 862,\n",
       " 'missing': 863,\n",
       " 'fantasy': 864,\n",
       " 'cute': 865,\n",
       " 'laughing': 866,\n",
       " 'recently': 867,\n",
       " 'expecting': 868,\n",
       " 'manages': 869,\n",
       " 'twist': 870,\n",
       " 'wasted': 871,\n",
       " 'agree': 872,\n",
       " 'ideas': 873,\n",
       " 'meant': 874,\n",
       " 'produced': 875,\n",
       " 'large': 876,\n",
       " 'talented': 877,\n",
       " 'villain': 878,\n",
       " 'hardly': 879,\n",
       " 'clever': 880,\n",
       " 'success': 881,\n",
       " 'attempts': 882,\n",
       " 'spoilers': 883,\n",
       " 'members': 884,\n",
       " 'scott': 885,\n",
       " 'filmmakers': 886,\n",
       " 'jane': 887,\n",
       " 'potential': 888,\n",
       " 'nudity': 889,\n",
       " 'filled': 890,\n",
       " 'public': 891,\n",
       " 'office': 892,\n",
       " 'cold': 893,\n",
       " 'company': 894,\n",
       " 'created': 895,\n",
       " 'remake': 896,\n",
       " 'waiting': 897,\n",
       " 'wrote': 898,\n",
       " 'cartoon': 899,\n",
       " 'escape': 900,\n",
       " 'state': 901,\n",
       " 'pace': 902,\n",
       " 'incredible': 903,\n",
       " 'science': 904,\n",
       " 'pure': 905,\n",
       " 'married': 906,\n",
       " 'flat': 907,\n",
       " 'century': 908,\n",
       " 'visual': 909,\n",
       " 'italian': 910,\n",
       " 'died': 911,\n",
       " 'missed': 912,\n",
       " 'slightly': 913,\n",
       " 'cause': 914,\n",
       " 'sadly': 915,\n",
       " 'co': 916,\n",
       " 'hold': 917,\n",
       " 'casting': 918,\n",
       " 'train': 919,\n",
       " 'la': 920,\n",
       " 'store': 921,\n",
       " 'considering': 922,\n",
       " 'entirely': 923,\n",
       " 'suddenly': 924,\n",
       " 'speak': 925,\n",
       " 'popular': 926,\n",
       " 'tension': 927,\n",
       " 'sees': 928,\n",
       " 'language': 929,\n",
       " 'familiar': 930,\n",
       " 'decides': 931,\n",
       " 'social': 932,\n",
       " 'van': 933,\n",
       " 'portrayal': 934,\n",
       " 'credit': 935,\n",
       " 'mentioned': 936,\n",
       " 'alive': 937,\n",
       " 'anti': 938,\n",
       " 'dancing': 939,\n",
       " 'concept': 940,\n",
       " 'uses': 941,\n",
       " 'trouble': 942,\n",
       " 'alien': 943,\n",
       " 'sweet': 944,\n",
       " 'mad': 945,\n",
       " 'amount': 946,\n",
       " 'hair': 947,\n",
       " 'culture': 948,\n",
       " 'law': 949,\n",
       " 'appreciate': 950,\n",
       " 'band': 951,\n",
       " 'brothers': 952,\n",
       " 'neither': 953,\n",
       " 'follows': 954,\n",
       " 'fear': 955,\n",
       " 'recommended': 956,\n",
       " 'younger': 957,\n",
       " 'value': 958,\n",
       " 'compared': 959,\n",
       " 'intelligent': 960,\n",
       " 'force': 961,\n",
       " 'common': 962,\n",
       " 'convincing': 963,\n",
       " 'yeah': 964,\n",
       " 'fiction': 965,\n",
       " 'images': 966,\n",
       " 'violent': 967,\n",
       " 'depth': 968,\n",
       " 'project': 969,\n",
       " 'moves': 970,\n",
       " 'situations': 971,\n",
       " 'college': 972,\n",
       " 'producers': 973,\n",
       " 'christmas': 974,\n",
       " 'biggest': 975,\n",
       " 'former': 976,\n",
       " 'fit': 977,\n",
       " 'bored': 978,\n",
       " 'control': 979,\n",
       " 'ultimately': 980,\n",
       " 'choice': 981,\n",
       " 'pointless': 982,\n",
       " 'bizarre': 983,\n",
       " 'honest': 984,\n",
       " 'post': 985,\n",
       " 'spend': 986,\n",
       " 'exciting': 987,\n",
       " 'meaning': 988,\n",
       " 'ben': 989,\n",
       " 'effective': 990,\n",
       " 'pathetic': 991,\n",
       " 'successful': 992,\n",
       " 'kills': 993,\n",
       " 'master': 994,\n",
       " 'consider': 995,\n",
       " 'longer': 996,\n",
       " 'recent': 997,\n",
       " 'blue': 998,\n",
       " 'sick': 999,\n",
       " 'awesome': 1000,\n",
       " ...}"
      ]
     },
     "execution_count": 27,
     "metadata": {},
     "output_type": "execute_result"
    }
   ],
   "source": [
    "words.word_index"
   ]
  },
  {
   "cell_type": "markdown",
   "metadata": {},
   "source": [
    "### Get Vocab length"
   ]
  },
  {
   "cell_type": "code",
   "execution_count": 28,
   "metadata": {},
   "outputs": [
    {
     "data": {
      "text/plain": [
       "90513"
      ]
     },
     "execution_count": 28,
     "metadata": {},
     "output_type": "execute_result"
    }
   ],
   "source": [
    "vocab_len = len(words.word_index) + 1\n",
    "vocab_len"
   ]
  },
  {
   "cell_type": "markdown",
   "metadata": {},
   "source": [
    "### Perform padding on your sequences\n",
    "\n",
    "Before feeding the extracted texts to the Neural Network model, padding method is used inorder to maintain uniformity in the data.\n",
    "\n",
    "Padding method ensures that all sequences are of the same length.It pads shorter sequences with a special token(0) and truncates longer sequences. \n",
    "\n",
    "input: input sequences\n",
    "\n",
    "maxleng: We provided maximum length of each sequence, which either pads or truncates the sequence based on its size.\n",
    "\n",
    "padding: Specifies whether to pad sequences at the beginning (pre) or at the end (post) of the sequences.\n",
    "\n",
    "truncating: Determines how to truncate sequences longer than maxlen (either pre or post)."
   ]
  },
  {
   "cell_type": "code",
   "execution_count": 29,
   "metadata": {},
   "outputs": [],
   "source": [
    "from keras.utils import pad_sequences\n",
    "maxlen= 100\n",
    "xtrain = pad_sequences(xtrain,maxlen,padding='post')\n",
    "xtest = pad_sequences(xtest,maxlen,padding='post')"
   ]
  },
  {
   "cell_type": "code",
   "execution_count": 30,
   "metadata": {},
   "outputs": [
    {
     "data": {
      "text/plain": [
       "array([   21,   122,  4033,  6604,   531, 23643,  3799,   183,   249,\n",
       "         141,   366,  3758,  2431,  1534,   721,  1215,     2,  3799,\n",
       "         260,   471,  8218,  9722, 56416,   838,  1903,   783,   895,\n",
       "          31,  1656,    25,   134,    31,   817,  4588,    23,   180,\n",
       "       14146,   497,  8219,  2431,   457,   168,    12,   710,  2029,\n",
       "        1053,  3782,     5,   586,   723,    16, 10935,    57,    69,\n",
       "        2653,  4182,  2793,   750,   119,   986,   212,   619,  3474,\n",
       "        1466,     1,     1,   478,    27,     8,  2625,   328,    24,\n",
       "        3997,  6605,    55,   257,   262,  1755,    20,     0,     0,\n",
       "           0,     0,     0,     0,     0,     0,     0,     0,     0,\n",
       "           0,     0,     0,     0,     0,     0,     0,     0,     0,\n",
       "           0])"
      ]
     },
     "execution_count": 30,
     "metadata": {},
     "output_type": "execute_result"
    }
   ],
   "source": [
    "xtrain[0]"
   ]
  },
  {
   "cell_type": "markdown",
   "metadata": {},
   "source": [
    "### Import the embeddings from the GLOVE model"
   ]
  },
  {
   "cell_type": "code",
   "execution_count": 31,
   "metadata": {},
   "outputs": [],
   "source": [
    "from numpy import asarray,zeros"
   ]
  },
  {
   "cell_type": "code",
   "execution_count": 32,
   "metadata": {},
   "outputs": [
    {
     "data": {
      "text/plain": [
       "array([[0., 0.],\n",
       "       [0., 0.],\n",
       "       [0., 0.]])"
      ]
     },
     "execution_count": 32,
     "metadata": {},
     "output_type": "execute_result"
    }
   ],
   "source": [
    "zeros((3,2))"
   ]
  },
  {
   "cell_type": "code",
   "execution_count": 33,
   "metadata": {},
   "outputs": [],
   "source": [
    "embedding_dictionary = dict()\n",
    "glove_file = open('glove.6B.100d.txt',encoding='utf-8')\n",
    "\n",
    "for line in glove_file:\n",
    "    records = line.split()\n",
    "    word = records[0]\n",
    "    vector_dimension = asarray(records[1:],dtype='float32')\n",
    "    embedding_dictionary[word] = vector_dimension\n",
    "glove_file.close()"
   ]
  },
  {
   "cell_type": "markdown",
   "metadata": {},
   "source": [
    "In the above code, we are using pre-trained Glove model to create a dictionary of words and their corresponding vector values.\n",
    "\n",
    "embedding_dictionary : created an empty dictionary where we will store word embeddings.\n",
    "\n",
    "glove_file: Loaded the pre-trained Glove file 'glove.6B.100d.txt' where each line starts with a word followed by its embeddings vector values.\n",
    "\n",
    "for line in glove_file : Used for loop to iterate through each line in the file.\n",
    "\n",
    "records = line.split() : Each line starts with a word, followed by its embedding vector values. So we are splitting the contents to access records[0] and records[1:]\n",
    "\n",
    "word = records[0] : We are storing the word situated at records[0] position\n",
    "\n",
    "vector_dimension = asarray(records[1:],dtype='float32') : Numpy asarray converts embedded values stored at records[1:] position into array\n",
    "\n",
    "embedding_dictionary[word] = vector_dimension : Stores the word as key and vector array as values in embedding_dictionary dictionary \n",
    "\n",
    "glove_file.close(): close the file"
   ]
  },
  {
   "cell_type": "markdown",
   "metadata": {},
   "source": [
    "### Embedding matrix creation"
   ]
  },
  {
   "cell_type": "code",
   "execution_count": 34,
   "metadata": {},
   "outputs": [
    {
     "data": {
      "text/plain": [
       "array([[0., 0., 0., ..., 0., 0., 0.],\n",
       "       [0., 0., 0., ..., 0., 0., 0.],\n",
       "       [0., 0., 0., ..., 0., 0., 0.],\n",
       "       ...,\n",
       "       [0., 0., 0., ..., 0., 0., 0.],\n",
       "       [0., 0., 0., ..., 0., 0., 0.],\n",
       "       [0., 0., 0., ..., 0., 0., 0.]])"
      ]
     },
     "execution_count": 34,
     "metadata": {},
     "output_type": "execute_result"
    }
   ],
   "source": [
    "embedding_matrix = zeros((vocab_len,100))\n",
    "embedding_matrix"
   ]
  },
  {
   "cell_type": "code",
   "execution_count": 35,
   "metadata": {},
   "outputs": [],
   "source": [
    "for word,index in words.word_index.items():\n",
    "    embedding_vector = embedding_dictionary.get(word)\n",
    "    if embedding_vector is not None:\n",
    "        embedding_matrix[index] = embedding_vector"
   ]
  },
  {
   "cell_type": "code",
   "execution_count": 36,
   "metadata": {},
   "outputs": [
    {
     "data": {
      "text/plain": [
       "array([[ 0.        ,  0.        ,  0.        , ...,  0.        ,\n",
       "         0.        ,  0.        ],\n",
       "       [ 0.19788   ,  0.25264999, -0.28308001, ..., -0.44062999,\n",
       "        -0.74264997, -0.3215    ],\n",
       "       [ 0.38251001,  0.14821   ,  0.60601002, ...,  0.058921  ,\n",
       "         0.091112  ,  0.47283   ],\n",
       "       ...,\n",
       "       [ 0.        ,  0.        ,  0.        , ...,  0.        ,\n",
       "         0.        ,  0.        ],\n",
       "       [ 0.        ,  0.        ,  0.        , ...,  0.        ,\n",
       "         0.        ,  0.        ],\n",
       "       [ 0.        ,  0.        ,  0.        , ...,  0.        ,\n",
       "         0.        ,  0.        ]])"
      ]
     },
     "execution_count": 36,
     "metadata": {},
     "output_type": "execute_result"
    }
   ],
   "source": [
    "embedding_matrix"
   ]
  },
  {
   "cell_type": "code",
   "execution_count": 37,
   "metadata": {},
   "outputs": [
    {
     "data": {
      "text/plain": [
       "(90513, 100)"
      ]
     },
     "execution_count": 37,
     "metadata": {},
     "output_type": "execute_result"
    }
   ],
   "source": [
    "embedding_matrix.shape"
   ]
  },
  {
   "cell_type": "markdown",
   "metadata": {},
   "source": [
    "### Build the Neural Network"
   ]
  },
  {
   "cell_type": "code",
   "execution_count": 38,
   "metadata": {},
   "outputs": [],
   "source": [
    "from keras.models import Sequential\n",
    "from keras.layers import Embedding,Dense,LSTM"
   ]
  },
  {
   "cell_type": "code",
   "execution_count": 39,
   "metadata": {},
   "outputs": [],
   "source": [
    "# Model\n",
    "lstm_model = Sequential()\n",
    "\n",
    "# Layer1 : Add Embedding layer\n",
    "embedding_layer = Embedding(input_dim=vocab_len,output_dim=100,weights= [embedding_matrix],input_length=maxlen,trainable=False)\n",
    "lstm_model.add(embedding_layer)\n",
    "\n",
    "# Layer2 : Add LSTM\n",
    "lstm_model.add(LSTM(128))\n",
    "\n",
    "# Layer3: Add Dense layer\n",
    "lstm_model.add(Dense(1,activation='sigmoid'))"
   ]
  },
  {
   "cell_type": "code",
   "execution_count": 40,
   "metadata": {},
   "outputs": [
    {
     "name": "stdout",
     "output_type": "stream",
     "text": [
      "Model: \"sequential\"\n",
      "_________________________________________________________________\n",
      " Layer (type)                Output Shape              Param #   \n",
      "=================================================================\n",
      " embedding (Embedding)       (None, 100, 100)          9051300   \n",
      "                                                                 \n",
      " lstm (LSTM)                 (None, 128)               117248    \n",
      "                                                                 \n",
      " dense (Dense)               (None, 1)                 129       \n",
      "                                                                 \n",
      "=================================================================\n",
      "Total params: 9168677 (34.98 MB)\n",
      "Trainable params: 117377 (458.50 KB)\n",
      "Non-trainable params: 9051300 (34.53 MB)\n",
      "_________________________________________________________________\n"
     ]
    }
   ],
   "source": [
    "lstm_model.summary()"
   ]
  },
  {
   "cell_type": "markdown",
   "metadata": {},
   "source": [
    "### Compile the model"
   ]
  },
  {
   "cell_type": "code",
   "execution_count": 41,
   "metadata": {},
   "outputs": [],
   "source": [
    "lstm_model.compile(optimizer='adam', loss='binary_crossentropy', metrics=['accuracy'])"
   ]
  },
  {
   "cell_type": "code",
   "execution_count": 42,
   "metadata": {},
   "outputs": [
    {
     "name": "stdout",
     "output_type": "stream",
     "text": [
      "Epoch 1/15\n",
      "248/248 [==============================] - 105s 407ms/step - loss: 0.5115 - accuracy: 0.7498 - val_loss: 0.4400 - val_accuracy: 0.7965\n",
      "Epoch 2/15\n",
      "248/248 [==============================] - 98s 397ms/step - loss: 0.4186 - accuracy: 0.8134 - val_loss: 0.4619 - val_accuracy: 0.8117\n",
      "Epoch 3/15\n",
      "248/248 [==============================] - 98s 397ms/step - loss: 0.3763 - accuracy: 0.8375 - val_loss: 0.4327 - val_accuracy: 0.7817\n",
      "Epoch 4/15\n",
      "248/248 [==============================] - 98s 396ms/step - loss: 0.3455 - accuracy: 0.8538 - val_loss: 0.3533 - val_accuracy: 0.8472\n",
      "Epoch 5/15\n",
      "248/248 [==============================] - 98s 396ms/step - loss: 0.3178 - accuracy: 0.8669 - val_loss: 0.3546 - val_accuracy: 0.8581\n",
      "Epoch 6/15\n",
      "248/248 [==============================] - 98s 394ms/step - loss: 0.3038 - accuracy: 0.8739 - val_loss: 0.3350 - val_accuracy: 0.8587\n",
      "Epoch 7/15\n",
      "248/248 [==============================] - 97s 393ms/step - loss: 0.2863 - accuracy: 0.8818 - val_loss: 0.3336 - val_accuracy: 0.8547\n",
      "Epoch 8/15\n",
      "248/248 [==============================] - 486s 2s/step - loss: 0.2657 - accuracy: 0.8923 - val_loss: 0.3339 - val_accuracy: 0.8598\n",
      "Epoch 9/15\n",
      "248/248 [==============================] - 1202s 5s/step - loss: 0.2518 - accuracy: 0.8976 - val_loss: 0.3333 - val_accuracy: 0.8569\n",
      "Epoch 10/15\n",
      "248/248 [==============================] - 923s 4s/step - loss: 0.2333 - accuracy: 0.9067 - val_loss: 0.3395 - val_accuracy: 0.8562\n",
      "Epoch 11/15\n",
      "248/248 [==============================] - 103s 414ms/step - loss: 0.2221 - accuracy: 0.9102 - val_loss: 0.3357 - val_accuracy: 0.8631\n",
      "Epoch 12/15\n",
      "248/248 [==============================] - 107s 432ms/step - loss: 0.1984 - accuracy: 0.9223 - val_loss: 0.3476 - val_accuracy: 0.8554\n",
      "Epoch 13/15\n",
      "248/248 [==============================] - 159s 643ms/step - loss: 0.1773 - accuracy: 0.9317 - val_loss: 0.4027 - val_accuracy: 0.8612\n",
      "Epoch 14/15\n",
      "248/248 [==============================] - 108s 437ms/step - loss: 0.1576 - accuracy: 0.9413 - val_loss: 0.4091 - val_accuracy: 0.8622\n",
      "Epoch 15/15\n",
      "248/248 [==============================] - 15487s 63s/step - loss: 0.1391 - accuracy: 0.9496 - val_loss: 0.3857 - val_accuracy: 0.8497\n"
     ]
    }
   ],
   "source": [
    "hist = lstm_model.fit(xtrain,ytrain,validation_split=0.2,epochs=15,batch_size=128)"
   ]
  },
  {
   "cell_type": "markdown",
   "metadata": {},
   "source": [
    "### Plot the learning curve"
   ]
  },
  {
   "cell_type": "code",
   "execution_count": 47,
   "metadata": {},
   "outputs": [
    {
     "name": "stdout",
     "output_type": "stream",
     "text": [
      "Requirement already satisfied: matplotlib in c:\\users\\acer\\appdata\\local\\programs\\python\\python38\\lib\\site-packages (3.7.5)\n",
      "Requirement already satisfied: cycler>=0.10 in c:\\users\\acer\\appdata\\local\\programs\\python\\python38\\lib\\site-packages (from matplotlib) (0.12.1)\n",
      "Requirement already satisfied: importlib-resources>=3.2.0 in c:\\users\\acer\\appdata\\local\\programs\\python\\python38\\lib\\site-packages (from matplotlib) (6.4.0)\n",
      "Requirement already satisfied: numpy<2,>=1.20 in c:\\users\\acer\\appdata\\local\\programs\\python\\python38\\lib\\site-packages (from matplotlib) (1.24.3)\n",
      "Requirement already satisfied: pyparsing>=2.3.1 in c:\\users\\acer\\appdata\\local\\programs\\python\\python38\\lib\\site-packages (from matplotlib) (3.1.2)\n",
      "Requirement already satisfied: python-dateutil>=2.7 in c:\\users\\acer\\appdata\\roaming\\python\\python38\\site-packages (from matplotlib) (2.9.0.post0)\n",
      "Requirement already satisfied: fonttools>=4.22.0 in c:\\users\\acer\\appdata\\local\\programs\\python\\python38\\lib\\site-packages (from matplotlib) (4.53.1)\n",
      "Requirement already satisfied: kiwisolver>=1.0.1 in c:\\users\\acer\\appdata\\local\\programs\\python\\python38\\lib\\site-packages (from matplotlib) (1.4.5)\n",
      "Requirement already satisfied: pillow>=6.2.0 in c:\\users\\acer\\appdata\\local\\programs\\python\\python38\\lib\\site-packages (from matplotlib) (10.4.0)\n",
      "Requirement already satisfied: packaging>=20.0 in c:\\users\\acer\\appdata\\roaming\\python\\python38\\site-packages (from matplotlib) (24.1)\n",
      "Requirement already satisfied: contourpy>=1.0.1 in c:\\users\\acer\\appdata\\local\\programs\\python\\python38\\lib\\site-packages (from matplotlib) (1.1.1)\n",
      "Requirement already satisfied: zipp>=3.1.0 in c:\\users\\acer\\appdata\\roaming\\python\\python38\\site-packages (from importlib-resources>=3.2.0->matplotlib) (3.19.2)\n",
      "Requirement already satisfied: six>=1.5 in c:\\users\\acer\\appdata\\roaming\\python\\python38\\site-packages (from python-dateutil>=2.7->matplotlib) (1.16.0)\n",
      "Note: you may need to restart the kernel to use updated packages.\n"
     ]
    },
    {
     "name": "stderr",
     "output_type": "stream",
     "text": [
      "WARNING: You are using pip version 21.1.1; however, version 24.1.2 is available.\n",
      "You should consider upgrading via the 'c:\\Users\\acer\\AppData\\Local\\Programs\\Python\\Python38\\python.exe -m pip install --upgrade pip' command.\n"
     ]
    }
   ],
   "source": [
    "%pip install matplotlib"
   ]
  },
  {
   "cell_type": "code",
   "execution_count": 48,
   "metadata": {},
   "outputs": [
    {
     "name": "stderr",
     "output_type": "stream",
     "text": [
      "Matplotlib is building the font cache; this may take a moment.\n"
     ]
    },
    {
     "data": {
      "image/png": "[encoded data removed]",
      "text/plain": [
       "<Figure size 1200x600 with 1 Axes>"
      ]
     },
     "metadata": {},
     "output_type": "display_data"
    }
   ],
   "source": [
    "import matplotlib.pyplot as plt\n",
    "\n",
    "plt.figure(figsize=(12,6))\n",
    "plt.plot(hist.history['loss'],label='Training Loss')\n",
    "plt.plot(hist.history['val_loss'],label='Validation Loss')\n",
    "plt.xlabel('Epochs')\n",
    "plt.ylabel('Binary Crossentropy')\n",
    "plt.title('Learning Curve')\n",
    "plt.legend()\n",
    "plt.show()"
   ]
  },
  {
   "cell_type": "markdown",
   "metadata": {},
   "source": [
    "### Evaluate the model"
   ]
  },
  {
   "cell_type": "code",
   "execution_count": 49,
   "metadata": {},
   "outputs": [
    {
     "name": "stdout",
     "output_type": "stream",
     "text": [
      "1240/1240 [==============================] - 121s 98ms/step - loss: 0.1795 - accuracy: 0.9384\n"
     ]
    },
    {
     "data": {
      "text/plain": [
       "[0.17950904369354248, 0.938383936882019]"
      ]
     },
     "execution_count": 49,
     "metadata": {},
     "output_type": "execute_result"
    }
   ],
   "source": [
    "lstm_model.evaluate(xtrain,ytrain)"
   ]
  },
  {
   "cell_type": "code",
   "execution_count": 50,
   "metadata": {},
   "outputs": [
    {
     "name": "stdout",
     "output_type": "stream",
     "text": [
      "310/310 [==============================] - 22s 70ms/step - loss: 0.3676 - accuracy: 0.8555\n"
     ]
    },
    {
     "data": {
      "text/plain": [
       "[0.3675791323184967, 0.8555006384849548]"
      ]
     },
     "execution_count": 50,
     "metadata": {},
     "output_type": "execute_result"
    }
   ],
   "source": [
    "lstm_model.evaluate(xtest,ytest)"
   ]
  },
  {
   "cell_type": "markdown",
   "metadata": {},
   "source": [
    "### Predict test data"
   ]
  },
  {
   "cell_type": "code",
   "execution_count": 51,
   "metadata": {},
   "outputs": [
    {
     "name": "stdout",
     "output_type": "stream",
     "text": [
      "310/310 [==============================] - 23s 61ms/step\n"
     ]
    }
   ],
   "source": [
    "yprobs_test = lstm_model.predict(xtest)"
   ]
  },
  {
   "cell_type": "code",
   "execution_count": 52,
   "metadata": {},
   "outputs": [],
   "source": [
    "ypred_test = []\n",
    "\n",
    "for i in yprobs_test:\n",
    "    if i>=0.5:\n",
    "        ypred_test.append(1)\n",
    "    else:\n",
    "        ypred_test.append(0)"
   ]
  },
  {
   "cell_type": "code",
   "execution_count": 53,
   "metadata": {},
   "outputs": [
    {
     "data": {
      "text/plain": [
       "[0, 1, 0, 0, 1]"
      ]
     },
     "execution_count": 53,
     "metadata": {},
     "output_type": "execute_result"
    }
   ],
   "source": [
    "ypred_test[:5]"
   ]
  },
  {
   "cell_type": "code",
   "execution_count": 54,
   "metadata": {},
   "outputs": [
    {
     "data": {
      "text/plain": [
       "array([0, 1, 0, 0, 1], dtype=int64)"
      ]
     },
     "execution_count": 54,
     "metadata": {},
     "output_type": "execute_result"
    }
   ],
   "source": [
    "ytest[:5]"
   ]
  },
  {
   "cell_type": "markdown",
   "metadata": {},
   "source": [
    "### Let's build Confusion matrix and Classification report to check the f1 score accuracy"
   ]
  },
  {
   "cell_type": "code",
   "execution_count": 55,
   "metadata": {},
   "outputs": [
    {
     "data": {
      "text/plain": [
       "<sklearn.metrics._plot.confusion_matrix.ConfusionMatrixDisplay at 0x22e686d0730>"
      ]
     },
     "execution_count": 55,
     "metadata": {},
     "output_type": "execute_result"
    },
    {
     "data": {
      "image/png": "[encoded data removed]",
      "text/plain": [
       "<Figure size 640x480 with 2 Axes>"
      ]
     },
     "metadata": {},
     "output_type": "display_data"
    }
   ],
   "source": [
    "from sklearn.metrics import confusion_matrix,ConfusionMatrixDisplay\n",
    "cf = confusion_matrix(ytest,ypred_test)\n",
    "ConfusionMatrixDisplay(cf).plot()"
   ]
  },
  {
   "cell_type": "code",
   "execution_count": 56,
   "metadata": {},
   "outputs": [
    {
     "name": "stdout",
     "output_type": "stream",
     "text": [
      "              precision    recall  f1-score   support\n",
      "\n",
      "           0       0.82      0.90      0.86      4908\n",
      "           1       0.89      0.81      0.85      5009\n",
      "\n",
      "    accuracy                           0.86      9917\n",
      "   macro avg       0.86      0.86      0.86      9917\n",
      "weighted avg       0.86      0.86      0.86      9917\n",
      "\n"
     ]
    }
   ],
   "source": [
    "from sklearn.metrics import classification_report\n",
    "print(classification_report(ytest,ypred_test))"
   ]
  },
  {
   "cell_type": "markdown",
   "metadata": {},
   "source": [
    "### Predict the model with unseen data"
   ]
  },
  {
   "cell_type": "code",
   "execution_count": 58,
   "metadata": {},
   "outputs": [
    {
     "data": {
      "text/html": [
       "<div>\n",
       "<style scoped>\n",
       "    .dataframe tbody tr th:only-of-type {\n",
       "        vertical-align: middle;\n",
       "    }\n",
       "\n",
       "    .dataframe tbody tr th {\n",
       "        vertical-align: top;\n",
       "    }\n",
       "\n",
       "    .dataframe thead th {\n",
       "        text-align: right;\n",
       "    }\n",
       "</style>\n",
       "<table border=\"1\" class=\"dataframe\">\n",
       "  <thead>\n",
       "    <tr style=\"text-align: right;\">\n",
       "      <th></th>\n",
       "      <th>Unnamed: 0</th>\n",
       "      <th>Movie</th>\n",
       "      <th>Review Text</th>\n",
       "      <th>IMDb Rating</th>\n",
       "    </tr>\n",
       "  </thead>\n",
       "  <tbody>\n",
       "    <tr>\n",
       "      <th>0</th>\n",
       "      <td>0</td>\n",
       "      <td>Ex Machina</td>\n",
       "      <td>Intelligent Movie.\\nThis movie is obviously al...</td>\n",
       "      <td>9</td>\n",
       "    </tr>\n",
       "    <tr>\n",
       "      <th>1</th>\n",
       "      <td>1</td>\n",
       "      <td>Ex Machina</td>\n",
       "      <td>Extraordinary and thought-provoking.\\n'Ex mach...</td>\n",
       "      <td>10</td>\n",
       "    </tr>\n",
       "    <tr>\n",
       "      <th>2</th>\n",
       "      <td>2</td>\n",
       "      <td>Ex Machina</td>\n",
       "      <td>Poor story, only reasonable otherwise.\\nIf I h...</td>\n",
       "      <td>3</td>\n",
       "    </tr>\n",
       "    <tr>\n",
       "      <th>3</th>\n",
       "      <td>3</td>\n",
       "      <td>Ex Machina</td>\n",
       "      <td>Had Great Potential.\\nThis movie is one of the...</td>\n",
       "      <td>1</td>\n",
       "    </tr>\n",
       "    <tr>\n",
       "      <th>4</th>\n",
       "      <td>4</td>\n",
       "      <td>Eternals</td>\n",
       "      <td>Amazing visuals and philosophical concepts!\\n\\...</td>\n",
       "      <td>10</td>\n",
       "    </tr>\n",
       "  </tbody>\n",
       "</table>\n",
       "</div>"
      ],
      "text/plain": [
       "   Unnamed: 0       Movie                                        Review Text  \\\n",
       "0           0  Ex Machina  Intelligent Movie.\\nThis movie is obviously al...   \n",
       "1           1  Ex Machina  Extraordinary and thought-provoking.\\n'Ex mach...   \n",
       "2           2  Ex Machina  Poor story, only reasonable otherwise.\\nIf I h...   \n",
       "3           3  Ex Machina  Had Great Potential.\\nThis movie is one of the...   \n",
       "4           4    Eternals  Amazing visuals and philosophical concepts!\\n\\...   \n",
       "\n",
       "   IMDb Rating  \n",
       "0            9  \n",
       "1           10  \n",
       "2            3  \n",
       "3            1  \n",
       "4           10  "
      ]
     },
     "execution_count": 58,
     "metadata": {},
     "output_type": "execute_result"
    }
   ],
   "source": [
    "sample_df = pd.read_csv('a3_IMDb_Unseen_Reviews.csv')\n",
    "sample_df.head()"
   ]
  },
  {
   "cell_type": "code",
   "execution_count": 59,
   "metadata": {},
   "outputs": [
    {
     "data": {
      "text/plain": [
       "0    Intelligent Movie.\\nThis movie is obviously al...\n",
       "1    Extraordinary and thought-provoking.\\n'Ex mach...\n",
       "2    Poor story, only reasonable otherwise.\\nIf I h...\n",
       "3    Had Great Potential.\\nThis movie is one of the...\n",
       "4    Amazing visuals and philosophical concepts!\\n\\...\n",
       "5    Worst MCU film ever\\n\\nFollowing the events of...\n",
       "Name: Review Text, dtype: object"
      ]
     },
     "execution_count": 59,
     "metadata": {},
     "output_type": "execute_result"
    }
   ],
   "source": [
    "unseen_reviews = sample_df['Review Text']\n",
    "unseen_reviews"
   ]
  },
  {
   "cell_type": "markdown",
   "metadata": {},
   "source": [
    "Let's use the above defined 'preprocess_text' function to preprocess the review text from unseen_reviews list"
   ]
  },
  {
   "cell_type": "code",
   "execution_count": 60,
   "metadata": {},
   "outputs": [
    {
     "data": {
      "text/plain": [
       "['intelligent movie movie obviously allegorical fascinating tale ai mainly manipulation power wanting action spectacular cgi movie aimed people like think rather passively wait entertained themes ai also surveillance excellent points data us collected phone companies search engine companies commercial operating systems makers plot seems simple extremely clever protagonist playing games trying stay one step ahead one another movie perfectly consistent internal logic plays perfectly go expecting much however see people satisfied movie sets brilliantly therefore give least recent movies getting movie succeeds another recent movie ai transcendence think called failed interesting failure third movie ai spanish movie called eva also brilliant eva moving movie philosophical movies perfect different ways ai name movie ava seems nod title spanish movie aside nice stars appeared ex machina eva casting great course several aspects movie unrealistic often absurd allegorical movie acceptable movie making points rather striving realism fairytale accurate portrayal ',\n",
       " 'extraordinary thought provoking ex machina surprisingly dense titles alex garland written perhaps excepting annihilation simple concept given definite narrative narrative pointedly explores nature thought perception broaching nature ramifications morality psychological thriller fundamental construction minute rendering alike intense feature genre name offhand much almost classify horror movie emphasizes plays dire uncertainty intent motivation reality way climax even leaves us somewhat ambiguous ending ordinary beginning captivating ending every point ex machina absolutely marvelous performance seen oscar isaac none nearly forceful portrayal nathan exhibiting outstanding nuance sharp personality realization man exceptionally intelligent exceptionally cruel conniving especially familiar domhnall gleeson irish actor demonstrates admirable range poise readily matching traits immediately notable costars said certainly count anyone else involved alicia vikander phenomenal ava showing careful exactness every motion expression befitting character impressing skills subtle ways love score composed ben salisbury geoff barrow lending pensive unease film building great crescendo precise appropriate moments sound design exquisite soft unobtrusive qualities denoting meticulous craft feature highly advanced status ava special effects read little bit production history informs substantial effort made ensure every element nathan creation visualized utmost possibility realism think endeavor paid handsomely characters written wonderfully complex dialogue deceptively garland scene writing impeccable deeply engrossing say nothing overall narrative delves heavy subject matter even aware acclaim feature garnered since release wholly sure expect sat watch got far exceeded anything imagined mostly stepping away significantly common story ideas populate sci fi films artificial intelligence garland screenplay analyzes consciousness depth completeness potency anticipated genre picture result terrifically engaging exhilarating factor sound performances excellent music ex machina firmly first rate slice science fiction call must see ',\n",
       " 'poor story reasonable otherwise realised alex garland would bothered watching remember reading book beach years ago thinking something nice time sure seen ex machina feeling story chosen simply appeal large audience rather manipulative unthinking unfeeling way normally write bad reviews anything preferring focus positive dislike felt write something put people wasting time assimilating nastiness case ex machina imagine garland wondering would next project googling ai quickly finding ai box experiment rather heart soul searching work would necessary produce anything original imagine quickly turning somebody else idea next big proposal present film studio unoriginal idea presented fairly pedestrian way lots images derived young person view sexuality made also wonder film rather prejudiced women reasonably paced found yawning lot quite would expect good thriller domhnall gleeson ok pretty good job ',\n",
       " 'great potential movie one countless come hollywood great potential however like many personalities hollywood sold soul cheap finish beautiful ideas movie could great however producers chose go cheap thriller effect instead exploring truly makes us human machine conceived written produced idiots soul waste time redeeming part movie dweeb gets sent sticks surprised smartphone tell signal producers writers piece crap obviously signal also ',\n",
       " 'amazing visuals philosophical concepts eternals visual masterpiece inner challenges eternals face great signifier mcu moving mature meaningful phase look deeper plot events significance appreciate detail put timeline spans thousands years low underwhelming ratings seem obviously place despite fact many people loved mcu couple buff guys sexualised women transition mcu going inevitable franchise supported generations quite frankly awesome besides stunning visuals deep undertones chloe zhao certainly packs enough fight scenes possibly needed eternal represents unique power connected source cosmic energy variability allows exhilarating fight scenes arguably interesting couple punches kicks stray flying weapon love stories quaint meaningful certainly take much run time overall new age maturity deeper concepts seen movie definitely something look forward phase ',\n",
       " 'worst mcu film ever following events avengers endgame unexpected tragedy forces eternals ancient aliens living earth secret thousands years shadows reunite mankind ancient enemy deviants film far worst mcu film watch massive insuylt comics jack kirby days gender swapping eternals bad story telling makes absolutely sense unlikeable characters little action ridicules changes mcu sum bad film completely ruined endgame goods music cgi arishen well bonus points voiced david kaye good movie makes captain marvel iron man look good ']"
      ]
     },
     "execution_count": 60,
     "metadata": {},
     "output_type": "execute_result"
    }
   ],
   "source": [
    "unseen_pre = []\n",
    "\n",
    "for i in unseen_reviews:\n",
    "    unseen_pre.append(preprocess_text(i))\n",
    "unseen_pre"
   ]
  },
  {
   "cell_type": "code",
   "execution_count": 61,
   "metadata": {},
   "outputs": [],
   "source": [
    "## Performing tokenization and padding \n",
    "unseen_tokenized = words.texts_to_sequences(unseen_pre)\n",
    "unseen_padded = pad_sequences(unseen_tokenized,maxlen,padding='post')"
   ]
  },
  {
   "cell_type": "code",
   "execution_count": 62,
   "metadata": {},
   "outputs": [
    {
     "data": {
      "text/plain": [
       "array([  137,     3,    43,   837,   571, 14632, 29554,  1958,  1435,\n",
       "        1772,  2170,  1801,   452,   556,   840,  2817,    58,  3176,\n",
       "        8947,  4323,  2170,  2079, 30428,     3,   118,   137,     3,\n",
       "          28,  2332,  3549,   555, 18517,   355,  4844, 16873,    15,\n",
       "          10,   859,    67,   295,   169,  5073,    26,    40,   103,\n",
       "       13411,  1245,  2846,    15,     3,   215,  2236, 29554,  6136,\n",
       "         101,  1434,    13,  4111,   668,  4394,   462, 13495,     6,\n",
       "           2,    67,  1395,  5458,  3758,    44,    68,     6,     0,\n",
       "           0,     0,     0,     0,     0,     0,     0,     0,     0,\n",
       "           0,     0,     0,     0,     0,     0,     0,     0,     0,\n",
       "           0,     0,     0,     0,     0,     0,     0,     0,     0,\n",
       "           0])"
      ]
     },
     "execution_count": 62,
     "metadata": {},
     "output_type": "execute_result"
    }
   ],
   "source": [
    "unseen_padded[-1]"
   ]
  },
  {
   "cell_type": "markdown",
   "metadata": {},
   "source": [
    "### Predict the target feature - sentiments"
   ]
  },
  {
   "cell_type": "code",
   "execution_count": 63,
   "metadata": {},
   "outputs": [
    {
     "name": "stdout",
     "output_type": "stream",
     "text": [
      "1/1 [==============================] - 0s 96ms/step\n"
     ]
    },
    {
     "data": {
      "text/plain": [
       "array([[0.9645251 ],\n",
       "       [0.9996777 ],\n",
       "       [0.04073429],\n",
       "       [0.04695107],\n",
       "       [0.9950991 ],\n",
       "       [0.00474196]], dtype=float32)"
      ]
     },
     "execution_count": 63,
     "metadata": {},
     "output_type": "execute_result"
    }
   ],
   "source": [
    "sentiments = lstm_model.predict(unseen_padded)\n",
    "sentiments"
   ]
  },
  {
   "cell_type": "code",
   "execution_count": 64,
   "metadata": {},
   "outputs": [
    {
     "data": {
      "text/plain": [
       "array([[9.645251  ],\n",
       "       [9.996778  ],\n",
       "       [0.40734288],\n",
       "       [0.4695107 ],\n",
       "       [9.950992  ],\n",
       "       [0.0474196 ]], dtype=float32)"
      ]
     },
     "execution_count": 64,
     "metadata": {},
     "output_type": "execute_result"
    }
   ],
   "source": [
    "imdb_reviews = sentiments*10\n",
    "imdb_reviews"
   ]
  },
  {
   "cell_type": "code",
   "execution_count": 65,
   "metadata": {},
   "outputs": [],
   "source": [
    "final_sentiment = []\n",
    "for i in sentiments:\n",
    "    if i >=0.5:\n",
    "        final_sentiment.append('Positive')\n",
    "    else:\n",
    "        final_sentiment.append('Negative')"
   ]
  },
  {
   "cell_type": "code",
   "execution_count": 66,
   "metadata": {},
   "outputs": [
    {
     "data": {
      "text/plain": [
       "['Positive', 'Positive', 'Negative', 'Negative', 'Positive', 'Negative']"
      ]
     },
     "execution_count": 66,
     "metadata": {},
     "output_type": "execute_result"
    }
   ],
   "source": [
    "final_sentiment"
   ]
  },
  {
   "cell_type": "code",
   "execution_count": 67,
   "metadata": {},
   "outputs": [],
   "source": [
    "sample_df['LSTM Sentiments'] = imdb_reviews\n",
    "sample_df['Final Sentiments'] = final_sentiment"
   ]
  },
  {
   "cell_type": "code",
   "execution_count": 68,
   "metadata": {},
   "outputs": [
    {
     "data": {
      "text/html": [
       "<div>\n",
       "<style scoped>\n",
       "    .dataframe tbody tr th:only-of-type {\n",
       "        vertical-align: middle;\n",
       "    }\n",
       "\n",
       "    .dataframe tbody tr th {\n",
       "        vertical-align: top;\n",
       "    }\n",
       "\n",
       "    .dataframe thead th {\n",
       "        text-align: right;\n",
       "    }\n",
       "</style>\n",
       "<table border=\"1\" class=\"dataframe\">\n",
       "  <thead>\n",
       "    <tr style=\"text-align: right;\">\n",
       "      <th></th>\n",
       "      <th>Unnamed: 0</th>\n",
       "      <th>Movie</th>\n",
       "      <th>Review Text</th>\n",
       "      <th>IMDb Rating</th>\n",
       "      <th>LSTM Sentiments</th>\n",
       "      <th>Final Sentiments</th>\n",
       "    </tr>\n",
       "  </thead>\n",
       "  <tbody>\n",
       "    <tr>\n",
       "      <th>0</th>\n",
       "      <td>0</td>\n",
       "      <td>Ex Machina</td>\n",
       "      <td>Intelligent Movie.\\nThis movie is obviously al...</td>\n",
       "      <td>9</td>\n",
       "      <td>9.645251</td>\n",
       "      <td>Positive</td>\n",
       "    </tr>\n",
       "    <tr>\n",
       "      <th>1</th>\n",
       "      <td>1</td>\n",
       "      <td>Ex Machina</td>\n",
       "      <td>Extraordinary and thought-provoking.\\n'Ex mach...</td>\n",
       "      <td>10</td>\n",
       "      <td>9.996778</td>\n",
       "      <td>Positive</td>\n",
       "    </tr>\n",
       "    <tr>\n",
       "      <th>2</th>\n",
       "      <td>2</td>\n",
       "      <td>Ex Machina</td>\n",
       "      <td>Poor story, only reasonable otherwise.\\nIf I h...</td>\n",
       "      <td>3</td>\n",
       "      <td>0.407343</td>\n",
       "      <td>Negative</td>\n",
       "    </tr>\n",
       "    <tr>\n",
       "      <th>3</th>\n",
       "      <td>3</td>\n",
       "      <td>Ex Machina</td>\n",
       "      <td>Had Great Potential.\\nThis movie is one of the...</td>\n",
       "      <td>1</td>\n",
       "      <td>0.469511</td>\n",
       "      <td>Negative</td>\n",
       "    </tr>\n",
       "    <tr>\n",
       "      <th>4</th>\n",
       "      <td>4</td>\n",
       "      <td>Eternals</td>\n",
       "      <td>Amazing visuals and philosophical concepts!\\n\\...</td>\n",
       "      <td>10</td>\n",
       "      <td>9.950992</td>\n",
       "      <td>Positive</td>\n",
       "    </tr>\n",
       "    <tr>\n",
       "      <th>5</th>\n",
       "      <td>5</td>\n",
       "      <td>Eternals</td>\n",
       "      <td>Worst MCU film ever\\n\\nFollowing the events of...</td>\n",
       "      <td>3</td>\n",
       "      <td>0.047420</td>\n",
       "      <td>Negative</td>\n",
       "    </tr>\n",
       "  </tbody>\n",
       "</table>\n",
       "</div>"
      ],
      "text/plain": [
       "   Unnamed: 0       Movie                                        Review Text  \\\n",
       "0           0  Ex Machina  Intelligent Movie.\\nThis movie is obviously al...   \n",
       "1           1  Ex Machina  Extraordinary and thought-provoking.\\n'Ex mach...   \n",
       "2           2  Ex Machina  Poor story, only reasonable otherwise.\\nIf I h...   \n",
       "3           3  Ex Machina  Had Great Potential.\\nThis movie is one of the...   \n",
       "4           4    Eternals  Amazing visuals and philosophical concepts!\\n\\...   \n",
       "5           5    Eternals  Worst MCU film ever\\n\\nFollowing the events of...   \n",
       "\n",
       "   IMDb Rating  LSTM Sentiments Final Sentiments  \n",
       "0            9         9.645251         Positive  \n",
       "1           10         9.996778         Positive  \n",
       "2            3         0.407343         Negative  \n",
       "3            1         0.469511         Negative  \n",
       "4           10         9.950992         Positive  \n",
       "5            3         0.047420         Negative  "
      ]
     },
     "execution_count": 68,
     "metadata": {},
     "output_type": "execute_result"
    }
   ],
   "source": [
    "sample_df"
   ]
  },
  {
   "cell_type": "markdown",
   "metadata": {},
   "source": [
    "### Save the model for future use"
   ]
  },
  {
   "cell_type": "code",
   "execution_count": 69,
   "metadata": {},
   "outputs": [],
   "source": [
    "lstm_model.save('IMDB-Review_SentimentAnalysis Model.keras')"
   ]
  }
 ],
 "metadata": {
  "kernelspec": {
   "display_name": "venv",
   "language": "python",
   "name": "python3"
  },
  "language_info": {
   "codemirror_mode": {
    "name": "ipython",
    "version": 3
   },
   "file_extension": ".py",
   "mimetype": "text/x-python",
   "name": "python",
   "nbconvert_exporter": "python",
   "pygments_lexer": "ipython3",
   "version": "3.8.10"
  }
 },
 "nbformat": 4,
 "nbformat_minor": 2
}
