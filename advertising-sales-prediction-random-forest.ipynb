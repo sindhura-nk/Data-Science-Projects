{
 "cells": [
  {
   "cell_type": "markdown",
   "id": "67538e44",
   "metadata": {
    "papermill": {
     "duration": 0.010437,
     "end_time": "2024-05-08T05:44:23.321289",
     "exception": false,
     "start_time": "2024-05-08T05:44:23.310852",
     "status": "completed"
    },
    "tags": []
   },
   "source": [
    "## Prediction on Advertising Sales"
   ]
  },
  {
   "cell_type": "code",
   "execution_count": 1,
   "id": "86098408",
   "metadata": {
    "execution": {
     "iopub.execute_input": "2024-05-08T05:44:23.343300Z",
     "iopub.status.busy": "2024-05-08T05:44:23.342198Z",
     "iopub.status.idle": "2024-05-08T05:44:23.352396Z",
     "shell.execute_reply": "2024-05-08T05:44:23.351609Z"
    },
    "papermill": {
     "duration": 0.023068,
     "end_time": "2024-05-08T05:44:23.354251",
     "exception": false,
     "start_time": "2024-05-08T05:44:23.331183",
     "status": "completed"
    },
    "tags": []
   },
   "outputs": [],
   "source": [
    "from warnings import filterwarnings\n",
    "filterwarnings('ignore')"
   ]
  },
  {
   "cell_type": "markdown",
   "id": "b48df0c8",
   "metadata": {
    "papermill": {
     "duration": 0.0096,
     "end_time": "2024-05-08T05:44:23.373647",
     "exception": false,
     "start_time": "2024-05-08T05:44:23.364047",
     "status": "completed"
    },
    "tags": []
   },
   "source": [
    "## Load the dataset"
   ]
  },
  {
   "cell_type": "code",
   "execution_count": 2,
   "id": "d9b7b7bc",
   "metadata": {
    "execution": {
     "iopub.execute_input": "2024-05-08T05:44:23.395147Z",
     "iopub.status.busy": "2024-05-08T05:44:23.394833Z",
     "iopub.status.idle": "2024-05-08T05:44:24.076673Z",
     "shell.execute_reply": "2024-05-08T05:44:24.075625Z"
    },
    "papermill": {
     "duration": 0.69468,
     "end_time": "2024-05-08T05:44:24.078898",
     "exception": false,
     "start_time": "2024-05-08T05:44:23.384218",
     "status": "completed"
    },
    "tags": []
   },
   "outputs": [
    {
     "data": {
      "text/html": [
       "<div>\n",
       "<style scoped>\n",
       "    .dataframe tbody tr th:only-of-type {\n",
       "        vertical-align: middle;\n",
       "    }\n",
       "\n",
       "    .dataframe tbody tr th {\n",
       "        vertical-align: top;\n",
       "    }\n",
       "\n",
       "    .dataframe thead th {\n",
       "        text-align: right;\n",
       "    }\n",
       "</style>\n",
       "<table border=\"1\" class=\"dataframe\">\n",
       "  <thead>\n",
       "    <tr style=\"text-align: right;\">\n",
       "      <th></th>\n",
       "      <th>TV</th>\n",
       "      <th>Radio</th>\n",
       "      <th>Newspaper</th>\n",
       "      <th>Sales</th>\n",
       "    </tr>\n",
       "  </thead>\n",
       "  <tbody>\n",
       "    <tr>\n",
       "      <th>0</th>\n",
       "      <td>230.1</td>\n",
       "      <td>37.8</td>\n",
       "      <td>69.2</td>\n",
       "      <td>22.1</td>\n",
       "    </tr>\n",
       "    <tr>\n",
       "      <th>1</th>\n",
       "      <td>44.5</td>\n",
       "      <td>39.3</td>\n",
       "      <td>45.1</td>\n",
       "      <td>10.4</td>\n",
       "    </tr>\n",
       "    <tr>\n",
       "      <th>2</th>\n",
       "      <td>17.2</td>\n",
       "      <td>45.9</td>\n",
       "      <td>69.3</td>\n",
       "      <td>12.0</td>\n",
       "    </tr>\n",
       "    <tr>\n",
       "      <th>3</th>\n",
       "      <td>151.5</td>\n",
       "      <td>41.3</td>\n",
       "      <td>58.5</td>\n",
       "      <td>16.5</td>\n",
       "    </tr>\n",
       "    <tr>\n",
       "      <th>4</th>\n",
       "      <td>180.8</td>\n",
       "      <td>10.8</td>\n",
       "      <td>58.4</td>\n",
       "      <td>17.9</td>\n",
       "    </tr>\n",
       "  </tbody>\n",
       "</table>\n",
       "</div>"
      ],
      "text/plain": [
       "      TV  Radio  Newspaper  Sales\n",
       "0  230.1   37.8       69.2   22.1\n",
       "1   44.5   39.3       45.1   10.4\n",
       "2   17.2   45.9       69.3   12.0\n",
       "3  151.5   41.3       58.5   16.5\n",
       "4  180.8   10.8       58.4   17.9"
      ]
     },
     "execution_count": 2,
     "metadata": {},
     "output_type": "execute_result"
    }
   ],
   "source": [
    "import pandas as pd\n",
    "df= pd.read_csv('/kaggle/input/advertising-dataset/advertising.csv')\n",
    "df.head()"
   ]
  },
  {
   "cell_type": "markdown",
   "id": "c2ce913d",
   "metadata": {
    "papermill": {
     "duration": 0.009765,
     "end_time": "2024-05-08T05:44:24.098966",
     "exception": false,
     "start_time": "2024-05-08T05:44:24.089201",
     "status": "completed"
    },
    "tags": []
   },
   "source": [
    "## Perform basic data quality checks"
   ]
  },
  {
   "cell_type": "code",
   "execution_count": 3,
   "id": "244e4313",
   "metadata": {
    "execution": {
     "iopub.execute_input": "2024-05-08T05:44:24.120280Z",
     "iopub.status.busy": "2024-05-08T05:44:24.119690Z",
     "iopub.status.idle": "2024-05-08T05:44:24.140094Z",
     "shell.execute_reply": "2024-05-08T05:44:24.139139Z"
    },
    "papermill": {
     "duration": 0.033704,
     "end_time": "2024-05-08T05:44:24.142576",
     "exception": false,
     "start_time": "2024-05-08T05:44:24.108872",
     "status": "completed"
    },
    "tags": []
   },
   "outputs": [
    {
     "name": "stdout",
     "output_type": "stream",
     "text": [
      "<class 'pandas.core.frame.DataFrame'>\n",
      "RangeIndex: 200 entries, 0 to 199\n",
      "Data columns (total 4 columns):\n",
      " #   Column     Non-Null Count  Dtype  \n",
      "---  ------     --------------  -----  \n",
      " 0   TV         200 non-null    float64\n",
      " 1   Radio      200 non-null    float64\n",
      " 2   Newspaper  200 non-null    float64\n",
      " 3   Sales      200 non-null    float64\n",
      "dtypes: float64(4)\n",
      "memory usage: 6.4 KB\n"
     ]
    }
   ],
   "source": [
    "df.info()"
   ]
  },
  {
   "cell_type": "code",
   "execution_count": 4,
   "id": "b900ef3b",
   "metadata": {
    "execution": {
     "iopub.execute_input": "2024-05-08T05:44:24.163884Z",
     "iopub.status.busy": "2024-05-08T05:44:24.163598Z",
     "iopub.status.idle": "2024-05-08T05:44:24.169145Z",
     "shell.execute_reply": "2024-05-08T05:44:24.168274Z"
    },
    "papermill": {
     "duration": 0.018398,
     "end_time": "2024-05-08T05:44:24.171108",
     "exception": false,
     "start_time": "2024-05-08T05:44:24.152710",
     "status": "completed"
    },
    "tags": []
   },
   "outputs": [
    {
     "data": {
      "text/plain": [
       "(200, 4)"
      ]
     },
     "execution_count": 4,
     "metadata": {},
     "output_type": "execute_result"
    }
   ],
   "source": [
    "df.shape"
   ]
  },
  {
   "cell_type": "code",
   "execution_count": 5,
   "id": "a35eb671",
   "metadata": {
    "execution": {
     "iopub.execute_input": "2024-05-08T05:44:24.192884Z",
     "iopub.status.busy": "2024-05-08T05:44:24.192314Z",
     "iopub.status.idle": "2024-05-08T05:44:24.197802Z",
     "shell.execute_reply": "2024-05-08T05:44:24.196941Z"
    },
    "papermill": {
     "duration": 0.018551,
     "end_time": "2024-05-08T05:44:24.199761",
     "exception": false,
     "start_time": "2024-05-08T05:44:24.181210",
     "status": "completed"
    },
    "tags": []
   },
   "outputs": [
    {
     "data": {
      "text/plain": [
       "Index(['TV', 'Radio', 'Newspaper', 'Sales'], dtype='object')"
      ]
     },
     "execution_count": 5,
     "metadata": {},
     "output_type": "execute_result"
    }
   ],
   "source": [
    "df.columns"
   ]
  },
  {
   "cell_type": "markdown",
   "id": "99630261",
   "metadata": {
    "papermill": {
     "duration": 0.012367,
     "end_time": "2024-05-08T05:44:24.222293",
     "exception": false,
     "start_time": "2024-05-08T05:44:24.209926",
     "status": "completed"
    },
    "tags": []
   },
   "source": [
    "## Descriptive Analysis"
   ]
  },
  {
   "cell_type": "markdown",
   "id": "d714a21f",
   "metadata": {
    "papermill": {
     "duration": 0.010066,
     "end_time": "2024-05-08T05:44:24.242816",
     "exception": false,
     "start_time": "2024-05-08T05:44:24.232750",
     "status": "completed"
    },
    "tags": []
   },
   "source": [
    "Datatypes"
   ]
  },
  {
   "cell_type": "code",
   "execution_count": 6,
   "id": "0eaa7466",
   "metadata": {
    "execution": {
     "iopub.execute_input": "2024-05-08T05:44:24.265050Z",
     "iopub.status.busy": "2024-05-08T05:44:24.264227Z",
     "iopub.status.idle": "2024-05-08T05:44:24.273972Z",
     "shell.execute_reply": "2024-05-08T05:44:24.272827Z"
    },
    "papermill": {
     "duration": 0.022903,
     "end_time": "2024-05-08T05:44:24.275911",
     "exception": false,
     "start_time": "2024-05-08T05:44:24.253008",
     "status": "completed"
    },
    "tags": []
   },
   "outputs": [
    {
     "name": "stdout",
     "output_type": "stream",
     "text": [
      "<class 'pandas.core.frame.DataFrame'>\n",
      "RangeIndex: 200 entries, 0 to 199\n",
      "Data columns (total 4 columns):\n",
      " #   Column     Non-Null Count  Dtype  \n",
      "---  ------     --------------  -----  \n",
      " 0   TV         200 non-null    float64\n",
      " 1   Radio      200 non-null    float64\n",
      " 2   Newspaper  200 non-null    float64\n",
      " 3   Sales      200 non-null    float64\n",
      "dtypes: float64(4)\n",
      "memory usage: 6.4 KB\n"
     ]
    }
   ],
   "source": [
    "df.info()"
   ]
  },
  {
   "cell_type": "markdown",
   "id": "1175699e",
   "metadata": {
    "papermill": {
     "duration": 0.010199,
     "end_time": "2024-05-08T05:44:24.296467",
     "exception": false,
     "start_time": "2024-05-08T05:44:24.286268",
     "status": "completed"
    },
    "tags": []
   },
   "source": [
    "Statistics"
   ]
  },
  {
   "cell_type": "code",
   "execution_count": 7,
   "id": "dfc699b1",
   "metadata": {
    "execution": {
     "iopub.execute_input": "2024-05-08T05:44:24.318519Z",
     "iopub.status.busy": "2024-05-08T05:44:24.317997Z",
     "iopub.status.idle": "2024-05-08T05:44:24.341159Z",
     "shell.execute_reply": "2024-05-08T05:44:24.340257Z"
    },
    "papermill": {
     "duration": 0.03632,
     "end_time": "2024-05-08T05:44:24.343084",
     "exception": false,
     "start_time": "2024-05-08T05:44:24.306764",
     "status": "completed"
    },
    "tags": []
   },
   "outputs": [
    {
     "data": {
      "text/html": [
       "<div>\n",
       "<style scoped>\n",
       "    .dataframe tbody tr th:only-of-type {\n",
       "        vertical-align: middle;\n",
       "    }\n",
       "\n",
       "    .dataframe tbody tr th {\n",
       "        vertical-align: top;\n",
       "    }\n",
       "\n",
       "    .dataframe thead th {\n",
       "        text-align: right;\n",
       "    }\n",
       "</style>\n",
       "<table border=\"1\" class=\"dataframe\">\n",
       "  <thead>\n",
       "    <tr style=\"text-align: right;\">\n",
       "      <th></th>\n",
       "      <th>count</th>\n",
       "      <th>mean</th>\n",
       "      <th>std</th>\n",
       "      <th>min</th>\n",
       "      <th>25%</th>\n",
       "      <th>50%</th>\n",
       "      <th>75%</th>\n",
       "      <th>max</th>\n",
       "    </tr>\n",
       "  </thead>\n",
       "  <tbody>\n",
       "    <tr>\n",
       "      <th>TV</th>\n",
       "      <td>200.0</td>\n",
       "      <td>147.0425</td>\n",
       "      <td>85.854236</td>\n",
       "      <td>0.7</td>\n",
       "      <td>74.375</td>\n",
       "      <td>149.75</td>\n",
       "      <td>218.825</td>\n",
       "      <td>296.4</td>\n",
       "    </tr>\n",
       "    <tr>\n",
       "      <th>Radio</th>\n",
       "      <td>200.0</td>\n",
       "      <td>23.2640</td>\n",
       "      <td>14.846809</td>\n",
       "      <td>0.0</td>\n",
       "      <td>9.975</td>\n",
       "      <td>22.90</td>\n",
       "      <td>36.525</td>\n",
       "      <td>49.6</td>\n",
       "    </tr>\n",
       "    <tr>\n",
       "      <th>Newspaper</th>\n",
       "      <td>200.0</td>\n",
       "      <td>30.5540</td>\n",
       "      <td>21.778621</td>\n",
       "      <td>0.3</td>\n",
       "      <td>12.750</td>\n",
       "      <td>25.75</td>\n",
       "      <td>45.100</td>\n",
       "      <td>114.0</td>\n",
       "    </tr>\n",
       "    <tr>\n",
       "      <th>Sales</th>\n",
       "      <td>200.0</td>\n",
       "      <td>15.1305</td>\n",
       "      <td>5.283892</td>\n",
       "      <td>1.6</td>\n",
       "      <td>11.000</td>\n",
       "      <td>16.00</td>\n",
       "      <td>19.050</td>\n",
       "      <td>27.0</td>\n",
       "    </tr>\n",
       "  </tbody>\n",
       "</table>\n",
       "</div>"
      ],
      "text/plain": [
       "           count      mean        std  min     25%     50%      75%    max\n",
       "TV         200.0  147.0425  85.854236  0.7  74.375  149.75  218.825  296.4\n",
       "Radio      200.0   23.2640  14.846809  0.0   9.975   22.90   36.525   49.6\n",
       "Newspaper  200.0   30.5540  21.778621  0.3  12.750   25.75   45.100  114.0\n",
       "Sales      200.0   15.1305   5.283892  1.6  11.000   16.00   19.050   27.0"
      ]
     },
     "execution_count": 7,
     "metadata": {},
     "output_type": "execute_result"
    }
   ],
   "source": [
    "df.describe().T"
   ]
  },
  {
   "cell_type": "markdown",
   "id": "973ba605",
   "metadata": {
    "papermill": {
     "duration": 0.010386,
     "end_time": "2024-05-08T05:44:24.364067",
     "exception": false,
     "start_time": "2024-05-08T05:44:24.353681",
     "status": "completed"
    },
    "tags": []
   },
   "source": [
    "## Feature Engineering\n",
    "    1. Check for missing values and duplicated rows and  handle them if there are any\n",
    "    2. Check for outliers/skeweness in dataset and handle outliers in case of skewed data\n",
    "    3. Scale the continuous data using standard scaler\n",
    "    4. Separate X and Y features\n",
    "    5. Split the data into training set and testing set"
   ]
  },
  {
   "cell_type": "markdown",
   "id": "29b7ea51",
   "metadata": {
    "papermill": {
     "duration": 0.010443,
     "end_time": "2024-05-08T05:44:24.385013",
     "exception": false,
     "start_time": "2024-05-08T05:44:24.374570",
     "status": "completed"
    },
    "tags": []
   },
   "source": [
    "-----------------------------------------------------------\n",
    "1. Check for missing values and duplicated rows and  handle them if there are any"
   ]
  },
  {
   "cell_type": "code",
   "execution_count": 8,
   "id": "94a4e0dd",
   "metadata": {
    "execution": {
     "iopub.execute_input": "2024-05-08T05:44:24.408299Z",
     "iopub.status.busy": "2024-05-08T05:44:24.407283Z",
     "iopub.status.idle": "2024-05-08T05:44:24.414760Z",
     "shell.execute_reply": "2024-05-08T05:44:24.413951Z"
    },
    "papermill": {
     "duration": 0.021014,
     "end_time": "2024-05-08T05:44:24.416611",
     "exception": false,
     "start_time": "2024-05-08T05:44:24.395597",
     "status": "completed"
    },
    "tags": []
   },
   "outputs": [
    {
     "data": {
      "text/plain": [
       "TV           0\n",
       "Radio        0\n",
       "Newspaper    0\n",
       "Sales        0\n",
       "dtype: int64"
      ]
     },
     "execution_count": 8,
     "metadata": {},
     "output_type": "execute_result"
    }
   ],
   "source": [
    "df.isna().sum()"
   ]
  },
  {
   "cell_type": "code",
   "execution_count": 9,
   "id": "66f9ba8b",
   "metadata": {
    "execution": {
     "iopub.execute_input": "2024-05-08T05:44:24.439174Z",
     "iopub.status.busy": "2024-05-08T05:44:24.438899Z",
     "iopub.status.idle": "2024-05-08T05:44:24.445427Z",
     "shell.execute_reply": "2024-05-08T05:44:24.444547Z"
    },
    "papermill": {
     "duration": 0.019918,
     "end_time": "2024-05-08T05:44:24.447294",
     "exception": false,
     "start_time": "2024-05-08T05:44:24.427376",
     "status": "completed"
    },
    "tags": []
   },
   "outputs": [
    {
     "data": {
      "text/plain": [
       "0"
      ]
     },
     "execution_count": 9,
     "metadata": {},
     "output_type": "execute_result"
    }
   ],
   "source": [
    "df.duplicated().sum()"
   ]
  },
  {
   "cell_type": "markdown",
   "id": "4e966d9c",
   "metadata": {
    "papermill": {
     "duration": 0.011762,
     "end_time": "2024-05-08T05:44:24.470052",
     "exception": false,
     "start_time": "2024-05-08T05:44:24.458290",
     "status": "completed"
    },
    "tags": []
   },
   "source": [
    "------------------------------------------------\n",
    "2. Check for outliers/skeweness in dataset and handle outliers in case of skewed data"
   ]
  },
  {
   "cell_type": "code",
   "execution_count": 10,
   "id": "571c1fa8",
   "metadata": {
    "execution": {
     "iopub.execute_input": "2024-05-08T05:44:24.493744Z",
     "iopub.status.busy": "2024-05-08T05:44:24.493411Z",
     "iopub.status.idle": "2024-05-08T05:44:25.493702Z",
     "shell.execute_reply": "2024-05-08T05:44:25.492885Z"
    },
    "papermill": {
     "duration": 1.014655,
     "end_time": "2024-05-08T05:44:25.496045",
     "exception": false,
     "start_time": "2024-05-08T05:44:24.481390",
     "status": "completed"
    },
    "tags": []
   },
   "outputs": [],
   "source": [
    "import matplotlib.pyplot as plt\n",
    "import seaborn as sns\n",
    "import numpy as np"
   ]
  },
  {
   "cell_type": "code",
   "execution_count": 11,
   "id": "73999eac",
   "metadata": {
    "execution": {
     "iopub.execute_input": "2024-05-08T05:44:25.520539Z",
     "iopub.status.busy": "2024-05-08T05:44:25.519393Z",
     "iopub.status.idle": "2024-05-08T05:44:26.374252Z",
     "shell.execute_reply": "2024-05-08T05:44:26.373310Z"
    },
    "papermill": {
     "duration": 0.869033,
     "end_time": "2024-05-08T05:44:26.376463",
     "exception": false,
     "start_time": "2024-05-08T05:44:25.507430",
     "status": "completed"
    },
    "tags": []
   },
   "outputs": [
    {
     "data": {
      "image/png": "[encoded data removed]",
      "text/plain": [
       "<Figure size 400x400 with 1 Axes>"
      ]
     },
     "metadata": {},
     "output_type": "display_data"
    },
    {
     "data": {
      "image/png": "[encoded data removed]",
      "text/plain": [
       "<Figure size 400x400 with 1 Axes>"
      ]
     },
     "metadata": {},
     "output_type": "display_data"
    },
    {
     "data": {
      "image/png": "[encoded data removed]",
      "text/plain": [
       "<Figure size 400x400 with 1 Axes>"
      ]
     },
     "metadata": {},
     "output_type": "display_data"
    }
   ],
   "source": [
    "con = ['TV','Radio','Newspaper']\n",
    "for i in con:\n",
    "    plt.figure(figsize=(4,4))\n",
    "    sns.histplot(df,x=i,kde=True)\n",
    "    plt.title(f'Histogram for {i}')\n",
    "    plt.show()"
   ]
  },
  {
   "cell_type": "markdown",
   "id": "0d240b41",
   "metadata": {
    "papermill": {
     "duration": 0.012231,
     "end_time": "2024-05-08T05:44:26.401297",
     "exception": false,
     "start_time": "2024-05-08T05:44:26.389066",
     "status": "completed"
    },
    "tags": []
   },
   "source": [
    "we can observe skeweness in the Newspaper data. Lets handle it using log transform"
   ]
  },
  {
   "cell_type": "code",
   "execution_count": 12,
   "id": "fbb2588a",
   "metadata": {
    "execution": {
     "iopub.execute_input": "2024-05-08T05:44:26.469761Z",
     "iopub.status.busy": "2024-05-08T05:44:26.468839Z",
     "iopub.status.idle": "2024-05-08T05:44:26.475397Z",
     "shell.execute_reply": "2024-05-08T05:44:26.474482Z"
    },
    "papermill": {
     "duration": 0.063753,
     "end_time": "2024-05-08T05:44:26.477391",
     "exception": false,
     "start_time": "2024-05-08T05:44:26.413638",
     "status": "completed"
    },
    "tags": []
   },
   "outputs": [
    {
     "data": {
      "text/plain": [
       "0.8947204074986175"
      ]
     },
     "execution_count": 12,
     "metadata": {},
     "output_type": "execute_result"
    }
   ],
   "source": [
    "# positive large number dentoes that the data is skewed\n",
    "df['Newspaper'].skew()"
   ]
  },
  {
   "cell_type": "code",
   "execution_count": 13,
   "id": "9a76f8f7",
   "metadata": {
    "execution": {
     "iopub.execute_input": "2024-05-08T05:44:26.503720Z",
     "iopub.status.busy": "2024-05-08T05:44:26.503120Z",
     "iopub.status.idle": "2024-05-08T05:44:26.508275Z",
     "shell.execute_reply": "2024-05-08T05:44:26.507470Z"
    },
    "papermill": {
     "duration": 0.020366,
     "end_time": "2024-05-08T05:44:26.510203",
     "exception": false,
     "start_time": "2024-05-08T05:44:26.489837",
     "status": "completed"
    },
    "tags": []
   },
   "outputs": [],
   "source": [
    "df['Newspaper'] = round(np.log10(df['Newspaper']),1)"
   ]
  },
  {
   "cell_type": "code",
   "execution_count": 14,
   "id": "39a409bb",
   "metadata": {
    "execution": {
     "iopub.execute_input": "2024-05-08T05:44:26.536668Z",
     "iopub.status.busy": "2024-05-08T05:44:26.536064Z",
     "iopub.status.idle": "2024-05-08T05:44:26.542054Z",
     "shell.execute_reply": "2024-05-08T05:44:26.541132Z"
    },
    "papermill": {
     "duration": 0.02146,
     "end_time": "2024-05-08T05:44:26.544060",
     "exception": false,
     "start_time": "2024-05-08T05:44:26.522600",
     "status": "completed"
    },
    "tags": []
   },
   "outputs": [
    {
     "data": {
      "text/plain": [
       "-1.1407667692462904"
      ]
     },
     "execution_count": 14,
     "metadata": {},
     "output_type": "execute_result"
    }
   ],
   "source": [
    "# small or negative number dentoes that the data is skewed\n",
    "df['Newspaper'].skew()"
   ]
  },
  {
   "cell_type": "code",
   "execution_count": 15,
   "id": "3556ca6c",
   "metadata": {
    "execution": {
     "iopub.execute_input": "2024-05-08T05:44:26.570424Z",
     "iopub.status.busy": "2024-05-08T05:44:26.569937Z",
     "iopub.status.idle": "2024-05-08T05:44:26.868974Z",
     "shell.execute_reply": "2024-05-08T05:44:26.868036Z"
    },
    "papermill": {
     "duration": 0.314619,
     "end_time": "2024-05-08T05:44:26.871274",
     "exception": false,
     "start_time": "2024-05-08T05:44:26.556655",
     "status": "completed"
    },
    "tags": []
   },
   "outputs": [
    {
     "data": {
      "image/png": "[encoded data removed]",
      "text/plain": [
       "<Figure size 640x480 with 1 Axes>"
      ]
     },
     "metadata": {},
     "output_type": "display_data"
    }
   ],
   "source": [
    "sns.histplot(df,x='Newspaper',kde=True)\n",
    "plt.title(f'Histogram for {i}')\n",
    "plt.show()"
   ]
  },
  {
   "cell_type": "markdown",
   "id": "6a4adde9",
   "metadata": {
    "papermill": {
     "duration": 0.012841,
     "end_time": "2024-05-08T05:44:26.897468",
     "exception": false,
     "start_time": "2024-05-08T05:44:26.884627",
     "status": "completed"
    },
    "tags": []
   },
   "source": [
    "---------------------------------------------------\n",
    "3. Scale the continuous data using standard scaler"
   ]
  },
  {
   "cell_type": "code",
   "execution_count": 16,
   "id": "f112155c",
   "metadata": {
    "execution": {
     "iopub.execute_input": "2024-05-08T05:44:26.925301Z",
     "iopub.status.busy": "2024-05-08T05:44:26.924750Z",
     "iopub.status.idle": "2024-05-08T05:44:27.043004Z",
     "shell.execute_reply": "2024-05-08T05:44:27.042194Z"
    },
    "papermill": {
     "duration": 0.13488,
     "end_time": "2024-05-08T05:44:27.045484",
     "exception": false,
     "start_time": "2024-05-08T05:44:26.910604",
     "status": "completed"
    },
    "tags": []
   },
   "outputs": [],
   "source": [
    "from sklearn.pipeline import Pipeline\n",
    "from sklearn.preprocessing import StandardScaler"
   ]
  },
  {
   "cell_type": "code",
   "execution_count": 17,
   "id": "d24d8c9a",
   "metadata": {
    "execution": {
     "iopub.execute_input": "2024-05-08T05:44:27.074131Z",
     "iopub.status.busy": "2024-05-08T05:44:27.073339Z",
     "iopub.status.idle": "2024-05-08T05:44:27.077918Z",
     "shell.execute_reply": "2024-05-08T05:44:27.077011Z"
    },
    "papermill": {
     "duration": 0.020597,
     "end_time": "2024-05-08T05:44:27.079827",
     "exception": false,
     "start_time": "2024-05-08T05:44:27.059230",
     "status": "completed"
    },
    "tags": []
   },
   "outputs": [],
   "source": [
    "pre = Pipeline(steps=[('scaler',StandardScaler())]).set_output(transform='pandas')"
   ]
  },
  {
   "cell_type": "code",
   "execution_count": 18,
   "id": "559b4ee0",
   "metadata": {
    "execution": {
     "iopub.execute_input": "2024-05-08T05:44:27.107651Z",
     "iopub.status.busy": "2024-05-08T05:44:27.107071Z",
     "iopub.status.idle": "2024-05-08T05:44:27.115026Z",
     "shell.execute_reply": "2024-05-08T05:44:27.114113Z"
    },
    "papermill": {
     "duration": 0.024147,
     "end_time": "2024-05-08T05:44:27.117099",
     "exception": false,
     "start_time": "2024-05-08T05:44:27.092952",
     "status": "completed"
    },
    "tags": []
   },
   "outputs": [
    {
     "data": {
      "text/html": [
       "<style>#sk-container-id-1 {color: black;background-color: white;}#sk-container-id-1 pre{padding: 0;}#sk-container-id-1 div.sk-toggleable {background-color: white;}#sk-container-id-1 label.sk-toggleable__label {cursor: pointer;display: block;width: 100%;margin-bottom: 0;padding: 0.3em;box-sizing: border-box;text-align: center;}#sk-container-id-1 label.sk-toggleable__label-arrow:before {content: \"▸\";float: left;margin-right: 0.25em;color: #696969;}#sk-container-id-1 label.sk-toggleable__label-arrow:hover:before {color: black;}#sk-container-id-1 div.sk-estimator:hover label.sk-toggleable__label-arrow:before {color: black;}#sk-container-id-1 div.sk-toggleable__content {max-height: 0;max-width: 0;overflow: hidden;text-align: left;background-color: #f0f8ff;}#sk-container-id-1 div.sk-toggleable__content pre {margin: 0.2em;color: black;border-radius: 0.25em;background-color: #f0f8ff;}#sk-container-id-1 input.sk-toggleable__control:checked~div.sk-toggleable__content {max-height: 200px;max-width: 100%;overflow: auto;}#sk-container-id-1 input.sk-toggleable__control:checked~label.sk-toggleable__label-arrow:before {content: \"▾\";}#sk-container-id-1 div.sk-estimator input.sk-toggleable__control:checked~label.sk-toggleable__label {background-color: #d4ebff;}#sk-container-id-1 div.sk-label input.sk-toggleable__control:checked~label.sk-toggleable__label {background-color: #d4ebff;}#sk-container-id-1 input.sk-hidden--visually {border: 0;clip: rect(1px 1px 1px 1px);clip: rect(1px, 1px, 1px, 1px);height: 1px;margin: -1px;overflow: hidden;padding: 0;position: absolute;width: 1px;}#sk-container-id-1 div.sk-estimator {font-family: monospace;background-color: #f0f8ff;border: 1px dotted black;border-radius: 0.25em;box-sizing: border-box;margin-bottom: 0.5em;}#sk-container-id-1 div.sk-estimator:hover {background-color: #d4ebff;}#sk-container-id-1 div.sk-parallel-item::after {content: \"\";width: 100%;border-bottom: 1px solid gray;flex-grow: 1;}#sk-container-id-1 div.sk-label:hover label.sk-toggleable__label {background-color: #d4ebff;}#sk-container-id-1 div.sk-serial::before {content: \"\";position: absolute;border-left: 1px solid gray;box-sizing: border-box;top: 0;bottom: 0;left: 50%;z-index: 0;}#sk-container-id-1 div.sk-serial {display: flex;flex-direction: column;align-items: center;background-color: white;padding-right: 0.2em;padding-left: 0.2em;position: relative;}#sk-container-id-1 div.sk-item {position: relative;z-index: 1;}#sk-container-id-1 div.sk-parallel {display: flex;align-items: stretch;justify-content: center;background-color: white;position: relative;}#sk-container-id-1 div.sk-item::before, #sk-container-id-1 div.sk-parallel-item::before {content: \"\";position: absolute;border-left: 1px solid gray;box-sizing: border-box;top: 0;bottom: 0;left: 50%;z-index: -1;}#sk-container-id-1 div.sk-parallel-item {display: flex;flex-direction: column;z-index: 1;position: relative;background-color: white;}#sk-container-id-1 div.sk-parallel-item:first-child::after {align-self: flex-end;width: 50%;}#sk-container-id-1 div.sk-parallel-item:last-child::after {align-self: flex-start;width: 50%;}#sk-container-id-1 div.sk-parallel-item:only-child::after {width: 0;}#sk-container-id-1 div.sk-dashed-wrapped {border: 1px dashed gray;margin: 0 0.4em 0.5em 0.4em;box-sizing: border-box;padding-bottom: 0.4em;background-color: white;}#sk-container-id-1 div.sk-label label {font-family: monospace;font-weight: bold;display: inline-block;line-height: 1.2em;}#sk-container-id-1 div.sk-label-container {text-align: center;}#sk-container-id-1 div.sk-container {/* jupyter's `normalize.less` sets `[hidden] { display: none; }` but bootstrap.min.css set `[hidden] { display: none !important; }` so we also need the `!important` here to be able to override the default hidden behavior on the sphinx rendered scikit-learn.org. See: https://github.com/scikit-learn/scikit-learn/issues/21755 */display: inline-block !important;position: relative;}#sk-container-id-1 div.sk-text-repr-fallback {display: none;}</style><div id=\"sk-container-id-1\" class=\"sk-top-container\"><div class=\"sk-text-repr-fallback\"><pre>Pipeline(steps=[(&#x27;scaler&#x27;, StandardScaler())])</pre><b>In a Jupyter environment, please rerun this cell to show the HTML representation or trust the notebook. <br />On GitHub, the HTML representation is unable to render, please try loading this page with nbviewer.org.</b></div><div class=\"sk-container\" hidden><div class=\"sk-item sk-dashed-wrapped\"><div class=\"sk-label-container\"><div class=\"sk-label sk-toggleable\"><input class=\"sk-toggleable__control sk-hidden--visually\" id=\"sk-estimator-id-1\" type=\"checkbox\" ><label for=\"sk-estimator-id-1\" class=\"sk-toggleable__label sk-toggleable__label-arrow\">Pipeline</label><div class=\"sk-toggleable__content\"><pre>Pipeline(steps=[(&#x27;scaler&#x27;, StandardScaler())])</pre></div></div></div><div class=\"sk-serial\"><div class=\"sk-item\"><div class=\"sk-estimator sk-toggleable\"><input class=\"sk-toggleable__control sk-hidden--visually\" id=\"sk-estimator-id-2\" type=\"checkbox\" ><label for=\"sk-estimator-id-2\" class=\"sk-toggleable__label sk-toggleable__label-arrow\">StandardScaler</label><div class=\"sk-toggleable__content\"><pre>StandardScaler()</pre></div></div></div></div></div></div></div>"
      ],
      "text/plain": [
       "Pipeline(steps=[('scaler', StandardScaler())])"
      ]
     },
     "execution_count": 18,
     "metadata": {},
     "output_type": "execute_result"
    }
   ],
   "source": [
    "pre"
   ]
  },
  {
   "cell_type": "code",
   "execution_count": 19,
   "id": "ecb1fa69",
   "metadata": {
    "execution": {
     "iopub.execute_input": "2024-05-08T05:44:27.145963Z",
     "iopub.status.busy": "2024-05-08T05:44:27.145265Z",
     "iopub.status.idle": "2024-05-08T05:44:27.159159Z",
     "shell.execute_reply": "2024-05-08T05:44:27.158293Z"
    },
    "papermill": {
     "duration": 0.030339,
     "end_time": "2024-05-08T05:44:27.161129",
     "exception": false,
     "start_time": "2024-05-08T05:44:27.130790",
     "status": "completed"
    },
    "tags": []
   },
   "outputs": [
    {
     "data": {
      "text/html": [
       "<div>\n",
       "<style scoped>\n",
       "    .dataframe tbody tr th:only-of-type {\n",
       "        vertical-align: middle;\n",
       "    }\n",
       "\n",
       "    .dataframe tbody tr th {\n",
       "        vertical-align: top;\n",
       "    }\n",
       "\n",
       "    .dataframe thead th {\n",
       "        text-align: right;\n",
       "    }\n",
       "</style>\n",
       "<table border=\"1\" class=\"dataframe\">\n",
       "  <thead>\n",
       "    <tr style=\"text-align: right;\">\n",
       "      <th></th>\n",
       "      <th>TV</th>\n",
       "      <th>Radio</th>\n",
       "      <th>Newspaper</th>\n",
       "      <th>Sales</th>\n",
       "    </tr>\n",
       "  </thead>\n",
       "  <tbody>\n",
       "    <tr>\n",
       "      <th>0</th>\n",
       "      <td>0.969852</td>\n",
       "      <td>0.981522</td>\n",
       "      <td>1.091521</td>\n",
       "      <td>1.322319</td>\n",
       "    </tr>\n",
       "    <tr>\n",
       "      <th>1</th>\n",
       "      <td>-1.197376</td>\n",
       "      <td>1.082808</td>\n",
       "      <td>0.854492</td>\n",
       "      <td>-0.897515</td>\n",
       "    </tr>\n",
       "    <tr>\n",
       "      <th>2</th>\n",
       "      <td>-1.516155</td>\n",
       "      <td>1.528463</td>\n",
       "      <td>1.091521</td>\n",
       "      <td>-0.593948</td>\n",
       "    </tr>\n",
       "    <tr>\n",
       "      <th>3</th>\n",
       "      <td>0.052050</td>\n",
       "      <td>1.217855</td>\n",
       "      <td>1.091521</td>\n",
       "      <td>0.259834</td>\n",
       "    </tr>\n",
       "    <tr>\n",
       "      <th>4</th>\n",
       "      <td>0.394182</td>\n",
       "      <td>-0.841614</td>\n",
       "      <td>1.091521</td>\n",
       "      <td>0.525455</td>\n",
       "    </tr>\n",
       "  </tbody>\n",
       "</table>\n",
       "</div>"
      ],
      "text/plain": [
       "         TV     Radio  Newspaper     Sales\n",
       "0  0.969852  0.981522   1.091521  1.322319\n",
       "1 -1.197376  1.082808   0.854492 -0.897515\n",
       "2 -1.516155  1.528463   1.091521 -0.593948\n",
       "3  0.052050  1.217855   1.091521  0.259834\n",
       "4  0.394182 -0.841614   1.091521  0.525455"
      ]
     },
     "execution_count": 19,
     "metadata": {},
     "output_type": "execute_result"
    }
   ],
   "source": [
    "df_pre = pre.fit_transform(df)\n",
    "df_pre.head()"
   ]
  },
  {
   "cell_type": "markdown",
   "id": "0dbf61d7",
   "metadata": {
    "papermill": {
     "duration": 0.013763,
     "end_time": "2024-05-08T05:44:27.188718",
     "exception": false,
     "start_time": "2024-05-08T05:44:27.174955",
     "status": "completed"
    },
    "tags": []
   },
   "source": [
    "-----------------------------------------------\n",
    "4. Separate X and Y features"
   ]
  },
  {
   "cell_type": "code",
   "execution_count": 20,
   "id": "7650b4fe",
   "metadata": {
    "execution": {
     "iopub.execute_input": "2024-05-08T05:44:27.217652Z",
     "iopub.status.busy": "2024-05-08T05:44:27.217042Z",
     "iopub.status.idle": "2024-05-08T05:44:27.223304Z",
     "shell.execute_reply": "2024-05-08T05:44:27.222486Z"
    },
    "papermill": {
     "duration": 0.022848,
     "end_time": "2024-05-08T05:44:27.225262",
     "exception": false,
     "start_time": "2024-05-08T05:44:27.202414",
     "status": "completed"
    },
    "tags": []
   },
   "outputs": [],
   "source": [
    "X = df.drop(columns='Sales')\n",
    "Y =df[['Sales']]"
   ]
  },
  {
   "cell_type": "code",
   "execution_count": 21,
   "id": "254d8c29",
   "metadata": {
    "execution": {
     "iopub.execute_input": "2024-05-08T05:44:27.254570Z",
     "iopub.status.busy": "2024-05-08T05:44:27.254204Z",
     "iopub.status.idle": "2024-05-08T05:44:27.264602Z",
     "shell.execute_reply": "2024-05-08T05:44:27.263688Z"
    },
    "papermill": {
     "duration": 0.027438,
     "end_time": "2024-05-08T05:44:27.266558",
     "exception": false,
     "start_time": "2024-05-08T05:44:27.239120",
     "status": "completed"
    },
    "tags": []
   },
   "outputs": [
    {
     "data": {
      "text/html": [
       "<div>\n",
       "<style scoped>\n",
       "    .dataframe tbody tr th:only-of-type {\n",
       "        vertical-align: middle;\n",
       "    }\n",
       "\n",
       "    .dataframe tbody tr th {\n",
       "        vertical-align: top;\n",
       "    }\n",
       "\n",
       "    .dataframe thead th {\n",
       "        text-align: right;\n",
       "    }\n",
       "</style>\n",
       "<table border=\"1\" class=\"dataframe\">\n",
       "  <thead>\n",
       "    <tr style=\"text-align: right;\">\n",
       "      <th></th>\n",
       "      <th>TV</th>\n",
       "      <th>Radio</th>\n",
       "      <th>Newspaper</th>\n",
       "    </tr>\n",
       "  </thead>\n",
       "  <tbody>\n",
       "    <tr>\n",
       "      <th>0</th>\n",
       "      <td>230.1</td>\n",
       "      <td>37.8</td>\n",
       "      <td>1.8</td>\n",
       "    </tr>\n",
       "    <tr>\n",
       "      <th>1</th>\n",
       "      <td>44.5</td>\n",
       "      <td>39.3</td>\n",
       "      <td>1.7</td>\n",
       "    </tr>\n",
       "    <tr>\n",
       "      <th>2</th>\n",
       "      <td>17.2</td>\n",
       "      <td>45.9</td>\n",
       "      <td>1.8</td>\n",
       "    </tr>\n",
       "    <tr>\n",
       "      <th>3</th>\n",
       "      <td>151.5</td>\n",
       "      <td>41.3</td>\n",
       "      <td>1.8</td>\n",
       "    </tr>\n",
       "    <tr>\n",
       "      <th>4</th>\n",
       "      <td>180.8</td>\n",
       "      <td>10.8</td>\n",
       "      <td>1.8</td>\n",
       "    </tr>\n",
       "  </tbody>\n",
       "</table>\n",
       "</div>"
      ],
      "text/plain": [
       "      TV  Radio  Newspaper\n",
       "0  230.1   37.8        1.8\n",
       "1   44.5   39.3        1.7\n",
       "2   17.2   45.9        1.8\n",
       "3  151.5   41.3        1.8\n",
       "4  180.8   10.8        1.8"
      ]
     },
     "execution_count": 21,
     "metadata": {},
     "output_type": "execute_result"
    }
   ],
   "source": [
    "X.head()"
   ]
  },
  {
   "cell_type": "code",
   "execution_count": 22,
   "id": "98f957f4",
   "metadata": {
    "execution": {
     "iopub.execute_input": "2024-05-08T05:44:27.296834Z",
     "iopub.status.busy": "2024-05-08T05:44:27.296205Z",
     "iopub.status.idle": "2024-05-08T05:44:27.304656Z",
     "shell.execute_reply": "2024-05-08T05:44:27.303605Z"
    },
    "papermill": {
     "duration": 0.025523,
     "end_time": "2024-05-08T05:44:27.306518",
     "exception": false,
     "start_time": "2024-05-08T05:44:27.280995",
     "status": "completed"
    },
    "tags": []
   },
   "outputs": [
    {
     "data": {
      "text/html": [
       "<div>\n",
       "<style scoped>\n",
       "    .dataframe tbody tr th:only-of-type {\n",
       "        vertical-align: middle;\n",
       "    }\n",
       "\n",
       "    .dataframe tbody tr th {\n",
       "        vertical-align: top;\n",
       "    }\n",
       "\n",
       "    .dataframe thead th {\n",
       "        text-align: right;\n",
       "    }\n",
       "</style>\n",
       "<table border=\"1\" class=\"dataframe\">\n",
       "  <thead>\n",
       "    <tr style=\"text-align: right;\">\n",
       "      <th></th>\n",
       "      <th>Sales</th>\n",
       "    </tr>\n",
       "  </thead>\n",
       "  <tbody>\n",
       "    <tr>\n",
       "      <th>0</th>\n",
       "      <td>22.1</td>\n",
       "    </tr>\n",
       "    <tr>\n",
       "      <th>1</th>\n",
       "      <td>10.4</td>\n",
       "    </tr>\n",
       "    <tr>\n",
       "      <th>2</th>\n",
       "      <td>12.0</td>\n",
       "    </tr>\n",
       "    <tr>\n",
       "      <th>3</th>\n",
       "      <td>16.5</td>\n",
       "    </tr>\n",
       "    <tr>\n",
       "      <th>4</th>\n",
       "      <td>17.9</td>\n",
       "    </tr>\n",
       "  </tbody>\n",
       "</table>\n",
       "</div>"
      ],
      "text/plain": [
       "   Sales\n",
       "0   22.1\n",
       "1   10.4\n",
       "2   12.0\n",
       "3   16.5\n",
       "4   17.9"
      ]
     },
     "execution_count": 22,
     "metadata": {},
     "output_type": "execute_result"
    }
   ],
   "source": [
    "Y.head()"
   ]
  },
  {
   "cell_type": "markdown",
   "id": "12a666c9",
   "metadata": {
    "papermill": {
     "duration": 0.014234,
     "end_time": "2024-05-08T05:44:27.335166",
     "exception": false,
     "start_time": "2024-05-08T05:44:27.320932",
     "status": "completed"
    },
    "tags": []
   },
   "source": [
    "------------------------------------------------------------\n",
    "5. Split the data into training set and testing set"
   ]
  },
  {
   "cell_type": "code",
   "execution_count": 23,
   "id": "f816d157",
   "metadata": {
    "execution": {
     "iopub.execute_input": "2024-05-08T05:44:27.365459Z",
     "iopub.status.busy": "2024-05-08T05:44:27.364818Z",
     "iopub.status.idle": "2024-05-08T05:44:27.440522Z",
     "shell.execute_reply": "2024-05-08T05:44:27.439532Z"
    },
    "papermill": {
     "duration": 0.093443,
     "end_time": "2024-05-08T05:44:27.442861",
     "exception": false,
     "start_time": "2024-05-08T05:44:27.349418",
     "status": "completed"
    },
    "tags": []
   },
   "outputs": [],
   "source": [
    "from sklearn.model_selection import train_test_split\n",
    "xtrain, xtest, ytrain, ytest = train_test_split(X,Y,test_size=0.25,random_state=21)"
   ]
  },
  {
   "cell_type": "code",
   "execution_count": 24,
   "id": "c4ae19d8",
   "metadata": {
    "execution": {
     "iopub.execute_input": "2024-05-08T05:44:27.473750Z",
     "iopub.status.busy": "2024-05-08T05:44:27.473089Z",
     "iopub.status.idle": "2024-05-08T05:44:27.479075Z",
     "shell.execute_reply": "2024-05-08T05:44:27.478171Z"
    },
    "papermill": {
     "duration": 0.023557,
     "end_time": "2024-05-08T05:44:27.481128",
     "exception": false,
     "start_time": "2024-05-08T05:44:27.457571",
     "status": "completed"
    },
    "tags": []
   },
   "outputs": [
    {
     "data": {
      "text/plain": [
       "(150, 3)"
      ]
     },
     "execution_count": 24,
     "metadata": {},
     "output_type": "execute_result"
    }
   ],
   "source": [
    "xtrain.shape"
   ]
  },
  {
   "cell_type": "code",
   "execution_count": 25,
   "id": "0013062e",
   "metadata": {
    "execution": {
     "iopub.execute_input": "2024-05-08T05:44:27.511492Z",
     "iopub.status.busy": "2024-05-08T05:44:27.510962Z",
     "iopub.status.idle": "2024-05-08T05:44:27.516867Z",
     "shell.execute_reply": "2024-05-08T05:44:27.515978Z"
    },
    "papermill": {
     "duration": 0.023298,
     "end_time": "2024-05-08T05:44:27.518896",
     "exception": false,
     "start_time": "2024-05-08T05:44:27.495598",
     "status": "completed"
    },
    "tags": []
   },
   "outputs": [
    {
     "data": {
      "text/plain": [
       "(50, 3)"
      ]
     },
     "execution_count": 25,
     "metadata": {},
     "output_type": "execute_result"
    }
   ],
   "source": [
    "xtest.shape"
   ]
  },
  {
   "cell_type": "code",
   "execution_count": 26,
   "id": "c49a1cca",
   "metadata": {
    "execution": {
     "iopub.execute_input": "2024-05-08T05:44:27.549906Z",
     "iopub.status.busy": "2024-05-08T05:44:27.549345Z",
     "iopub.status.idle": "2024-05-08T05:44:27.555016Z",
     "shell.execute_reply": "2024-05-08T05:44:27.554104Z"
    },
    "papermill": {
     "duration": 0.023416,
     "end_time": "2024-05-08T05:44:27.557054",
     "exception": false,
     "start_time": "2024-05-08T05:44:27.533638",
     "status": "completed"
    },
    "tags": []
   },
   "outputs": [
    {
     "data": {
      "text/plain": [
       "(150, 1)"
      ]
     },
     "execution_count": 26,
     "metadata": {},
     "output_type": "execute_result"
    }
   ],
   "source": [
    "ytrain.shape"
   ]
  },
  {
   "cell_type": "code",
   "execution_count": 27,
   "id": "a7a0f214",
   "metadata": {
    "execution": {
     "iopub.execute_input": "2024-05-08T05:44:27.588040Z",
     "iopub.status.busy": "2024-05-08T05:44:27.587725Z",
     "iopub.status.idle": "2024-05-08T05:44:27.593361Z",
     "shell.execute_reply": "2024-05-08T05:44:27.592479Z"
    },
    "papermill": {
     "duration": 0.023338,
     "end_time": "2024-05-08T05:44:27.595244",
     "exception": false,
     "start_time": "2024-05-08T05:44:27.571906",
     "status": "completed"
    },
    "tags": []
   },
   "outputs": [
    {
     "data": {
      "text/plain": [
       "(50, 1)"
      ]
     },
     "execution_count": 27,
     "metadata": {},
     "output_type": "execute_result"
    }
   ],
   "source": [
    "ytest.shape"
   ]
  },
  {
   "cell_type": "markdown",
   "id": "299365f0",
   "metadata": {
    "papermill": {
     "duration": 0.014978,
     "end_time": "2024-05-08T05:44:27.625162",
     "exception": false,
     "start_time": "2024-05-08T05:44:27.610184",
     "status": "completed"
    },
    "tags": []
   },
   "source": [
    "## Build the model"
   ]
  },
  {
   "cell_type": "markdown",
   "id": "a9f66d26",
   "metadata": {
    "papermill": {
     "duration": 0.014823,
     "end_time": "2024-05-08T05:44:27.654941",
     "exception": false,
     "start_time": "2024-05-08T05:44:27.640118",
     "status": "completed"
    },
    "tags": []
   },
   "source": [
    "Performing Algorithm evaluation to choose the best models which can give accurate predictions"
   ]
  },
  {
   "cell_type": "code",
   "execution_count": 28,
   "id": "8c1b8be4",
   "metadata": {
    "execution": {
     "iopub.execute_input": "2024-05-08T05:44:27.686598Z",
     "iopub.status.busy": "2024-05-08T05:44:27.685986Z",
     "iopub.status.idle": "2024-05-08T05:44:28.019432Z",
     "shell.execute_reply": "2024-05-08T05:44:28.018380Z"
    },
    "papermill": {
     "duration": 0.351914,
     "end_time": "2024-05-08T05:44:28.021886",
     "exception": false,
     "start_time": "2024-05-08T05:44:27.669972",
     "status": "completed"
    },
    "tags": []
   },
   "outputs": [],
   "source": [
    "from sklearn.linear_model import LinearRegression\n",
    "from sklearn.tree import DecisionTreeRegressor\n",
    "from sklearn.ensemble import RandomForestRegressor\n",
    "from sklearn.ensemble import GradientBoostingRegressor\n",
    "from xgboost import XGBRegressor\n",
    "from sklearn.neighbors import KNeighborsRegressor\n",
    "from sklearn.svm import SVR\n",
    "from sklearn.metrics import mean_squared_error,r2_score,mean_absolute_error\n",
    "from sklearn.model_selection import cross_val_score"
   ]
  },
  {
   "cell_type": "code",
   "execution_count": 29,
   "id": "41fb872d",
   "metadata": {
    "execution": {
     "iopub.execute_input": "2024-05-08T05:44:28.054225Z",
     "iopub.status.busy": "2024-05-08T05:44:28.053856Z",
     "iopub.status.idle": "2024-05-08T05:44:28.058963Z",
     "shell.execute_reply": "2024-05-08T05:44:28.058025Z"
    },
    "papermill": {
     "duration": 0.023565,
     "end_time": "2024-05-08T05:44:28.060980",
     "exception": false,
     "start_time": "2024-05-08T05:44:28.037415",
     "status": "completed"
    },
    "tags": []
   },
   "outputs": [],
   "source": [
    "dct = {\n",
    "    'Linear' : LinearRegression(),\n",
    "    'DecisionTree': DecisionTreeRegressor(),\n",
    "    'RandomForest' : RandomForestRegressor(),\n",
    "    'GradientBoosting' : GradientBoostingRegressor(),\n",
    "    'XGBoost' : XGBRegressor(),\n",
    "    'KNN': KNeighborsRegressor(),\n",
    "    'SVR' : SVR()\n",
    "}"
   ]
  },
  {
   "cell_type": "code",
   "execution_count": 30,
   "id": "6c409cdc",
   "metadata": {
    "execution": {
     "iopub.execute_input": "2024-05-08T05:44:28.093280Z",
     "iopub.status.busy": "2024-05-08T05:44:28.092967Z",
     "iopub.status.idle": "2024-05-08T05:44:29.916889Z",
     "shell.execute_reply": "2024-05-08T05:44:29.915768Z"
    },
    "papermill": {
     "duration": 1.842491,
     "end_time": "2024-05-08T05:44:29.919040",
     "exception": false,
     "start_time": "2024-05-08T05:44:28.076549",
     "status": "completed"
    },
    "tags": []
   },
   "outputs": [
    {
     "name": "stdout",
     "output_type": "stream",
     "text": [
      "Scores for Linear\n",
      "Training Scores\n",
      "MSE:[3.024305842053575]\n",
      "R2:[0.8856225446863943]\n",
      "Testing Scores\n",
      "MSE:[1.7932781722045343]\n",
      "R2:[0.9435739690551218]\n",
      "CV:[-3.10333700064874]\n",
      "===============================\n",
      "Scores for DecisionTree\n",
      "Training Scores\n",
      "MSE:[3.024305842053575, 0.0]\n",
      "R2:[0.8856225446863943, 1.0]\n",
      "Testing Scores\n",
      "MSE:[1.7932781722045343, 2.6044]\n",
      "R2:[0.9435739690551218, 0.9180517795450647]\n",
      "CV:[-3.10333700064874, -2.7685333333333326]\n",
      "===============================\n",
      "Scores for RandomForest\n",
      "Training Scores\n",
      "MSE:[3.024305842053575, 0.0, 0.23085018666666457]\n",
      "R2:[0.8856225446863943, 1.0, 0.9912693826985187]\n",
      "Testing Scores\n",
      "MSE:[1.7932781722045343, 2.6044, 1.6742769599999958]\n",
      "R2:[0.9435739690551218, 0.9180517795450647, 0.9473183775838202]\n",
      "CV:[-3.10333700064874, -2.7685333333333326, -1.6011043733333352]\n",
      "===============================\n",
      "Scores for GradientBoosting\n",
      "Training Scores\n",
      "MSE:[3.024305842053575, 0.0, 0.23085018666666457, 0.19906597247576466]\n",
      "R2:[0.8856225446863943, 1.0, 0.9912693826985187, 0.9924714428498919]\n",
      "Testing Scores\n",
      "MSE:[1.7932781722045343, 2.6044, 1.6742769599999958, 1.8452671399507536]\n",
      "R2:[0.9435739690551218, 0.9180517795450647, 0.9473183775838202, 0.941938120725337]\n",
      "CV:[-3.10333700064874, -2.7685333333333326, -1.6011043733333352, -1.8394614352158747]\n",
      "===============================\n",
      "Scores for XGBoost\n",
      "Training Scores\n",
      "MSE:[3.024305842053575, 0.0, 0.23085018666666457, 0.19906597247576466, 2.3430858079032835e-06]\n",
      "R2:[0.8856225446863943, 1.0, 0.9912693826985187, 0.9924714428498919, 0.9999999113858828]\n",
      "Testing Scores\n",
      "MSE:[1.7932781722045343, 2.6044, 1.6742769599999958, 1.8452671399507536, 1.7345336315720055]\n",
      "R2:[0.9435739690551218, 0.9180517795450647, 0.9473183775838202, 0.941938120725337, 0.9454223834946389]\n",
      "CV:[-3.10333700064874, -2.7685333333333326, -1.6011043733333352, -1.8394614352158747, -1.7446162127577949]\n",
      "===============================\n",
      "Scores for KNN\n",
      "Training Scores\n",
      "MSE:[3.024305842053575, 0.0, 0.23085018666666457, 0.19906597247576466, 2.3430858079032835e-06, 1.1083093333333331]\n",
      "R2:[0.8856225446863943, 1.0, 0.9912693826985187, 0.9924714428498919, 0.9999999113858828, 0.9580843975882715]\n",
      "Testing Scores\n",
      "MSE:[1.7932781722045343, 2.6044, 1.6742769599999958, 1.8452671399507536, 1.7345336315720055, 1.7757839999999998]\n",
      "R2:[0.9435739690551218, 0.9180517795450647, 0.9473183775838202, 0.941938120725337, 0.9454223834946389, 0.9441244283856755]\n",
      "CV:[-3.10333700064874, -2.7685333333333326, -1.6011043733333352, -1.8394614352158747, -1.7446162127577949, -2.066458666666667]\n",
      "===============================\n",
      "Scores for SVR\n",
      "Training Scores\n",
      "MSE:[3.024305842053575, 0.0, 0.23085018666666457, 0.19906597247576466, 2.3430858079032835e-06, 1.1083093333333331, 3.5621140087615184]\n",
      "R2:[0.8856225446863943, 1.0, 0.9912693826985187, 0.9924714428498919, 0.9999999113858828, 0.9580843975882715, 0.8652829584251183]\n",
      "Testing Scores\n",
      "MSE:[1.7932781722045343, 2.6044, 1.6742769599999958, 1.8452671399507536, 1.7345336315720055, 1.7757839999999998, 4.473618585289211]\n",
      "R2:[0.9435739690551218, 0.9180517795450647, 0.9473183775838202, 0.941938120725337, 0.9454223834946389, 0.9441244283856755, 0.8592362609205283]\n",
      "CV:[-3.10333700064874, -2.7685333333333326, -1.6011043733333352, -1.8394614352158747, -1.7446162127577949, -2.066458666666667, -4.292786111483882]\n",
      "===============================\n"
     ]
    }
   ],
   "source": [
    "train_mse = []\n",
    "train_r2 = []\n",
    "test_mse = []\n",
    "test_r2 = []\n",
    "train_cv = []\n",
    "\n",
    "for name,model in dct.items():\n",
    "    # Fit the model\n",
    "    model.fit(xtrain,ytrain)\n",
    "    # Predict the results\n",
    "    ypred_train = model.predict(xtrain)\n",
    "    ypred_test = model.predict(xtest)\n",
    "    # Calculate MSE and R2 score\n",
    "    mse_train = mean_squared_error(ytrain,ypred_train) \n",
    "    mse_test = mean_squared_error(ytest,ypred_test)\n",
    "    r2_train = r2_score(ytrain,ypred_train)\n",
    "    r2_test =r2_score(ytest,ypred_test)\n",
    "    # Calculate cross validation score\n",
    "    scores = cross_val_score(model,xtrain,ytrain,cv=5,scoring='neg_mean_squared_error')\n",
    "    score = scores.mean()\n",
    "\n",
    "    # Append the results list\n",
    "    train_mse.append(mse_train)\n",
    "    test_mse.append(mse_test)\n",
    "    train_r2.append(r2_train)\n",
    "    test_r2.append(r2_test)\n",
    "    train_cv.append(score)\n",
    "\n",
    "    # print the results\n",
    "    print(f'Scores for {name}')\n",
    "    print(\"Training Scores\")\n",
    "    print(f'MSE:{train_mse}')\n",
    "    print(f'R2:{train_r2}')\n",
    "    print(\"Testing Scores\")\n",
    "    print(f'MSE:{test_mse}')\n",
    "    print(f'R2:{test_r2}')\n",
    "    print(f'CV:{train_cv}')\n",
    "    print(\"===============================\")\n",
    "\n"
   ]
  },
  {
   "cell_type": "code",
   "execution_count": 31,
   "id": "f262deb6",
   "metadata": {
    "execution": {
     "iopub.execute_input": "2024-05-08T05:44:29.952381Z",
     "iopub.status.busy": "2024-05-08T05:44:29.951530Z",
     "iopub.status.idle": "2024-05-08T05:44:29.956311Z",
     "shell.execute_reply": "2024-05-08T05:44:29.955383Z"
    },
    "papermill": {
     "duration": 0.023342,
     "end_time": "2024-05-08T05:44:29.958215",
     "exception": false,
     "start_time": "2024-05-08T05:44:29.934873",
     "status": "completed"
    },
    "tags": []
   },
   "outputs": [],
   "source": [
    "res = {'Name':list(dct.keys()),\n",
    "       'MSE Training Scores':train_mse,\n",
    "       'MSE Testing Scores':test_mse,\n",
    "       'R2 Training Scores':train_r2,\n",
    "       'R2 Testing Scores':test_r2,\n",
    "       'CV Training Scores':train_cv}"
   ]
  },
  {
   "cell_type": "code",
   "execution_count": 32,
   "id": "fb9d0f86",
   "metadata": {
    "execution": {
     "iopub.execute_input": "2024-05-08T05:44:29.991527Z",
     "iopub.status.busy": "2024-05-08T05:44:29.991205Z",
     "iopub.status.idle": "2024-05-08T05:44:30.005702Z",
     "shell.execute_reply": "2024-05-08T05:44:30.004800Z"
    },
    "papermill": {
     "duration": 0.032852,
     "end_time": "2024-05-08T05:44:30.007607",
     "exception": false,
     "start_time": "2024-05-08T05:44:29.974755",
     "status": "completed"
    },
    "tags": []
   },
   "outputs": [
    {
     "data": {
      "text/html": [
       "<div>\n",
       "<style scoped>\n",
       "    .dataframe tbody tr th:only-of-type {\n",
       "        vertical-align: middle;\n",
       "    }\n",
       "\n",
       "    .dataframe tbody tr th {\n",
       "        vertical-align: top;\n",
       "    }\n",
       "\n",
       "    .dataframe thead th {\n",
       "        text-align: right;\n",
       "    }\n",
       "</style>\n",
       "<table border=\"1\" class=\"dataframe\">\n",
       "  <thead>\n",
       "    <tr style=\"text-align: right;\">\n",
       "      <th></th>\n",
       "      <th>Name</th>\n",
       "      <th>MSE Training Scores</th>\n",
       "      <th>MSE Testing Scores</th>\n",
       "      <th>R2 Training Scores</th>\n",
       "      <th>R2 Testing Scores</th>\n",
       "      <th>CV Training Scores</th>\n",
       "    </tr>\n",
       "  </thead>\n",
       "  <tbody>\n",
       "    <tr>\n",
       "      <th>2</th>\n",
       "      <td>RandomForest</td>\n",
       "      <td>0.230850</td>\n",
       "      <td>1.674277</td>\n",
       "      <td>0.991269</td>\n",
       "      <td>0.947318</td>\n",
       "      <td>-1.601104</td>\n",
       "    </tr>\n",
       "    <tr>\n",
       "      <th>4</th>\n",
       "      <td>XGBoost</td>\n",
       "      <td>0.000002</td>\n",
       "      <td>1.734534</td>\n",
       "      <td>1.000000</td>\n",
       "      <td>0.945422</td>\n",
       "      <td>-1.744616</td>\n",
       "    </tr>\n",
       "    <tr>\n",
       "      <th>3</th>\n",
       "      <td>GradientBoosting</td>\n",
       "      <td>0.199066</td>\n",
       "      <td>1.845267</td>\n",
       "      <td>0.992471</td>\n",
       "      <td>0.941938</td>\n",
       "      <td>-1.839461</td>\n",
       "    </tr>\n",
       "    <tr>\n",
       "      <th>5</th>\n",
       "      <td>KNN</td>\n",
       "      <td>1.108309</td>\n",
       "      <td>1.775784</td>\n",
       "      <td>0.958084</td>\n",
       "      <td>0.944124</td>\n",
       "      <td>-2.066459</td>\n",
       "    </tr>\n",
       "    <tr>\n",
       "      <th>1</th>\n",
       "      <td>DecisionTree</td>\n",
       "      <td>0.000000</td>\n",
       "      <td>2.604400</td>\n",
       "      <td>1.000000</td>\n",
       "      <td>0.918052</td>\n",
       "      <td>-2.768533</td>\n",
       "    </tr>\n",
       "    <tr>\n",
       "      <th>0</th>\n",
       "      <td>Linear</td>\n",
       "      <td>3.024306</td>\n",
       "      <td>1.793278</td>\n",
       "      <td>0.885623</td>\n",
       "      <td>0.943574</td>\n",
       "      <td>-3.103337</td>\n",
       "    </tr>\n",
       "    <tr>\n",
       "      <th>6</th>\n",
       "      <td>SVR</td>\n",
       "      <td>3.562114</td>\n",
       "      <td>4.473619</td>\n",
       "      <td>0.865283</td>\n",
       "      <td>0.859236</td>\n",
       "      <td>-4.292786</td>\n",
       "    </tr>\n",
       "  </tbody>\n",
       "</table>\n",
       "</div>"
      ],
      "text/plain": [
       "               Name  MSE Training Scores  MSE Testing Scores  \\\n",
       "2      RandomForest             0.230850            1.674277   \n",
       "4           XGBoost             0.000002            1.734534   \n",
       "3  GradientBoosting             0.199066            1.845267   \n",
       "5               KNN             1.108309            1.775784   \n",
       "1      DecisionTree             0.000000            2.604400   \n",
       "0            Linear             3.024306            1.793278   \n",
       "6               SVR             3.562114            4.473619   \n",
       "\n",
       "   R2 Training Scores  R2 Testing Scores  CV Training Scores  \n",
       "2            0.991269           0.947318           -1.601104  \n",
       "4            1.000000           0.945422           -1.744616  \n",
       "3            0.992471           0.941938           -1.839461  \n",
       "5            0.958084           0.944124           -2.066459  \n",
       "1            1.000000           0.918052           -2.768533  \n",
       "0            0.885623           0.943574           -3.103337  \n",
       "6            0.865283           0.859236           -4.292786  "
      ]
     },
     "execution_count": 32,
     "metadata": {},
     "output_type": "execute_result"
    }
   ],
   "source": [
    "df_res = pd.DataFrame(res)\n",
    "df_res.sort_values('CV Training Scores',ascending=False)"
   ]
  },
  {
   "cell_type": "markdown",
   "id": "d3e9b958",
   "metadata": {
    "papermill": {
     "duration": 0.015447,
     "end_time": "2024-05-08T05:44:30.038987",
     "exception": false,
     "start_time": "2024-05-08T05:44:30.023540",
     "status": "completed"
    },
    "tags": []
   },
   "source": [
    "#### Lets consider Random Forest Regressor as its giving good results"
   ]
  },
  {
   "cell_type": "code",
   "execution_count": 33,
   "id": "123dfa07",
   "metadata": {
    "execution": {
     "iopub.execute_input": "2024-05-08T05:44:30.071359Z",
     "iopub.status.busy": "2024-05-08T05:44:30.071056Z",
     "iopub.status.idle": "2024-05-08T05:44:30.075467Z",
     "shell.execute_reply": "2024-05-08T05:44:30.074415Z"
    },
    "papermill": {
     "duration": 0.022914,
     "end_time": "2024-05-08T05:44:30.077405",
     "exception": false,
     "start_time": "2024-05-08T05:44:30.054491",
     "status": "completed"
    },
    "tags": []
   },
   "outputs": [],
   "source": [
    "from sklearn.model_selection import RandomizedSearchCV"
   ]
  },
  {
   "cell_type": "code",
   "execution_count": 34,
   "id": "9593fa0c",
   "metadata": {
    "execution": {
     "iopub.execute_input": "2024-05-08T05:44:30.109952Z",
     "iopub.status.busy": "2024-05-08T05:44:30.109643Z",
     "iopub.status.idle": "2024-05-08T05:44:30.114067Z",
     "shell.execute_reply": "2024-05-08T05:44:30.113224Z"
    },
    "papermill": {
     "duration": 0.02286,
     "end_time": "2024-05-08T05:44:30.115942",
     "exception": false,
     "start_time": "2024-05-08T05:44:30.093082",
     "status": "completed"
    },
    "tags": []
   },
   "outputs": [],
   "source": [
    "params = {'n_estimators':[50,100,200,300],\n",
    "          'max_depth':[5,6,7,8],\n",
    "          'criterion':['squared_error','absolute_error']}"
   ]
  },
  {
   "cell_type": "code",
   "execution_count": 35,
   "id": "91ae635c",
   "metadata": {
    "execution": {
     "iopub.execute_input": "2024-05-08T05:44:30.148410Z",
     "iopub.status.busy": "2024-05-08T05:44:30.148122Z",
     "iopub.status.idle": "2024-05-08T05:44:44.862263Z",
     "shell.execute_reply": "2024-05-08T05:44:44.861245Z"
    },
    "papermill": {
     "duration": 14.732779,
     "end_time": "2024-05-08T05:44:44.864371",
     "exception": false,
     "start_time": "2024-05-08T05:44:30.131592",
     "status": "completed"
    },
    "tags": []
   },
   "outputs": [
    {
     "data": {
      "text/html": [
       "<style>#sk-container-id-2 {color: black;background-color: white;}#sk-container-id-2 pre{padding: 0;}#sk-container-id-2 div.sk-toggleable {background-color: white;}#sk-container-id-2 label.sk-toggleable__label {cursor: pointer;display: block;width: 100%;margin-bottom: 0;padding: 0.3em;box-sizing: border-box;text-align: center;}#sk-container-id-2 label.sk-toggleable__label-arrow:before {content: \"▸\";float: left;margin-right: 0.25em;color: #696969;}#sk-container-id-2 label.sk-toggleable__label-arrow:hover:before {color: black;}#sk-container-id-2 div.sk-estimator:hover label.sk-toggleable__label-arrow:before {color: black;}#sk-container-id-2 div.sk-toggleable__content {max-height: 0;max-width: 0;overflow: hidden;text-align: left;background-color: #f0f8ff;}#sk-container-id-2 div.sk-toggleable__content pre {margin: 0.2em;color: black;border-radius: 0.25em;background-color: #f0f8ff;}#sk-container-id-2 input.sk-toggleable__control:checked~div.sk-toggleable__content {max-height: 200px;max-width: 100%;overflow: auto;}#sk-container-id-2 input.sk-toggleable__control:checked~label.sk-toggleable__label-arrow:before {content: \"▾\";}#sk-container-id-2 div.sk-estimator input.sk-toggleable__control:checked~label.sk-toggleable__label {background-color: #d4ebff;}#sk-container-id-2 div.sk-label input.sk-toggleable__control:checked~label.sk-toggleable__label {background-color: #d4ebff;}#sk-container-id-2 input.sk-hidden--visually {border: 0;clip: rect(1px 1px 1px 1px);clip: rect(1px, 1px, 1px, 1px);height: 1px;margin: -1px;overflow: hidden;padding: 0;position: absolute;width: 1px;}#sk-container-id-2 div.sk-estimator {font-family: monospace;background-color: #f0f8ff;border: 1px dotted black;border-radius: 0.25em;box-sizing: border-box;margin-bottom: 0.5em;}#sk-container-id-2 div.sk-estimator:hover {background-color: #d4ebff;}#sk-container-id-2 div.sk-parallel-item::after {content: \"\";width: 100%;border-bottom: 1px solid gray;flex-grow: 1;}#sk-container-id-2 div.sk-label:hover label.sk-toggleable__label {background-color: #d4ebff;}#sk-container-id-2 div.sk-serial::before {content: \"\";position: absolute;border-left: 1px solid gray;box-sizing: border-box;top: 0;bottom: 0;left: 50%;z-index: 0;}#sk-container-id-2 div.sk-serial {display: flex;flex-direction: column;align-items: center;background-color: white;padding-right: 0.2em;padding-left: 0.2em;position: relative;}#sk-container-id-2 div.sk-item {position: relative;z-index: 1;}#sk-container-id-2 div.sk-parallel {display: flex;align-items: stretch;justify-content: center;background-color: white;position: relative;}#sk-container-id-2 div.sk-item::before, #sk-container-id-2 div.sk-parallel-item::before {content: \"\";position: absolute;border-left: 1px solid gray;box-sizing: border-box;top: 0;bottom: 0;left: 50%;z-index: -1;}#sk-container-id-2 div.sk-parallel-item {display: flex;flex-direction: column;z-index: 1;position: relative;background-color: white;}#sk-container-id-2 div.sk-parallel-item:first-child::after {align-self: flex-end;width: 50%;}#sk-container-id-2 div.sk-parallel-item:last-child::after {align-self: flex-start;width: 50%;}#sk-container-id-2 div.sk-parallel-item:only-child::after {width: 0;}#sk-container-id-2 div.sk-dashed-wrapped {border: 1px dashed gray;margin: 0 0.4em 0.5em 0.4em;box-sizing: border-box;padding-bottom: 0.4em;background-color: white;}#sk-container-id-2 div.sk-label label {font-family: monospace;font-weight: bold;display: inline-block;line-height: 1.2em;}#sk-container-id-2 div.sk-label-container {text-align: center;}#sk-container-id-2 div.sk-container {/* jupyter's `normalize.less` sets `[hidden] { display: none; }` but bootstrap.min.css set `[hidden] { display: none !important; }` so we also need the `!important` here to be able to override the default hidden behavior on the sphinx rendered scikit-learn.org. See: https://github.com/scikit-learn/scikit-learn/issues/21755 */display: inline-block !important;position: relative;}#sk-container-id-2 div.sk-text-repr-fallback {display: none;}</style><div id=\"sk-container-id-2\" class=\"sk-top-container\"><div class=\"sk-text-repr-fallback\"><pre>RandomizedSearchCV(cv=5, estimator=RandomForestRegressor(),\n",
       "                   param_distributions={&#x27;criterion&#x27;: [&#x27;squared_error&#x27;,\n",
       "                                                      &#x27;absolute_error&#x27;],\n",
       "                                        &#x27;max_depth&#x27;: [5, 6, 7, 8],\n",
       "                                        &#x27;n_estimators&#x27;: [50, 100, 200, 300]},\n",
       "                   scoring=&#x27;neg_mean_squared_error&#x27;)</pre><b>In a Jupyter environment, please rerun this cell to show the HTML representation or trust the notebook. <br />On GitHub, the HTML representation is unable to render, please try loading this page with nbviewer.org.</b></div><div class=\"sk-container\" hidden><div class=\"sk-item sk-dashed-wrapped\"><div class=\"sk-label-container\"><div class=\"sk-label sk-toggleable\"><input class=\"sk-toggleable__control sk-hidden--visually\" id=\"sk-estimator-id-3\" type=\"checkbox\" ><label for=\"sk-estimator-id-3\" class=\"sk-toggleable__label sk-toggleable__label-arrow\">RandomizedSearchCV</label><div class=\"sk-toggleable__content\"><pre>RandomizedSearchCV(cv=5, estimator=RandomForestRegressor(),\n",
       "                   param_distributions={&#x27;criterion&#x27;: [&#x27;squared_error&#x27;,\n",
       "                                                      &#x27;absolute_error&#x27;],\n",
       "                                        &#x27;max_depth&#x27;: [5, 6, 7, 8],\n",
       "                                        &#x27;n_estimators&#x27;: [50, 100, 200, 300]},\n",
       "                   scoring=&#x27;neg_mean_squared_error&#x27;)</pre></div></div></div><div class=\"sk-parallel\"><div class=\"sk-parallel-item\"><div class=\"sk-item\"><div class=\"sk-label-container\"><div class=\"sk-label sk-toggleable\"><input class=\"sk-toggleable__control sk-hidden--visually\" id=\"sk-estimator-id-4\" type=\"checkbox\" ><label for=\"sk-estimator-id-4\" class=\"sk-toggleable__label sk-toggleable__label-arrow\">estimator: RandomForestRegressor</label><div class=\"sk-toggleable__content\"><pre>RandomForestRegressor()</pre></div></div></div><div class=\"sk-serial\"><div class=\"sk-item\"><div class=\"sk-estimator sk-toggleable\"><input class=\"sk-toggleable__control sk-hidden--visually\" id=\"sk-estimator-id-5\" type=\"checkbox\" ><label for=\"sk-estimator-id-5\" class=\"sk-toggleable__label sk-toggleable__label-arrow\">RandomForestRegressor</label><div class=\"sk-toggleable__content\"><pre>RandomForestRegressor()</pre></div></div></div></div></div></div></div></div></div></div>"
      ],
      "text/plain": [
       "RandomizedSearchCV(cv=5, estimator=RandomForestRegressor(),\n",
       "                   param_distributions={'criterion': ['squared_error',\n",
       "                                                      'absolute_error'],\n",
       "                                        'max_depth': [5, 6, 7, 8],\n",
       "                                        'n_estimators': [50, 100, 200, 300]},\n",
       "                   scoring='neg_mean_squared_error')"
      ]
     },
     "execution_count": 35,
     "metadata": {},
     "output_type": "execute_result"
    }
   ],
   "source": [
    "rfr = RandomForestRegressor()\n",
    "rscv = RandomizedSearchCV(rfr,params,cv=5,scoring='neg_mean_squared_error')\n",
    "rscv.fit(xtrain,ytrain)"
   ]
  },
  {
   "cell_type": "code",
   "execution_count": 36,
   "id": "77588608",
   "metadata": {
    "execution": {
     "iopub.execute_input": "2024-05-08T05:44:44.898911Z",
     "iopub.status.busy": "2024-05-08T05:44:44.898521Z",
     "iopub.status.idle": "2024-05-08T05:44:44.904909Z",
     "shell.execute_reply": "2024-05-08T05:44:44.903928Z"
    },
    "papermill": {
     "duration": 0.026005,
     "end_time": "2024-05-08T05:44:44.907002",
     "exception": false,
     "start_time": "2024-05-08T05:44:44.880997",
     "status": "completed"
    },
    "tags": []
   },
   "outputs": [
    {
     "data": {
      "text/plain": [
       "{'n_estimators': 300, 'max_depth': 8, 'criterion': 'absolute_error'}"
      ]
     },
     "execution_count": 36,
     "metadata": {},
     "output_type": "execute_result"
    }
   ],
   "source": [
    "rscv.best_params_"
   ]
  },
  {
   "cell_type": "code",
   "execution_count": 37,
   "id": "b03c9084",
   "metadata": {
    "execution": {
     "iopub.execute_input": "2024-05-08T05:44:44.942040Z",
     "iopub.status.busy": "2024-05-08T05:44:44.941656Z",
     "iopub.status.idle": "2024-05-08T05:44:44.949095Z",
     "shell.execute_reply": "2024-05-08T05:44:44.948191Z"
    },
    "papermill": {
     "duration": 0.027478,
     "end_time": "2024-05-08T05:44:44.951263",
     "exception": false,
     "start_time": "2024-05-08T05:44:44.923785",
     "status": "completed"
    },
    "tags": []
   },
   "outputs": [
    {
     "data": {
      "text/html": [
       "<style>#sk-container-id-3 {color: black;background-color: white;}#sk-container-id-3 pre{padding: 0;}#sk-container-id-3 div.sk-toggleable {background-color: white;}#sk-container-id-3 label.sk-toggleable__label {cursor: pointer;display: block;width: 100%;margin-bottom: 0;padding: 0.3em;box-sizing: border-box;text-align: center;}#sk-container-id-3 label.sk-toggleable__label-arrow:before {content: \"▸\";float: left;margin-right: 0.25em;color: #696969;}#sk-container-id-3 label.sk-toggleable__label-arrow:hover:before {color: black;}#sk-container-id-3 div.sk-estimator:hover label.sk-toggleable__label-arrow:before {color: black;}#sk-container-id-3 div.sk-toggleable__content {max-height: 0;max-width: 0;overflow: hidden;text-align: left;background-color: #f0f8ff;}#sk-container-id-3 div.sk-toggleable__content pre {margin: 0.2em;color: black;border-radius: 0.25em;background-color: #f0f8ff;}#sk-container-id-3 input.sk-toggleable__control:checked~div.sk-toggleable__content {max-height: 200px;max-width: 100%;overflow: auto;}#sk-container-id-3 input.sk-toggleable__control:checked~label.sk-toggleable__label-arrow:before {content: \"▾\";}#sk-container-id-3 div.sk-estimator input.sk-toggleable__control:checked~label.sk-toggleable__label {background-color: #d4ebff;}#sk-container-id-3 div.sk-label input.sk-toggleable__control:checked~label.sk-toggleable__label {background-color: #d4ebff;}#sk-container-id-3 input.sk-hidden--visually {border: 0;clip: rect(1px 1px 1px 1px);clip: rect(1px, 1px, 1px, 1px);height: 1px;margin: -1px;overflow: hidden;padding: 0;position: absolute;width: 1px;}#sk-container-id-3 div.sk-estimator {font-family: monospace;background-color: #f0f8ff;border: 1px dotted black;border-radius: 0.25em;box-sizing: border-box;margin-bottom: 0.5em;}#sk-container-id-3 div.sk-estimator:hover {background-color: #d4ebff;}#sk-container-id-3 div.sk-parallel-item::after {content: \"\";width: 100%;border-bottom: 1px solid gray;flex-grow: 1;}#sk-container-id-3 div.sk-label:hover label.sk-toggleable__label {background-color: #d4ebff;}#sk-container-id-3 div.sk-serial::before {content: \"\";position: absolute;border-left: 1px solid gray;box-sizing: border-box;top: 0;bottom: 0;left: 50%;z-index: 0;}#sk-container-id-3 div.sk-serial {display: flex;flex-direction: column;align-items: center;background-color: white;padding-right: 0.2em;padding-left: 0.2em;position: relative;}#sk-container-id-3 div.sk-item {position: relative;z-index: 1;}#sk-container-id-3 div.sk-parallel {display: flex;align-items: stretch;justify-content: center;background-color: white;position: relative;}#sk-container-id-3 div.sk-item::before, #sk-container-id-3 div.sk-parallel-item::before {content: \"\";position: absolute;border-left: 1px solid gray;box-sizing: border-box;top: 0;bottom: 0;left: 50%;z-index: -1;}#sk-container-id-3 div.sk-parallel-item {display: flex;flex-direction: column;z-index: 1;position: relative;background-color: white;}#sk-container-id-3 div.sk-parallel-item:first-child::after {align-self: flex-end;width: 50%;}#sk-container-id-3 div.sk-parallel-item:last-child::after {align-self: flex-start;width: 50%;}#sk-container-id-3 div.sk-parallel-item:only-child::after {width: 0;}#sk-container-id-3 div.sk-dashed-wrapped {border: 1px dashed gray;margin: 0 0.4em 0.5em 0.4em;box-sizing: border-box;padding-bottom: 0.4em;background-color: white;}#sk-container-id-3 div.sk-label label {font-family: monospace;font-weight: bold;display: inline-block;line-height: 1.2em;}#sk-container-id-3 div.sk-label-container {text-align: center;}#sk-container-id-3 div.sk-container {/* jupyter's `normalize.less` sets `[hidden] { display: none; }` but bootstrap.min.css set `[hidden] { display: none !important; }` so we also need the `!important` here to be able to override the default hidden behavior on the sphinx rendered scikit-learn.org. See: https://github.com/scikit-learn/scikit-learn/issues/21755 */display: inline-block !important;position: relative;}#sk-container-id-3 div.sk-text-repr-fallback {display: none;}</style><div id=\"sk-container-id-3\" class=\"sk-top-container\"><div class=\"sk-text-repr-fallback\"><pre>RandomForestRegressor(criterion=&#x27;absolute_error&#x27;, max_depth=8, n_estimators=300)</pre><b>In a Jupyter environment, please rerun this cell to show the HTML representation or trust the notebook. <br />On GitHub, the HTML representation is unable to render, please try loading this page with nbviewer.org.</b></div><div class=\"sk-container\" hidden><div class=\"sk-item\"><div class=\"sk-estimator sk-toggleable\"><input class=\"sk-toggleable__control sk-hidden--visually\" id=\"sk-estimator-id-6\" type=\"checkbox\" checked><label for=\"sk-estimator-id-6\" class=\"sk-toggleable__label sk-toggleable__label-arrow\">RandomForestRegressor</label><div class=\"sk-toggleable__content\"><pre>RandomForestRegressor(criterion=&#x27;absolute_error&#x27;, max_depth=8, n_estimators=300)</pre></div></div></div></div></div>"
      ],
      "text/plain": [
       "RandomForestRegressor(criterion='absolute_error', max_depth=8, n_estimators=300)"
      ]
     },
     "execution_count": 37,
     "metadata": {},
     "output_type": "execute_result"
    }
   ],
   "source": [
    "best_rfr = rscv.best_estimator_\n",
    "best_rfr"
   ]
  },
  {
   "cell_type": "code",
   "execution_count": 38,
   "id": "89878e63",
   "metadata": {
    "execution": {
     "iopub.execute_input": "2024-05-08T05:44:44.986200Z",
     "iopub.status.busy": "2024-05-08T05:44:44.985858Z",
     "iopub.status.idle": "2024-05-08T05:44:45.009974Z",
     "shell.execute_reply": "2024-05-08T05:44:45.008924Z"
    },
    "papermill": {
     "duration": 0.04388,
     "end_time": "2024-05-08T05:44:45.011957",
     "exception": false,
     "start_time": "2024-05-08T05:44:44.968077",
     "status": "completed"
    },
    "tags": []
   },
   "outputs": [
    {
     "data": {
      "text/plain": [
       "0.9886552675806568"
      ]
     },
     "execution_count": 38,
     "metadata": {},
     "output_type": "execute_result"
    }
   ],
   "source": [
    "best_rfr.score(xtrain,ytrain)"
   ]
  },
  {
   "cell_type": "code",
   "execution_count": 39,
   "id": "660fc631",
   "metadata": {
    "execution": {
     "iopub.execute_input": "2024-05-08T05:44:45.049316Z",
     "iopub.status.busy": "2024-05-08T05:44:45.048962Z",
     "iopub.status.idle": "2024-05-08T05:44:45.071923Z",
     "shell.execute_reply": "2024-05-08T05:44:45.070738Z"
    },
    "papermill": {
     "duration": 0.043896,
     "end_time": "2024-05-08T05:44:45.073995",
     "exception": false,
     "start_time": "2024-05-08T05:44:45.030099",
     "status": "completed"
    },
    "tags": []
   },
   "outputs": [
    {
     "data": {
      "text/plain": [
       "0.9440011192590841"
      ]
     },
     "execution_count": 39,
     "metadata": {},
     "output_type": "execute_result"
    }
   ],
   "source": [
    "best_rfr.score(xtest,ytest)"
   ]
  },
  {
   "cell_type": "markdown",
   "id": "ef9e442f",
   "metadata": {
    "papermill": {
     "duration": 0.016445,
     "end_time": "2024-05-08T05:44:45.107459",
     "exception": false,
     "start_time": "2024-05-08T05:44:45.091014",
     "status": "completed"
    },
    "tags": []
   },
   "source": [
    "## Evaluate the models : Random Forest"
   ]
  },
  {
   "cell_type": "code",
   "execution_count": 40,
   "id": "774bece1",
   "metadata": {
    "execution": {
     "iopub.execute_input": "2024-05-08T05:44:45.142586Z",
     "iopub.status.busy": "2024-05-08T05:44:45.142198Z",
     "iopub.status.idle": "2024-05-08T05:44:45.148145Z",
     "shell.execute_reply": "2024-05-08T05:44:45.147239Z"
    },
    "papermill": {
     "duration": 0.026038,
     "end_time": "2024-05-08T05:44:45.150232",
     "exception": false,
     "start_time": "2024-05-08T05:44:45.124194",
     "status": "completed"
    },
    "tags": []
   },
   "outputs": [],
   "source": [
    "def eval_model(model,xtrain,ytrain):\n",
    "    # Fit the model\n",
    "    model.fit(xtrain,ytrain)\n",
    "    # Predict the scores\n",
    "    ypred_test = model.predict(xtest)\n",
    "    # Calculate MSE,RMSE,MAE,R2 scores\n",
    "    mse = mean_squared_error(ytest,ypred_test)\n",
    "    rmse = mse**(1/2)\n",
    "    mae = mean_absolute_error(ytest,ypred_test)\n",
    "    r2 = round(r2_score(ytest,ypred_test),1)*100\n",
    "    return mse,rmse,mae,r2"
   ]
  },
  {
   "cell_type": "markdown",
   "id": "fe6a6984",
   "metadata": {
    "papermill": {
     "duration": 0.016739,
     "end_time": "2024-05-08T05:44:45.184067",
     "exception": false,
     "start_time": "2024-05-08T05:44:45.167328",
     "status": "completed"
    },
    "tags": []
   },
   "source": [
    "Random Forest Evaluation Metrics"
   ]
  },
  {
   "cell_type": "code",
   "execution_count": 41,
   "id": "83f5ae0c",
   "metadata": {
    "execution": {
     "iopub.execute_input": "2024-05-08T05:44:45.220417Z",
     "iopub.status.busy": "2024-05-08T05:44:45.219490Z",
     "iopub.status.idle": "2024-05-08T05:44:45.909927Z",
     "shell.execute_reply": "2024-05-08T05:44:45.908955Z"
    },
    "papermill": {
     "duration": 0.711403,
     "end_time": "2024-05-08T05:44:45.912365",
     "exception": false,
     "start_time": "2024-05-08T05:44:45.200962",
     "status": "completed"
    },
    "tags": []
   },
   "outputs": [
    {
     "name": "stdout",
     "output_type": "stream",
     "text": [
      "Evaluation Metrics: \n",
      "MSE: 1.6867399311111273\n",
      "RMSE:1.2987455220754862\n",
      "MAE:1.0345133333333405\n",
      "R2:90.0\n"
     ]
    }
   ],
   "source": [
    "(MSE,RMSE,MAE,r2) = eval_model(best_rfr,xtrain,ytrain)\n",
    "print(f'Evaluation Metrics: \\nMSE: {MSE}\\nRMSE:{RMSE}\\nMAE:{MAE}\\nR2:{r2}')"
   ]
  },
  {
   "cell_type": "markdown",
   "id": "f2ac721a",
   "metadata": {
    "papermill": {
     "duration": 0.016635,
     "end_time": "2024-05-08T05:44:45.946335",
     "exception": false,
     "start_time": "2024-05-08T05:44:45.929700",
     "status": "completed"
    },
    "tags": []
   },
   "source": [
    "#### Random Forest is providing best test score as compared to other models. Considering Random Forest for final prediction\n",
    "--------------------------------------------------------------------------------------"
   ]
  },
  {
   "cell_type": "markdown",
   "id": "c5dd3bda",
   "metadata": {
    "papermill": {
     "duration": 0.01677,
     "end_time": "2024-05-08T05:44:45.980362",
     "exception": false,
     "start_time": "2024-05-08T05:44:45.963592",
     "status": "completed"
    },
    "tags": []
   },
   "source": [
    "## Model Prediction"
   ]
  },
  {
   "cell_type": "code",
   "execution_count": 42,
   "id": "2d5b7e8a",
   "metadata": {
    "execution": {
     "iopub.execute_input": "2024-05-08T05:44:46.016083Z",
     "iopub.status.busy": "2024-05-08T05:44:46.014941Z",
     "iopub.status.idle": "2024-05-08T05:44:46.037464Z",
     "shell.execute_reply": "2024-05-08T05:44:46.036548Z"
    },
    "papermill": {
     "duration": 0.04235,
     "end_time": "2024-05-08T05:44:46.039417",
     "exception": false,
     "start_time": "2024-05-08T05:44:45.997067",
     "status": "completed"
    },
    "tags": []
   },
   "outputs": [
    {
     "data": {
      "text/plain": [
       "array([11.88066667, 16.58416667, 22.92866667, 18.97216667, 17.20383333])"
      ]
     },
     "execution_count": 42,
     "metadata": {},
     "output_type": "execute_result"
    }
   ],
   "source": [
    "ypred_test = best_rfr.predict(xtest)\n",
    "ypred_test[:5]"
   ]
  },
  {
   "cell_type": "code",
   "execution_count": 43,
   "id": "8cb1c2c4",
   "metadata": {
    "execution": {
     "iopub.execute_input": "2024-05-08T05:44:46.075342Z",
     "iopub.status.busy": "2024-05-08T05:44:46.074977Z",
     "iopub.status.idle": "2024-05-08T05:44:46.084791Z",
     "shell.execute_reply": "2024-05-08T05:44:46.083829Z"
    },
    "papermill": {
     "duration": 0.030359,
     "end_time": "2024-05-08T05:44:46.086810",
     "exception": false,
     "start_time": "2024-05-08T05:44:46.056451",
     "status": "completed"
    },
    "tags": []
   },
   "outputs": [
    {
     "data": {
      "text/html": [
       "<div>\n",
       "<style scoped>\n",
       "    .dataframe tbody tr th:only-of-type {\n",
       "        vertical-align: middle;\n",
       "    }\n",
       "\n",
       "    .dataframe tbody tr th {\n",
       "        vertical-align: top;\n",
       "    }\n",
       "\n",
       "    .dataframe thead th {\n",
       "        text-align: right;\n",
       "    }\n",
       "</style>\n",
       "<table border=\"1\" class=\"dataframe\">\n",
       "  <thead>\n",
       "    <tr style=\"text-align: right;\">\n",
       "      <th></th>\n",
       "      <th>Sales</th>\n",
       "    </tr>\n",
       "  </thead>\n",
       "  <tbody>\n",
       "    <tr>\n",
       "      <th>144</th>\n",
       "      <td>12.3</td>\n",
       "    </tr>\n",
       "    <tr>\n",
       "      <th>9</th>\n",
       "      <td>15.6</td>\n",
       "    </tr>\n",
       "    <tr>\n",
       "      <th>17</th>\n",
       "      <td>24.4</td>\n",
       "    </tr>\n",
       "    <tr>\n",
       "      <th>20</th>\n",
       "      <td>18.0</td>\n",
       "    </tr>\n",
       "    <tr>\n",
       "      <th>45</th>\n",
       "      <td>16.1</td>\n",
       "    </tr>\n",
       "  </tbody>\n",
       "</table>\n",
       "</div>"
      ],
      "text/plain": [
       "     Sales\n",
       "144   12.3\n",
       "9     15.6\n",
       "17    24.4\n",
       "20    18.0\n",
       "45    16.1"
      ]
     },
     "execution_count": 43,
     "metadata": {},
     "output_type": "execute_result"
    }
   ],
   "source": [
    "ytest.head()"
   ]
  },
  {
   "cell_type": "code",
   "execution_count": 44,
   "id": "d2ff83a9",
   "metadata": {
    "execution": {
     "iopub.execute_input": "2024-05-08T05:44:46.122756Z",
     "iopub.status.busy": "2024-05-08T05:44:46.122426Z",
     "iopub.status.idle": "2024-05-08T05:44:46.144609Z",
     "shell.execute_reply": "2024-05-08T05:44:46.143657Z"
    },
    "papermill": {
     "duration": 0.042505,
     "end_time": "2024-05-08T05:44:46.146512",
     "exception": false,
     "start_time": "2024-05-08T05:44:46.104007",
     "status": "completed"
    },
    "tags": []
   },
   "outputs": [
    {
     "data": {
      "text/html": [
       "<div>\n",
       "<style scoped>\n",
       "    .dataframe tbody tr th:only-of-type {\n",
       "        vertical-align: middle;\n",
       "    }\n",
       "\n",
       "    .dataframe tbody tr th {\n",
       "        vertical-align: top;\n",
       "    }\n",
       "\n",
       "    .dataframe thead th {\n",
       "        text-align: right;\n",
       "    }\n",
       "</style>\n",
       "<table border=\"1\" class=\"dataframe\">\n",
       "  <thead>\n",
       "    <tr style=\"text-align: right;\">\n",
       "      <th></th>\n",
       "      <th>TV</th>\n",
       "      <th>Radio</th>\n",
       "      <th>Newspaper</th>\n",
       "      <th>Predicted_Sales</th>\n",
       "    </tr>\n",
       "  </thead>\n",
       "  <tbody>\n",
       "    <tr>\n",
       "      <th>144</th>\n",
       "      <td>96.2</td>\n",
       "      <td>14.8</td>\n",
       "      <td>1.6</td>\n",
       "      <td>11.880667</td>\n",
       "    </tr>\n",
       "    <tr>\n",
       "      <th>9</th>\n",
       "      <td>199.8</td>\n",
       "      <td>2.6</td>\n",
       "      <td>1.3</td>\n",
       "      <td>16.584167</td>\n",
       "    </tr>\n",
       "    <tr>\n",
       "      <th>17</th>\n",
       "      <td>281.4</td>\n",
       "      <td>39.6</td>\n",
       "      <td>1.7</td>\n",
       "      <td>22.928667</td>\n",
       "    </tr>\n",
       "    <tr>\n",
       "      <th>20</th>\n",
       "      <td>218.4</td>\n",
       "      <td>27.7</td>\n",
       "      <td>1.7</td>\n",
       "      <td>18.972167</td>\n",
       "    </tr>\n",
       "    <tr>\n",
       "      <th>45</th>\n",
       "      <td>175.1</td>\n",
       "      <td>22.5</td>\n",
       "      <td>1.5</td>\n",
       "      <td>17.203833</td>\n",
       "    </tr>\n",
       "    <tr>\n",
       "      <th>6</th>\n",
       "      <td>57.5</td>\n",
       "      <td>32.8</td>\n",
       "      <td>1.4</td>\n",
       "      <td>10.501000</td>\n",
       "    </tr>\n",
       "    <tr>\n",
       "      <th>52</th>\n",
       "      <td>216.4</td>\n",
       "      <td>41.7</td>\n",
       "      <td>1.6</td>\n",
       "      <td>21.646167</td>\n",
       "    </tr>\n",
       "    <tr>\n",
       "      <th>91</th>\n",
       "      <td>28.6</td>\n",
       "      <td>1.5</td>\n",
       "      <td>1.5</td>\n",
       "      <td>7.624333</td>\n",
       "    </tr>\n",
       "    <tr>\n",
       "      <th>129</th>\n",
       "      <td>59.6</td>\n",
       "      <td>12.0</td>\n",
       "      <td>1.6</td>\n",
       "      <td>9.523167</td>\n",
       "    </tr>\n",
       "    <tr>\n",
       "      <th>183</th>\n",
       "      <td>287.6</td>\n",
       "      <td>43.0</td>\n",
       "      <td>1.9</td>\n",
       "      <td>25.273667</td>\n",
       "    </tr>\n",
       "    <tr>\n",
       "      <th>21</th>\n",
       "      <td>237.4</td>\n",
       "      <td>5.1</td>\n",
       "      <td>1.4</td>\n",
       "      <td>17.306000</td>\n",
       "    </tr>\n",
       "    <tr>\n",
       "      <th>42</th>\n",
       "      <td>293.6</td>\n",
       "      <td>27.7</td>\n",
       "      <td>0.3</td>\n",
       "      <td>20.075000</td>\n",
       "    </tr>\n",
       "    <tr>\n",
       "      <th>105</th>\n",
       "      <td>137.9</td>\n",
       "      <td>46.4</td>\n",
       "      <td>1.8</td>\n",
       "      <td>16.768833</td>\n",
       "    </tr>\n",
       "    <tr>\n",
       "      <th>145</th>\n",
       "      <td>140.3</td>\n",
       "      <td>1.9</td>\n",
       "      <td>1.0</td>\n",
       "      <td>11.715667</td>\n",
       "    </tr>\n",
       "    <tr>\n",
       "      <th>87</th>\n",
       "      <td>110.7</td>\n",
       "      <td>40.6</td>\n",
       "      <td>1.8</td>\n",
       "      <td>15.172333</td>\n",
       "    </tr>\n",
       "    <tr>\n",
       "      <th>152</th>\n",
       "      <td>197.6</td>\n",
       "      <td>23.3</td>\n",
       "      <td>1.2</td>\n",
       "      <td>18.254000</td>\n",
       "    </tr>\n",
       "    <tr>\n",
       "      <th>124</th>\n",
       "      <td>229.5</td>\n",
       "      <td>32.3</td>\n",
       "      <td>1.9</td>\n",
       "      <td>19.869500</td>\n",
       "    </tr>\n",
       "    <tr>\n",
       "      <th>92</th>\n",
       "      <td>217.7</td>\n",
       "      <td>33.5</td>\n",
       "      <td>1.8</td>\n",
       "      <td>19.504167</td>\n",
       "    </tr>\n",
       "    <tr>\n",
       "      <th>101</th>\n",
       "      <td>296.4</td>\n",
       "      <td>36.3</td>\n",
       "      <td>2.0</td>\n",
       "      <td>22.610833</td>\n",
       "    </tr>\n",
       "    <tr>\n",
       "      <th>13</th>\n",
       "      <td>97.5</td>\n",
       "      <td>7.6</td>\n",
       "      <td>0.9</td>\n",
       "      <td>11.893167</td>\n",
       "    </tr>\n",
       "    <tr>\n",
       "      <th>108</th>\n",
       "      <td>13.1</td>\n",
       "      <td>0.4</td>\n",
       "      <td>1.4</td>\n",
       "      <td>6.692000</td>\n",
       "    </tr>\n",
       "    <tr>\n",
       "      <th>75</th>\n",
       "      <td>16.9</td>\n",
       "      <td>43.7</td>\n",
       "      <td>2.0</td>\n",
       "      <td>7.422667</td>\n",
       "    </tr>\n",
       "    <tr>\n",
       "      <th>40</th>\n",
       "      <td>202.5</td>\n",
       "      <td>22.3</td>\n",
       "      <td>1.5</td>\n",
       "      <td>18.850000</td>\n",
       "    </tr>\n",
       "    <tr>\n",
       "      <th>198</th>\n",
       "      <td>283.6</td>\n",
       "      <td>42.0</td>\n",
       "      <td>1.8</td>\n",
       "      <td>24.464167</td>\n",
       "    </tr>\n",
       "    <tr>\n",
       "      <th>191</th>\n",
       "      <td>75.5</td>\n",
       "      <td>10.8</td>\n",
       "      <td>0.8</td>\n",
       "      <td>11.312167</td>\n",
       "    </tr>\n",
       "    <tr>\n",
       "      <th>192</th>\n",
       "      <td>17.2</td>\n",
       "      <td>4.1</td>\n",
       "      <td>1.5</td>\n",
       "      <td>6.793833</td>\n",
       "    </tr>\n",
       "    <tr>\n",
       "      <th>194</th>\n",
       "      <td>149.7</td>\n",
       "      <td>35.6</td>\n",
       "      <td>0.8</td>\n",
       "      <td>15.569500</td>\n",
       "    </tr>\n",
       "    <tr>\n",
       "      <th>117</th>\n",
       "      <td>76.4</td>\n",
       "      <td>0.8</td>\n",
       "      <td>1.2</td>\n",
       "      <td>11.797667</td>\n",
       "    </tr>\n",
       "    <tr>\n",
       "      <th>2</th>\n",
       "      <td>17.2</td>\n",
       "      <td>45.9</td>\n",
       "      <td>1.8</td>\n",
       "      <td>7.446667</td>\n",
       "    </tr>\n",
       "    <tr>\n",
       "      <th>131</th>\n",
       "      <td>265.2</td>\n",
       "      <td>2.9</td>\n",
       "      <td>1.6</td>\n",
       "      <td>16.906000</td>\n",
       "    </tr>\n",
       "    <tr>\n",
       "      <th>19</th>\n",
       "      <td>147.3</td>\n",
       "      <td>23.9</td>\n",
       "      <td>1.3</td>\n",
       "      <td>13.910333</td>\n",
       "    </tr>\n",
       "    <tr>\n",
       "      <th>143</th>\n",
       "      <td>104.6</td>\n",
       "      <td>5.7</td>\n",
       "      <td>1.5</td>\n",
       "      <td>11.745500</td>\n",
       "    </tr>\n",
       "    <tr>\n",
       "      <th>147</th>\n",
       "      <td>243.2</td>\n",
       "      <td>49.0</td>\n",
       "      <td>1.6</td>\n",
       "      <td>24.147667</td>\n",
       "    </tr>\n",
       "    <tr>\n",
       "      <th>22</th>\n",
       "      <td>13.2</td>\n",
       "      <td>15.9</td>\n",
       "      <td>1.7</td>\n",
       "      <td>6.808167</td>\n",
       "    </tr>\n",
       "    <tr>\n",
       "      <th>102</th>\n",
       "      <td>280.2</td>\n",
       "      <td>10.1</td>\n",
       "      <td>1.3</td>\n",
       "      <td>18.266667</td>\n",
       "    </tr>\n",
       "    <tr>\n",
       "      <th>60</th>\n",
       "      <td>53.5</td>\n",
       "      <td>2.0</td>\n",
       "      <td>1.3</td>\n",
       "      <td>9.254000</td>\n",
       "    </tr>\n",
       "    <tr>\n",
       "      <th>136</th>\n",
       "      <td>25.6</td>\n",
       "      <td>39.0</td>\n",
       "      <td>1.0</td>\n",
       "      <td>7.802000</td>\n",
       "    </tr>\n",
       "    <tr>\n",
       "      <th>168</th>\n",
       "      <td>215.4</td>\n",
       "      <td>23.6</td>\n",
       "      <td>1.8</td>\n",
       "      <td>18.399333</td>\n",
       "    </tr>\n",
       "    <tr>\n",
       "      <th>138</th>\n",
       "      <td>43.0</td>\n",
       "      <td>25.9</td>\n",
       "      <td>1.3</td>\n",
       "      <td>10.160333</td>\n",
       "    </tr>\n",
       "    <tr>\n",
       "      <th>54</th>\n",
       "      <td>262.7</td>\n",
       "      <td>28.8</td>\n",
       "      <td>1.2</td>\n",
       "      <td>19.668667</td>\n",
       "    </tr>\n",
       "    <tr>\n",
       "      <th>176</th>\n",
       "      <td>248.4</td>\n",
       "      <td>30.2</td>\n",
       "      <td>1.3</td>\n",
       "      <td>19.589167</td>\n",
       "    </tr>\n",
       "    <tr>\n",
       "      <th>111</th>\n",
       "      <td>241.7</td>\n",
       "      <td>38.0</td>\n",
       "      <td>1.4</td>\n",
       "      <td>21.944000</td>\n",
       "    </tr>\n",
       "    <tr>\n",
       "      <th>114</th>\n",
       "      <td>78.2</td>\n",
       "      <td>46.8</td>\n",
       "      <td>1.5</td>\n",
       "      <td>14.141667</td>\n",
       "    </tr>\n",
       "    <tr>\n",
       "      <th>14</th>\n",
       "      <td>204.1</td>\n",
       "      <td>32.9</td>\n",
       "      <td>1.7</td>\n",
       "      <td>18.906667</td>\n",
       "    </tr>\n",
       "    <tr>\n",
       "      <th>106</th>\n",
       "      <td>25.0</td>\n",
       "      <td>11.0</td>\n",
       "      <td>1.5</td>\n",
       "      <td>7.618167</td>\n",
       "    </tr>\n",
       "    <tr>\n",
       "      <th>85</th>\n",
       "      <td>193.2</td>\n",
       "      <td>18.4</td>\n",
       "      <td>1.8</td>\n",
       "      <td>19.218333</td>\n",
       "    </tr>\n",
       "    <tr>\n",
       "      <th>167</th>\n",
       "      <td>206.8</td>\n",
       "      <td>5.2</td>\n",
       "      <td>1.3</td>\n",
       "      <td>16.979333</td>\n",
       "    </tr>\n",
       "    <tr>\n",
       "      <th>195</th>\n",
       "      <td>38.2</td>\n",
       "      <td>3.7</td>\n",
       "      <td>1.1</td>\n",
       "      <td>9.755833</td>\n",
       "    </tr>\n",
       "    <tr>\n",
       "      <th>26</th>\n",
       "      <td>142.9</td>\n",
       "      <td>29.3</td>\n",
       "      <td>1.1</td>\n",
       "      <td>15.064500</td>\n",
       "    </tr>\n",
       "    <tr>\n",
       "      <th>135</th>\n",
       "      <td>48.3</td>\n",
       "      <td>47.0</td>\n",
       "      <td>0.9</td>\n",
       "      <td>11.608000</td>\n",
       "    </tr>\n",
       "  </tbody>\n",
       "</table>\n",
       "</div>"
      ],
      "text/plain": [
       "        TV  Radio  Newspaper  Predicted_Sales\n",
       "144   96.2   14.8        1.6        11.880667\n",
       "9    199.8    2.6        1.3        16.584167\n",
       "17   281.4   39.6        1.7        22.928667\n",
       "20   218.4   27.7        1.7        18.972167\n",
       "45   175.1   22.5        1.5        17.203833\n",
       "6     57.5   32.8        1.4        10.501000\n",
       "52   216.4   41.7        1.6        21.646167\n",
       "91    28.6    1.5        1.5         7.624333\n",
       "129   59.6   12.0        1.6         9.523167\n",
       "183  287.6   43.0        1.9        25.273667\n",
       "21   237.4    5.1        1.4        17.306000\n",
       "42   293.6   27.7        0.3        20.075000\n",
       "105  137.9   46.4        1.8        16.768833\n",
       "145  140.3    1.9        1.0        11.715667\n",
       "87   110.7   40.6        1.8        15.172333\n",
       "152  197.6   23.3        1.2        18.254000\n",
       "124  229.5   32.3        1.9        19.869500\n",
       "92   217.7   33.5        1.8        19.504167\n",
       "101  296.4   36.3        2.0        22.610833\n",
       "13    97.5    7.6        0.9        11.893167\n",
       "108   13.1    0.4        1.4         6.692000\n",
       "75    16.9   43.7        2.0         7.422667\n",
       "40   202.5   22.3        1.5        18.850000\n",
       "198  283.6   42.0        1.8        24.464167\n",
       "191   75.5   10.8        0.8        11.312167\n",
       "192   17.2    4.1        1.5         6.793833\n",
       "194  149.7   35.6        0.8        15.569500\n",
       "117   76.4    0.8        1.2        11.797667\n",
       "2     17.2   45.9        1.8         7.446667\n",
       "131  265.2    2.9        1.6        16.906000\n",
       "19   147.3   23.9        1.3        13.910333\n",
       "143  104.6    5.7        1.5        11.745500\n",
       "147  243.2   49.0        1.6        24.147667\n",
       "22    13.2   15.9        1.7         6.808167\n",
       "102  280.2   10.1        1.3        18.266667\n",
       "60    53.5    2.0        1.3         9.254000\n",
       "136   25.6   39.0        1.0         7.802000\n",
       "168  215.4   23.6        1.8        18.399333\n",
       "138   43.0   25.9        1.3        10.160333\n",
       "54   262.7   28.8        1.2        19.668667\n",
       "176  248.4   30.2        1.3        19.589167\n",
       "111  241.7   38.0        1.4        21.944000\n",
       "114   78.2   46.8        1.5        14.141667\n",
       "14   204.1   32.9        1.7        18.906667\n",
       "106   25.0   11.0        1.5         7.618167\n",
       "85   193.2   18.4        1.8        19.218333\n",
       "167  206.8    5.2        1.3        16.979333\n",
       "195   38.2    3.7        1.1         9.755833\n",
       "26   142.9   29.3        1.1        15.064500\n",
       "135   48.3   47.0        0.9        11.608000"
      ]
     },
     "execution_count": 44,
     "metadata": {},
     "output_type": "execute_result"
    }
   ],
   "source": [
    "df_final = xtest\n",
    "df_final['Predicted_Sales'] = ypred_test\n",
    "df_final"
   ]
  },
  {
   "cell_type": "markdown",
   "id": "a63afafc",
   "metadata": {
    "papermill": {
     "duration": 0.01742,
     "end_time": "2024-05-08T05:44:46.181758",
     "exception": false,
     "start_time": "2024-05-08T05:44:46.164338",
     "status": "completed"
    },
    "tags": []
   },
   "source": [
    "Save the results to dataframe"
   ]
  },
  {
   "cell_type": "code",
   "execution_count": 45,
   "id": "3626953e",
   "metadata": {
    "execution": {
     "iopub.execute_input": "2024-05-08T05:44:46.218452Z",
     "iopub.status.busy": "2024-05-08T05:44:46.218121Z",
     "iopub.status.idle": "2024-05-08T05:44:46.225182Z",
     "shell.execute_reply": "2024-05-08T05:44:46.224430Z"
    },
    "papermill": {
     "duration": 0.027838,
     "end_time": "2024-05-08T05:44:46.227125",
     "exception": false,
     "start_time": "2024-05-08T05:44:46.199287",
     "status": "completed"
    },
    "tags": []
   },
   "outputs": [],
   "source": [
    "df_final.to_csv('Predicted Sales.csv',index=False)"
   ]
  }
 ],
 "metadata": {
  "kaggle": {
   "accelerator": "none",
   "dataSources": [
    {
     "datasetId": 133357,
     "sourceId": 317184,
     "sourceType": "datasetVersion"
    }
   ],
   "isGpuEnabled": false,
   "isInternetEnabled": true,
   "language": "python",
   "sourceType": "notebook"
  },
  "kernelspec": {
   "display_name": "venv",
   "language": "python",
   "name": "python3"
  },
  "language_info": {
   "codemirror_mode": {
    "name": "ipython",
    "version": 3
   },
   "file_extension": ".py",
   "mimetype": "text/x-python",
   "name": "python",
   "nbconvert_exporter": "python",
   "pygments_lexer": "ipython3",
   "version": "3.10.13"
  },
  "papermill": {
   "default_parameters": {},
   "duration": 25.838612,
   "end_time": "2024-05-08T05:44:46.763721",
   "environment_variables": {},
   "exception": null,
   "input_path": "__notebook__.ipynb",
   "output_path": "__notebook__.ipynb",
   "parameters": {},
   "start_time": "2024-05-08T05:44:20.925109",
   "version": "2.5.0"
  }
 },
 "nbformat": 4,
 "nbformat_minor": 5
}
