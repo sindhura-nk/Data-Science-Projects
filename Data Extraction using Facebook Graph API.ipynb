{
 "cells": [
  {
   "cell_type": "markdown",
   "metadata": {},
   "source": [
    "## Import all necessary libraries"
   ]
  },
  {
   "cell_type": "code",
   "execution_count": 1,
   "metadata": {},
   "outputs": [],
   "source": [
    "import pandas as pd\n",
    "import urllib \n",
    "import requests"
   ]
  },
  {
   "cell_type": "code",
   "execution_count": 2,
   "metadata": {},
   "outputs": [],
   "source": [
    "token = 'EAAMtIXzjLNEBOZCdMLZAPxRX0Tg7yb0qRgkgMchzXP0XfToVyzdxzN30iJ0gWNaIzXLlfd0HFIMVfcKH4xTEGNLhvhkZCV1koRUXjCkvq4hEnUYZC9LQajjthyRemeSEpt11nj30TdnZBrmDqDW3KWovJ0ZBWlnP057HDTEGLZCGPkUCG7ZAdyHuG0Nxh0mai7LFTOJGf4n4eZBoTN6JszggZB6FNVyawZD'"
   ]
  },
  {
   "cell_type": "markdown",
   "metadata": {},
   "source": [
    "curl -i -X GET \\\n",
    " \"https://graph.facebook.com/v20.0/me?fields=id%2Cname&access_token=EAAMtIXzjLNEBOyEIASbsiTBO5v2cp74pXwJ2HLYlV9yZA6XUvsOvw2Rghnf8LzqmMJhFepnFHK9EHOZCj1ohL4nJlYGA8WrfFB8iZAPnN0z44zp8ZC5HZBP60YOgZCbqbdffaqWvwM8Jbnim6Qv4SvJLv8UCDyZBTyu9Eo1gccZBKZAZCL8nO0ZCIvSrHC5IxkBUyGT8ERZAVZCTcSX9ov1w7907mw8pyDbwZD\""
   ]
  },
  {
   "cell_type": "code",
   "execution_count": 21,
   "metadata": {},
   "outputs": [
    {
     "data": {
      "text/plain": [
       "{'id': '354537564380422', 'name': 'Qatester Nk'}"
      ]
     },
     "execution_count": 21,
     "metadata": {},
     "output_type": "execute_result"
    }
   ],
   "source": [
    "posts_url = 'https://graph.facebook.com/v20.0/me?fields=id%2Cname&access_token=EAAMtIXzjLNEBOyEIASbsiTBO5v2cp74pXwJ2HLYlV9yZA6XUvsOvw2Rghnf8LzqmMJhFepnFHK9EHOZCj1ohL4nJlYGA8WrfFB8iZAPnN0z44zp8ZC5HZBP60YOgZCbqbdffaqWvwM8Jbnim6Qv4SvJLv8UCDyZBTyu9Eo1gccZBKZAZCL8nO0ZCIvSrHC5IxkBUyGT8ERZAVZCTcSX9ov1w7907mw8pyDbwZD'\n",
    "posts_response = requests.get(posts_url)\n",
    "posts_data = posts_response.json()"
   ]
  },
  {
   "cell_type": "code",
   "execution_count": 19,
   "metadata": {},
   "outputs": [
    {
     "name": "stdout",
     "output_type": "stream",
     "text": [
      "Failed to retrieve the data\n"
     ]
    }
   ],
   "source": [
    "if 'data' in posts_data:\n",
    "    for post in posts_data['data']:\n",
    "        print(f\"Post ID: {post['id']}\")\n",
    "        print(f\"Post Name: {post['name']}\")\n",
    "\n",
    "else:\n",
    "    print('Failed to retrieve the data')"
   ]
  }
 ],
 "metadata": {
  "kernelspec": {
   "display_name": "Python 3",
   "language": "python",
   "name": "python3"
  },
  "language_info": {
   "codemirror_mode": {
    "name": "ipython",
    "version": 3
   },
   "file_extension": ".py",
   "mimetype": "text/x-python",
   "name": "python",
   "nbconvert_exporter": "python",
   "pygments_lexer": "ipython3",
   "version": "3.8.10"
  }
 },
 "nbformat": 4,
 "nbformat_minor": 2
}
