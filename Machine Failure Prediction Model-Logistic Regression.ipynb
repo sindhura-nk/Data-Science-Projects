{
 "cells": [
  {
   "cell_type": "markdown",
   "id": "01f2ce2e",
   "metadata": {
    "papermill": {
     "duration": 0.020576,
     "end_time": "2024-07-03T05:25:23.074755",
     "exception": false,
     "start_time": "2024-07-03T05:25:23.054179",
     "status": "completed"
    },
    "tags": []
   },
   "source": [
    "## Machine Failure Prediction"
   ]
  },
  {
   "cell_type": "code",
   "execution_count": 1,
   "id": "7130d485",
   "metadata": {
    "execution": {
     "iopub.execute_input": "2024-07-03T05:25:23.118158Z",
     "iopub.status.busy": "2024-07-03T05:25:23.117620Z",
     "iopub.status.idle": "2024-07-03T05:25:23.133244Z",
     "shell.execute_reply": "2024-07-03T05:25:23.131732Z"
    },
    "papermill": {
     "duration": 0.040558,
     "end_time": "2024-07-03T05:25:23.136342",
     "exception": false,
     "start_time": "2024-07-03T05:25:23.095784",
     "status": "completed"
    },
    "tags": []
   },
   "outputs": [],
   "source": [
    "from warnings import filterwarnings\n",
    "filterwarnings('ignore')"
   ]
  },
  {
   "cell_type": "markdown",
   "id": "c1083c3d",
   "metadata": {
    "papermill": {
     "duration": 0.020471,
     "end_time": "2024-07-03T05:25:23.177562",
     "exception": false,
     "start_time": "2024-07-03T05:25:23.157091",
     "status": "completed"
    },
    "tags": []
   },
   "source": [
    "### Importing all the packages"
   ]
  },
  {
   "cell_type": "code",
   "execution_count": 2,
   "id": "3be0c6dc",
   "metadata": {
    "execution": {
     "iopub.execute_input": "2024-07-03T05:25:23.222604Z",
     "iopub.status.busy": "2024-07-03T05:25:23.222231Z",
     "iopub.status.idle": "2024-07-03T05:25:26.623317Z",
     "shell.execute_reply": "2024-07-03T05:25:26.621638Z"
    },
    "papermill": {
     "duration": 3.427286,
     "end_time": "2024-07-03T05:25:26.626225",
     "exception": false,
     "start_time": "2024-07-03T05:25:23.198939",
     "status": "completed"
    },
    "tags": []
   },
   "outputs": [],
   "source": [
    "# To read the dataset, and perform basic data quality checks\n",
    "import pandas as pd\n",
    "\n",
    "# To preprocess the X data using pipelines\n",
    "from sklearn.pipeline import Pipeline\n",
    "from sklearn.impute import  SimpleImputer\n",
    "from sklearn.preprocessing import StandardScaler,OneHotEncoder\n",
    "from sklearn.compose import ColumnTransformer\n",
    "\n",
    "# To perform train test split\n",
    "from sklearn.model_selection import train_test_split\n",
    "\n",
    "# To perform model selection\n",
    "from sklearn.linear_model import LogisticRegression\n",
    "\n",
    "# To plot confusion matrix and classification report\n",
    "from sklearn.metrics import confusion_matrix,ConfusionMatrixDisplay,classification_report"
   ]
  },
  {
   "cell_type": "markdown",
   "id": "3926c705",
   "metadata": {
    "papermill": {
     "duration": 0.020295,
     "end_time": "2024-07-03T05:25:26.667654",
     "exception": false,
     "start_time": "2024-07-03T05:25:26.647359",
     "status": "completed"
    },
    "tags": []
   },
   "source": [
    "## Read the dataset"
   ]
  },
  {
   "cell_type": "code",
   "execution_count": 3,
   "id": "cc3a7a0d",
   "metadata": {
    "execution": {
     "iopub.execute_input": "2024-07-03T05:25:26.712792Z",
     "iopub.status.busy": "2024-07-03T05:25:26.712250Z",
     "iopub.status.idle": "2024-07-03T05:25:27.068894Z",
     "shell.execute_reply": "2024-07-03T05:25:27.067462Z"
    },
    "papermill": {
     "duration": 0.381621,
     "end_time": "2024-07-03T05:25:27.071539",
     "exception": false,
     "start_time": "2024-07-03T05:25:26.689918",
     "status": "completed"
    },
    "tags": []
   },
   "outputs": [
    {
     "data": {
      "text/html": [
       "<div>\n",
       "<style scoped>\n",
       "    .dataframe tbody tr th:only-of-type {\n",
       "        vertical-align: middle;\n",
       "    }\n",
       "\n",
       "    .dataframe tbody tr th {\n",
       "        vertical-align: top;\n",
       "    }\n",
       "\n",
       "    .dataframe thead th {\n",
       "        text-align: right;\n",
       "    }\n",
       "</style>\n",
       "<table border=\"1\" class=\"dataframe\">\n",
       "  <thead>\n",
       "    <tr style=\"text-align: right;\">\n",
       "      <th></th>\n",
       "      <th>id</th>\n",
       "      <th>Product ID</th>\n",
       "      <th>Type</th>\n",
       "      <th>Air temperature [K]</th>\n",
       "      <th>Process temperature [K]</th>\n",
       "      <th>Rotational speed [rpm]</th>\n",
       "      <th>Torque [Nm]</th>\n",
       "      <th>Tool wear [min]</th>\n",
       "      <th>Machine failure</th>\n",
       "      <th>TWF</th>\n",
       "      <th>HDF</th>\n",
       "      <th>PWF</th>\n",
       "      <th>OSF</th>\n",
       "      <th>RNF</th>\n",
       "    </tr>\n",
       "  </thead>\n",
       "  <tbody>\n",
       "    <tr>\n",
       "      <th>0</th>\n",
       "      <td>0</td>\n",
       "      <td>L50096</td>\n",
       "      <td>L</td>\n",
       "      <td>300.6</td>\n",
       "      <td>309.6</td>\n",
       "      <td>1596</td>\n",
       "      <td>36.1</td>\n",
       "      <td>140</td>\n",
       "      <td>0</td>\n",
       "      <td>0</td>\n",
       "      <td>0</td>\n",
       "      <td>0</td>\n",
       "      <td>0</td>\n",
       "      <td>0</td>\n",
       "    </tr>\n",
       "    <tr>\n",
       "      <th>1</th>\n",
       "      <td>1</td>\n",
       "      <td>M20343</td>\n",
       "      <td>M</td>\n",
       "      <td>302.6</td>\n",
       "      <td>312.1</td>\n",
       "      <td>1759</td>\n",
       "      <td>29.1</td>\n",
       "      <td>200</td>\n",
       "      <td>0</td>\n",
       "      <td>0</td>\n",
       "      <td>0</td>\n",
       "      <td>0</td>\n",
       "      <td>0</td>\n",
       "      <td>0</td>\n",
       "    </tr>\n",
       "    <tr>\n",
       "      <th>2</th>\n",
       "      <td>2</td>\n",
       "      <td>L49454</td>\n",
       "      <td>L</td>\n",
       "      <td>299.3</td>\n",
       "      <td>308.5</td>\n",
       "      <td>1805</td>\n",
       "      <td>26.5</td>\n",
       "      <td>25</td>\n",
       "      <td>0</td>\n",
       "      <td>0</td>\n",
       "      <td>0</td>\n",
       "      <td>0</td>\n",
       "      <td>0</td>\n",
       "      <td>0</td>\n",
       "    </tr>\n",
       "    <tr>\n",
       "      <th>3</th>\n",
       "      <td>3</td>\n",
       "      <td>L53355</td>\n",
       "      <td>L</td>\n",
       "      <td>301.0</td>\n",
       "      <td>310.9</td>\n",
       "      <td>1524</td>\n",
       "      <td>44.3</td>\n",
       "      <td>197</td>\n",
       "      <td>0</td>\n",
       "      <td>0</td>\n",
       "      <td>0</td>\n",
       "      <td>0</td>\n",
       "      <td>0</td>\n",
       "      <td>0</td>\n",
       "    </tr>\n",
       "    <tr>\n",
       "      <th>4</th>\n",
       "      <td>4</td>\n",
       "      <td>M24050</td>\n",
       "      <td>M</td>\n",
       "      <td>298.0</td>\n",
       "      <td>309.0</td>\n",
       "      <td>1641</td>\n",
       "      <td>35.4</td>\n",
       "      <td>34</td>\n",
       "      <td>0</td>\n",
       "      <td>0</td>\n",
       "      <td>0</td>\n",
       "      <td>0</td>\n",
       "      <td>0</td>\n",
       "      <td>0</td>\n",
       "    </tr>\n",
       "  </tbody>\n",
       "</table>\n",
       "</div>"
      ],
      "text/plain": [
       "   id Product ID Type  Air temperature [K]  Process temperature [K]  \\\n",
       "0   0     L50096    L                300.6                    309.6   \n",
       "1   1     M20343    M                302.6                    312.1   \n",
       "2   2     L49454    L                299.3                    308.5   \n",
       "3   3     L53355    L                301.0                    310.9   \n",
       "4   4     M24050    M                298.0                    309.0   \n",
       "\n",
       "   Rotational speed [rpm]  Torque [Nm]  Tool wear [min]  Machine failure  TWF  \\\n",
       "0                    1596         36.1              140                0    0   \n",
       "1                    1759         29.1              200                0    0   \n",
       "2                    1805         26.5               25                0    0   \n",
       "3                    1524         44.3              197                0    0   \n",
       "4                    1641         35.4               34                0    0   \n",
       "\n",
       "   HDF  PWF  OSF  RNF  \n",
       "0    0    0    0    0  \n",
       "1    0    0    0    0  \n",
       "2    0    0    0    0  \n",
       "3    0    0    0    0  \n",
       "4    0    0    0    0  "
      ]
     },
     "execution_count": 3,
     "metadata": {},
     "output_type": "execute_result"
    }
   ],
   "source": [
    "df = pd.read_csv('/kaggle/input/machine-failure-prediction-iti-data-science/train.csv')\n",
    "df.head()"
   ]
  },
  {
   "cell_type": "code",
   "execution_count": 4,
   "id": "772a8ab3",
   "metadata": {
    "execution": {
     "iopub.execute_input": "2024-07-03T05:25:27.114344Z",
     "iopub.status.busy": "2024-07-03T05:25:27.113949Z",
     "iopub.status.idle": "2024-07-03T05:25:27.492594Z",
     "shell.execute_reply": "2024-07-03T05:25:27.491368Z"
    },
    "papermill": {
     "duration": 0.404422,
     "end_time": "2024-07-03T05:25:27.496167",
     "exception": false,
     "start_time": "2024-07-03T05:25:27.091745",
     "status": "completed"
    },
    "tags": []
   },
   "outputs": [
    {
     "data": {
      "text/plain": [
       "<Axes: xlabel='Machine failure'>"
      ]
     },
     "execution_count": 4,
     "metadata": {},
     "output_type": "execute_result"
    },
    {
     "data": {
      "image/png": "[encoded data removed]",
      "text/plain": [
       "<Figure size 640x480 with 1 Axes>"
      ]
     },
     "metadata": {},
     "output_type": "display_data"
    }
   ],
   "source": [
    "df['Machine failure'].value_counts().plot(kind='bar')"
   ]
  },
  {
   "cell_type": "markdown",
   "id": "7015bbf6",
   "metadata": {
    "papermill": {
     "duration": 0.022105,
     "end_time": "2024-07-03T05:25:27.539014",
     "exception": false,
     "start_time": "2024-07-03T05:25:27.516909",
     "status": "completed"
    },
    "tags": []
   },
   "source": [
    "## Perform basic data quality checks"
   ]
  },
  {
   "cell_type": "code",
   "execution_count": 5,
   "id": "cbfb5d53",
   "metadata": {
    "execution": {
     "iopub.execute_input": "2024-07-03T05:25:27.583525Z",
     "iopub.status.busy": "2024-07-03T05:25:27.583113Z",
     "iopub.status.idle": "2024-07-03T05:25:27.638154Z",
     "shell.execute_reply": "2024-07-03T05:25:27.636931Z"
    },
    "papermill": {
     "duration": 0.081751,
     "end_time": "2024-07-03T05:25:27.641701",
     "exception": false,
     "start_time": "2024-07-03T05:25:27.559950",
     "status": "completed"
    },
    "tags": []
   },
   "outputs": [
    {
     "name": "stdout",
     "output_type": "stream",
     "text": [
      "<class 'pandas.core.frame.DataFrame'>\n",
      "RangeIndex: 136429 entries, 0 to 136428\n",
      "Data columns (total 14 columns):\n",
      " #   Column                   Non-Null Count   Dtype  \n",
      "---  ------                   --------------   -----  \n",
      " 0   id                       136429 non-null  int64  \n",
      " 1   Product ID               136429 non-null  object \n",
      " 2   Type                     136429 non-null  object \n",
      " 3   Air temperature [K]      136429 non-null  float64\n",
      " 4   Process temperature [K]  136429 non-null  float64\n",
      " 5   Rotational speed [rpm]   136429 non-null  int64  \n",
      " 6   Torque [Nm]              136429 non-null  float64\n",
      " 7   Tool wear [min]          136429 non-null  int64  \n",
      " 8   Machine failure          136429 non-null  int64  \n",
      " 9   TWF                      136429 non-null  int64  \n",
      " 10  HDF                      136429 non-null  int64  \n",
      " 11  PWF                      136429 non-null  int64  \n",
      " 12  OSF                      136429 non-null  int64  \n",
      " 13  RNF                      136429 non-null  int64  \n",
      "dtypes: float64(3), int64(9), object(2)\n",
      "memory usage: 14.6+ MB\n"
     ]
    }
   ],
   "source": [
    "df.info()"
   ]
  },
  {
   "cell_type": "code",
   "execution_count": 6,
   "id": "1315cdab",
   "metadata": {
    "execution": {
     "iopub.execute_input": "2024-07-03T05:25:27.685907Z",
     "iopub.status.busy": "2024-07-03T05:25:27.685477Z",
     "iopub.status.idle": "2024-07-03T05:25:27.694661Z",
     "shell.execute_reply": "2024-07-03T05:25:27.693535Z"
    },
    "papermill": {
     "duration": 0.033977,
     "end_time": "2024-07-03T05:25:27.697203",
     "exception": false,
     "start_time": "2024-07-03T05:25:27.663226",
     "status": "completed"
    },
    "tags": []
   },
   "outputs": [
    {
     "data": {
      "text/plain": [
       "(136429, 14)"
      ]
     },
     "execution_count": 6,
     "metadata": {},
     "output_type": "execute_result"
    }
   ],
   "source": [
    "df.shape"
   ]
  },
  {
   "cell_type": "markdown",
   "id": "eed41a0a",
   "metadata": {
    "papermill": {
     "duration": 0.021496,
     "end_time": "2024-07-03T05:25:27.742134",
     "exception": false,
     "start_time": "2024-07-03T05:25:27.720638",
     "status": "completed"
    },
    "tags": []
   },
   "source": [
    "## Feature Engineering\n",
    "### Data Cleaning\n",
    "    Remove insignificant columns\n",
    "    Data Conversion as per the requirement\n",
    "### Data Preprocessing"
   ]
  },
  {
   "cell_type": "markdown",
   "id": "5786dfd2",
   "metadata": {
    "papermill": {
     "duration": 0.021046,
     "end_time": "2024-07-03T05:25:27.784436",
     "exception": false,
     "start_time": "2024-07-03T05:25:27.763390",
     "status": "completed"
    },
    "tags": []
   },
   "source": [
    "##### Remove statistically insignificant columns"
   ]
  },
  {
   "cell_type": "code",
   "execution_count": 7,
   "id": "93d46b98",
   "metadata": {
    "execution": {
     "iopub.execute_input": "2024-07-03T05:25:27.828822Z",
     "iopub.status.busy": "2024-07-03T05:25:27.828401Z",
     "iopub.status.idle": "2024-07-03T05:25:27.846989Z",
     "shell.execute_reply": "2024-07-03T05:25:27.845643Z"
    },
    "papermill": {
     "duration": 0.043582,
     "end_time": "2024-07-03T05:25:27.849743",
     "exception": false,
     "start_time": "2024-07-03T05:25:27.806161",
     "status": "completed"
    },
    "tags": []
   },
   "outputs": [],
   "source": [
    "df.drop(columns=['id',],inplace=True)"
   ]
  },
  {
   "cell_type": "code",
   "execution_count": 8,
   "id": "d6e71966",
   "metadata": {
    "execution": {
     "iopub.execute_input": "2024-07-03T05:25:27.894943Z",
     "iopub.status.busy": "2024-07-03T05:25:27.894442Z",
     "iopub.status.idle": "2024-07-03T05:25:28.130796Z",
     "shell.execute_reply": "2024-07-03T05:25:28.128774Z"
    },
    "papermill": {
     "duration": 0.262877,
     "end_time": "2024-07-03T05:25:28.133997",
     "exception": false,
     "start_time": "2024-07-03T05:25:27.871120",
     "status": "completed"
    },
    "tags": []
   },
   "outputs": [
    {
     "data": {
      "text/plain": [
       "0         50096\n",
       "1         20343\n",
       "2         49454\n",
       "3         53355\n",
       "4         24050\n",
       "          ...  \n",
       "136424    22284\n",
       "136425    38017\n",
       "136426    54690\n",
       "136427    53876\n",
       "136428    47937\n",
       "Name: Product ID, Length: 136429, dtype: int64"
      ]
     },
     "execution_count": 8,
     "metadata": {},
     "output_type": "execute_result"
    }
   ],
   "source": [
    "# Product ID has Type details attached to it. Let's remove those details\n",
    "df['Product ID'] = df['Product ID'].str.strip('L') \n",
    "df['Product ID'] = df['Product ID'].str.strip('M') \n",
    "df['Product ID'] = df['Product ID'].str.strip('H')\n",
    "# convert product id into interger\n",
    "df['Product ID'] = df['Product ID'].astype(int)\n",
    "df['Product ID']"
   ]
  },
  {
   "cell_type": "code",
   "execution_count": 9,
   "id": "ed03c0cb",
   "metadata": {
    "execution": {
     "iopub.execute_input": "2024-07-03T05:25:28.181975Z",
     "iopub.status.busy": "2024-07-03T05:25:28.181557Z",
     "iopub.status.idle": "2024-07-03T05:25:28.199551Z",
     "shell.execute_reply": "2024-07-03T05:25:28.198172Z"
    },
    "papermill": {
     "duration": 0.046142,
     "end_time": "2024-07-03T05:25:28.203076",
     "exception": false,
     "start_time": "2024-07-03T05:25:28.156934",
     "status": "completed"
    },
    "tags": []
   },
   "outputs": [
    {
     "data": {
      "text/plain": [
       "array(['L', 'M', 'H'], dtype=object)"
      ]
     },
     "execution_count": 9,
     "metadata": {},
     "output_type": "execute_result"
    }
   ],
   "source": [
    "df['Type'].unique()"
   ]
  },
  {
   "cell_type": "code",
   "execution_count": 10,
   "id": "9130fbc7",
   "metadata": {
    "execution": {
     "iopub.execute_input": "2024-07-03T05:25:28.253465Z",
     "iopub.status.busy": "2024-07-03T05:25:28.251880Z",
     "iopub.status.idle": "2024-07-03T05:25:28.274361Z",
     "shell.execute_reply": "2024-07-03T05:25:28.273417Z"
    },
    "papermill": {
     "duration": 0.055165,
     "end_time": "2024-07-03T05:25:28.280675",
     "exception": false,
     "start_time": "2024-07-03T05:25:28.225510",
     "status": "completed"
    },
    "tags": []
   },
   "outputs": [
    {
     "data": {
      "text/html": [
       "<div>\n",
       "<style scoped>\n",
       "    .dataframe tbody tr th:only-of-type {\n",
       "        vertical-align: middle;\n",
       "    }\n",
       "\n",
       "    .dataframe tbody tr th {\n",
       "        vertical-align: top;\n",
       "    }\n",
       "\n",
       "    .dataframe thead th {\n",
       "        text-align: right;\n",
       "    }\n",
       "</style>\n",
       "<table border=\"1\" class=\"dataframe\">\n",
       "  <thead>\n",
       "    <tr style=\"text-align: right;\">\n",
       "      <th></th>\n",
       "      <th>Product ID</th>\n",
       "      <th>Type</th>\n",
       "      <th>Air temperature [K]</th>\n",
       "      <th>Process temperature [K]</th>\n",
       "      <th>Rotational speed [rpm]</th>\n",
       "      <th>Torque [Nm]</th>\n",
       "      <th>Tool wear [min]</th>\n",
       "      <th>Machine failure</th>\n",
       "      <th>TWF</th>\n",
       "      <th>HDF</th>\n",
       "      <th>PWF</th>\n",
       "      <th>OSF</th>\n",
       "      <th>RNF</th>\n",
       "    </tr>\n",
       "  </thead>\n",
       "  <tbody>\n",
       "    <tr>\n",
       "      <th>0</th>\n",
       "      <td>50096</td>\n",
       "      <td>L</td>\n",
       "      <td>300.6</td>\n",
       "      <td>309.6</td>\n",
       "      <td>1596</td>\n",
       "      <td>36.1</td>\n",
       "      <td>140</td>\n",
       "      <td>0</td>\n",
       "      <td>0</td>\n",
       "      <td>0</td>\n",
       "      <td>0</td>\n",
       "      <td>0</td>\n",
       "      <td>0</td>\n",
       "    </tr>\n",
       "    <tr>\n",
       "      <th>1</th>\n",
       "      <td>20343</td>\n",
       "      <td>M</td>\n",
       "      <td>302.6</td>\n",
       "      <td>312.1</td>\n",
       "      <td>1759</td>\n",
       "      <td>29.1</td>\n",
       "      <td>200</td>\n",
       "      <td>0</td>\n",
       "      <td>0</td>\n",
       "      <td>0</td>\n",
       "      <td>0</td>\n",
       "      <td>0</td>\n",
       "      <td>0</td>\n",
       "    </tr>\n",
       "    <tr>\n",
       "      <th>2</th>\n",
       "      <td>49454</td>\n",
       "      <td>L</td>\n",
       "      <td>299.3</td>\n",
       "      <td>308.5</td>\n",
       "      <td>1805</td>\n",
       "      <td>26.5</td>\n",
       "      <td>25</td>\n",
       "      <td>0</td>\n",
       "      <td>0</td>\n",
       "      <td>0</td>\n",
       "      <td>0</td>\n",
       "      <td>0</td>\n",
       "      <td>0</td>\n",
       "    </tr>\n",
       "    <tr>\n",
       "      <th>3</th>\n",
       "      <td>53355</td>\n",
       "      <td>L</td>\n",
       "      <td>301.0</td>\n",
       "      <td>310.9</td>\n",
       "      <td>1524</td>\n",
       "      <td>44.3</td>\n",
       "      <td>197</td>\n",
       "      <td>0</td>\n",
       "      <td>0</td>\n",
       "      <td>0</td>\n",
       "      <td>0</td>\n",
       "      <td>0</td>\n",
       "      <td>0</td>\n",
       "    </tr>\n",
       "    <tr>\n",
       "      <th>4</th>\n",
       "      <td>24050</td>\n",
       "      <td>M</td>\n",
       "      <td>298.0</td>\n",
       "      <td>309.0</td>\n",
       "      <td>1641</td>\n",
       "      <td>35.4</td>\n",
       "      <td>34</td>\n",
       "      <td>0</td>\n",
       "      <td>0</td>\n",
       "      <td>0</td>\n",
       "      <td>0</td>\n",
       "      <td>0</td>\n",
       "      <td>0</td>\n",
       "    </tr>\n",
       "  </tbody>\n",
       "</table>\n",
       "</div>"
      ],
      "text/plain": [
       "   Product ID Type  Air temperature [K]  Process temperature [K]  \\\n",
       "0       50096    L                300.6                    309.6   \n",
       "1       20343    M                302.6                    312.1   \n",
       "2       49454    L                299.3                    308.5   \n",
       "3       53355    L                301.0                    310.9   \n",
       "4       24050    M                298.0                    309.0   \n",
       "\n",
       "   Rotational speed [rpm]  Torque [Nm]  Tool wear [min]  Machine failure  TWF  \\\n",
       "0                    1596         36.1              140                0    0   \n",
       "1                    1759         29.1              200                0    0   \n",
       "2                    1805         26.5               25                0    0   \n",
       "3                    1524         44.3              197                0    0   \n",
       "4                    1641         35.4               34                0    0   \n",
       "\n",
       "   HDF  PWF  OSF  RNF  \n",
       "0    0    0    0    0  \n",
       "1    0    0    0    0  \n",
       "2    0    0    0    0  \n",
       "3    0    0    0    0  \n",
       "4    0    0    0    0  "
      ]
     },
     "execution_count": 10,
     "metadata": {},
     "output_type": "execute_result"
    }
   ],
   "source": [
    "df.head()"
   ]
  },
  {
   "cell_type": "code",
   "execution_count": 11,
   "id": "b96dc867",
   "metadata": {
    "execution": {
     "iopub.execute_input": "2024-07-03T05:25:28.332116Z",
     "iopub.status.busy": "2024-07-03T05:25:28.331543Z",
     "iopub.status.idle": "2024-07-03T05:25:28.361694Z",
     "shell.execute_reply": "2024-07-03T05:25:28.360361Z"
    },
    "papermill": {
     "duration": 0.058605,
     "end_time": "2024-07-03T05:25:28.364631",
     "exception": false,
     "start_time": "2024-07-03T05:25:28.306026",
     "status": "completed"
    },
    "tags": []
   },
   "outputs": [
    {
     "data": {
      "text/plain": [
       "Product ID                 0\n",
       "Type                       0\n",
       "Air temperature [K]        0\n",
       "Process temperature [K]    0\n",
       "Rotational speed [rpm]     0\n",
       "Torque [Nm]                0\n",
       "Tool wear [min]            0\n",
       "Machine failure            0\n",
       "TWF                        0\n",
       "HDF                        0\n",
       "PWF                        0\n",
       "OSF                        0\n",
       "RNF                        0\n",
       "dtype: int64"
      ]
     },
     "execution_count": 11,
     "metadata": {},
     "output_type": "execute_result"
    }
   ],
   "source": [
    "df.isna().sum()"
   ]
  },
  {
   "cell_type": "code",
   "execution_count": 12,
   "id": "44bce1c7",
   "metadata": {
    "execution": {
     "iopub.execute_input": "2024-07-03T05:25:28.415017Z",
     "iopub.status.busy": "2024-07-03T05:25:28.413917Z",
     "iopub.status.idle": "2024-07-03T05:25:28.480441Z",
     "shell.execute_reply": "2024-07-03T05:25:28.479134Z"
    },
    "papermill": {
     "duration": 0.093986,
     "end_time": "2024-07-03T05:25:28.483679",
     "exception": false,
     "start_time": "2024-07-03T05:25:28.389693",
     "status": "completed"
    },
    "tags": []
   },
   "outputs": [
    {
     "data": {
      "text/plain": [
       "1134"
      ]
     },
     "execution_count": 12,
     "metadata": {},
     "output_type": "execute_result"
    }
   ],
   "source": [
    "df.duplicated().sum()"
   ]
  },
  {
   "cell_type": "code",
   "execution_count": 13,
   "id": "dd881bfb",
   "metadata": {
    "execution": {
     "iopub.execute_input": "2024-07-03T05:25:28.529536Z",
     "iopub.status.busy": "2024-07-03T05:25:28.529133Z",
     "iopub.status.idle": "2024-07-03T05:25:28.584640Z",
     "shell.execute_reply": "2024-07-03T05:25:28.582958Z"
    },
    "papermill": {
     "duration": 0.082187,
     "end_time": "2024-07-03T05:25:28.587443",
     "exception": false,
     "start_time": "2024-07-03T05:25:28.505256",
     "status": "completed"
    },
    "tags": []
   },
   "outputs": [
    {
     "data": {
      "text/plain": [
       "0.00831201577377244"
      ]
     },
     "execution_count": 13,
     "metadata": {},
     "output_type": "execute_result"
    }
   ],
   "source": [
    "# % of overall duplicated rows\n",
    "(df.duplicated().sum())/len(df)"
   ]
  },
  {
   "cell_type": "code",
   "execution_count": 14,
   "id": "409af192",
   "metadata": {
    "execution": {
     "iopub.execute_input": "2024-07-03T05:25:28.638831Z",
     "iopub.status.busy": "2024-07-03T05:25:28.638149Z",
     "iopub.status.idle": "2024-07-03T05:25:28.701325Z",
     "shell.execute_reply": "2024-07-03T05:25:28.699885Z"
    },
    "papermill": {
     "duration": 0.094274,
     "end_time": "2024-07-03T05:25:28.704634",
     "exception": false,
     "start_time": "2024-07-03T05:25:28.610360",
     "status": "completed"
    },
    "tags": []
   },
   "outputs": [],
   "source": [
    "# Let's drop the duplicates\n",
    "df.drop_duplicates(inplace=True)"
   ]
  },
  {
   "cell_type": "code",
   "execution_count": 15,
   "id": "dfeb1664",
   "metadata": {
    "execution": {
     "iopub.execute_input": "2024-07-03T05:25:28.752539Z",
     "iopub.status.busy": "2024-07-03T05:25:28.751704Z",
     "iopub.status.idle": "2024-07-03T05:25:28.813977Z",
     "shell.execute_reply": "2024-07-03T05:25:28.812869Z"
    },
    "papermill": {
     "duration": 0.089002,
     "end_time": "2024-07-03T05:25:28.816677",
     "exception": false,
     "start_time": "2024-07-03T05:25:28.727675",
     "status": "completed"
    },
    "tags": []
   },
   "outputs": [
    {
     "data": {
      "text/plain": [
       "0"
      ]
     },
     "execution_count": 15,
     "metadata": {},
     "output_type": "execute_result"
    }
   ],
   "source": [
    "df.duplicated().sum()"
   ]
  },
  {
   "cell_type": "markdown",
   "id": "392ed482",
   "metadata": {
    "papermill": {
     "duration": 0.085881,
     "end_time": "2024-07-03T05:25:28.924430",
     "exception": false,
     "start_time": "2024-07-03T05:25:28.838549",
     "status": "completed"
    },
    "tags": []
   },
   "source": [
    "## Separate X and Y variables. X-Indepdent variables, Y -Dependent variable"
   ]
  },
  {
   "cell_type": "code",
   "execution_count": 16,
   "id": "2694a515",
   "metadata": {
    "execution": {
     "iopub.execute_input": "2024-07-03T05:25:28.974340Z",
     "iopub.status.busy": "2024-07-03T05:25:28.973952Z",
     "iopub.status.idle": "2024-07-03T05:25:28.988404Z",
     "shell.execute_reply": "2024-07-03T05:25:28.987045Z"
    },
    "papermill": {
     "duration": 0.042796,
     "end_time": "2024-07-03T05:25:28.991440",
     "exception": false,
     "start_time": "2024-07-03T05:25:28.948644",
     "status": "completed"
    },
    "tags": []
   },
   "outputs": [],
   "source": [
    "X = df.drop(columns=['Machine failure'])\n",
    "Y = df[['Machine failure']]"
   ]
  },
  {
   "cell_type": "code",
   "execution_count": 17,
   "id": "ce47ff35",
   "metadata": {
    "execution": {
     "iopub.execute_input": "2024-07-03T05:25:29.039395Z",
     "iopub.status.busy": "2024-07-03T05:25:29.038872Z",
     "iopub.status.idle": "2024-07-03T05:25:29.060031Z",
     "shell.execute_reply": "2024-07-03T05:25:29.058751Z"
    },
    "papermill": {
     "duration": 0.048125,
     "end_time": "2024-07-03T05:25:29.062870",
     "exception": false,
     "start_time": "2024-07-03T05:25:29.014745",
     "status": "completed"
    },
    "tags": []
   },
   "outputs": [
    {
     "data": {
      "text/html": [
       "<div>\n",
       "<style scoped>\n",
       "    .dataframe tbody tr th:only-of-type {\n",
       "        vertical-align: middle;\n",
       "    }\n",
       "\n",
       "    .dataframe tbody tr th {\n",
       "        vertical-align: top;\n",
       "    }\n",
       "\n",
       "    .dataframe thead th {\n",
       "        text-align: right;\n",
       "    }\n",
       "</style>\n",
       "<table border=\"1\" class=\"dataframe\">\n",
       "  <thead>\n",
       "    <tr style=\"text-align: right;\">\n",
       "      <th></th>\n",
       "      <th>Product ID</th>\n",
       "      <th>Type</th>\n",
       "      <th>Air temperature [K]</th>\n",
       "      <th>Process temperature [K]</th>\n",
       "      <th>Rotational speed [rpm]</th>\n",
       "      <th>Torque [Nm]</th>\n",
       "      <th>Tool wear [min]</th>\n",
       "      <th>TWF</th>\n",
       "      <th>HDF</th>\n",
       "      <th>PWF</th>\n",
       "      <th>OSF</th>\n",
       "      <th>RNF</th>\n",
       "    </tr>\n",
       "  </thead>\n",
       "  <tbody>\n",
       "    <tr>\n",
       "      <th>0</th>\n",
       "      <td>50096</td>\n",
       "      <td>L</td>\n",
       "      <td>300.6</td>\n",
       "      <td>309.6</td>\n",
       "      <td>1596</td>\n",
       "      <td>36.1</td>\n",
       "      <td>140</td>\n",
       "      <td>0</td>\n",
       "      <td>0</td>\n",
       "      <td>0</td>\n",
       "      <td>0</td>\n",
       "      <td>0</td>\n",
       "    </tr>\n",
       "    <tr>\n",
       "      <th>1</th>\n",
       "      <td>20343</td>\n",
       "      <td>M</td>\n",
       "      <td>302.6</td>\n",
       "      <td>312.1</td>\n",
       "      <td>1759</td>\n",
       "      <td>29.1</td>\n",
       "      <td>200</td>\n",
       "      <td>0</td>\n",
       "      <td>0</td>\n",
       "      <td>0</td>\n",
       "      <td>0</td>\n",
       "      <td>0</td>\n",
       "    </tr>\n",
       "    <tr>\n",
       "      <th>2</th>\n",
       "      <td>49454</td>\n",
       "      <td>L</td>\n",
       "      <td>299.3</td>\n",
       "      <td>308.5</td>\n",
       "      <td>1805</td>\n",
       "      <td>26.5</td>\n",
       "      <td>25</td>\n",
       "      <td>0</td>\n",
       "      <td>0</td>\n",
       "      <td>0</td>\n",
       "      <td>0</td>\n",
       "      <td>0</td>\n",
       "    </tr>\n",
       "    <tr>\n",
       "      <th>3</th>\n",
       "      <td>53355</td>\n",
       "      <td>L</td>\n",
       "      <td>301.0</td>\n",
       "      <td>310.9</td>\n",
       "      <td>1524</td>\n",
       "      <td>44.3</td>\n",
       "      <td>197</td>\n",
       "      <td>0</td>\n",
       "      <td>0</td>\n",
       "      <td>0</td>\n",
       "      <td>0</td>\n",
       "      <td>0</td>\n",
       "    </tr>\n",
       "    <tr>\n",
       "      <th>4</th>\n",
       "      <td>24050</td>\n",
       "      <td>M</td>\n",
       "      <td>298.0</td>\n",
       "      <td>309.0</td>\n",
       "      <td>1641</td>\n",
       "      <td>35.4</td>\n",
       "      <td>34</td>\n",
       "      <td>0</td>\n",
       "      <td>0</td>\n",
       "      <td>0</td>\n",
       "      <td>0</td>\n",
       "      <td>0</td>\n",
       "    </tr>\n",
       "  </tbody>\n",
       "</table>\n",
       "</div>"
      ],
      "text/plain": [
       "   Product ID Type  Air temperature [K]  Process temperature [K]  \\\n",
       "0       50096    L                300.6                    309.6   \n",
       "1       20343    M                302.6                    312.1   \n",
       "2       49454    L                299.3                    308.5   \n",
       "3       53355    L                301.0                    310.9   \n",
       "4       24050    M                298.0                    309.0   \n",
       "\n",
       "   Rotational speed [rpm]  Torque [Nm]  Tool wear [min]  TWF  HDF  PWF  OSF  \\\n",
       "0                    1596         36.1              140    0    0    0    0   \n",
       "1                    1759         29.1              200    0    0    0    0   \n",
       "2                    1805         26.5               25    0    0    0    0   \n",
       "3                    1524         44.3              197    0    0    0    0   \n",
       "4                    1641         35.4               34    0    0    0    0   \n",
       "\n",
       "   RNF  \n",
       "0    0  \n",
       "1    0  \n",
       "2    0  \n",
       "3    0  \n",
       "4    0  "
      ]
     },
     "execution_count": 17,
     "metadata": {},
     "output_type": "execute_result"
    }
   ],
   "source": [
    "X.head()"
   ]
  },
  {
   "cell_type": "code",
   "execution_count": 18,
   "id": "2aa1fdce",
   "metadata": {
    "execution": {
     "iopub.execute_input": "2024-07-03T05:25:29.111717Z",
     "iopub.status.busy": "2024-07-03T05:25:29.111302Z",
     "iopub.status.idle": "2024-07-03T05:25:29.122953Z",
     "shell.execute_reply": "2024-07-03T05:25:29.121243Z"
    },
    "papermill": {
     "duration": 0.039386,
     "end_time": "2024-07-03T05:25:29.125689",
     "exception": false,
     "start_time": "2024-07-03T05:25:29.086303",
     "status": "completed"
    },
    "tags": []
   },
   "outputs": [
    {
     "data": {
      "text/html": [
       "<div>\n",
       "<style scoped>\n",
       "    .dataframe tbody tr th:only-of-type {\n",
       "        vertical-align: middle;\n",
       "    }\n",
       "\n",
       "    .dataframe tbody tr th {\n",
       "        vertical-align: top;\n",
       "    }\n",
       "\n",
       "    .dataframe thead th {\n",
       "        text-align: right;\n",
       "    }\n",
       "</style>\n",
       "<table border=\"1\" class=\"dataframe\">\n",
       "  <thead>\n",
       "    <tr style=\"text-align: right;\">\n",
       "      <th></th>\n",
       "      <th>Machine failure</th>\n",
       "    </tr>\n",
       "  </thead>\n",
       "  <tbody>\n",
       "    <tr>\n",
       "      <th>0</th>\n",
       "      <td>0</td>\n",
       "    </tr>\n",
       "    <tr>\n",
       "      <th>1</th>\n",
       "      <td>0</td>\n",
       "    </tr>\n",
       "    <tr>\n",
       "      <th>2</th>\n",
       "      <td>0</td>\n",
       "    </tr>\n",
       "    <tr>\n",
       "      <th>3</th>\n",
       "      <td>0</td>\n",
       "    </tr>\n",
       "    <tr>\n",
       "      <th>4</th>\n",
       "      <td>0</td>\n",
       "    </tr>\n",
       "  </tbody>\n",
       "</table>\n",
       "</div>"
      ],
      "text/plain": [
       "   Machine failure\n",
       "0                0\n",
       "1                0\n",
       "2                0\n",
       "3                0\n",
       "4                0"
      ]
     },
     "execution_count": 18,
     "metadata": {},
     "output_type": "execute_result"
    }
   ],
   "source": [
    "Y.head()"
   ]
  },
  {
   "cell_type": "code",
   "execution_count": 19,
   "id": "8ddeb02c",
   "metadata": {
    "execution": {
     "iopub.execute_input": "2024-07-03T05:25:29.175005Z",
     "iopub.status.busy": "2024-07-03T05:25:29.174136Z",
     "iopub.status.idle": "2024-07-03T05:25:29.181579Z",
     "shell.execute_reply": "2024-07-03T05:25:29.179859Z"
    },
    "papermill": {
     "duration": 0.034581,
     "end_time": "2024-07-03T05:25:29.184649",
     "exception": false,
     "start_time": "2024-07-03T05:25:29.150068",
     "status": "completed"
    },
    "tags": []
   },
   "outputs": [],
   "source": [
    "# Separate categorical and continouos features for encoding and scaling of data\n",
    "cat = list(X.columns[X.dtypes=='object'])\n",
    "con = list(X.columns[X.dtypes!='object'])"
   ]
  },
  {
   "cell_type": "code",
   "execution_count": 20,
   "id": "67e8494e",
   "metadata": {
    "execution": {
     "iopub.execute_input": "2024-07-03T05:25:29.235782Z",
     "iopub.status.busy": "2024-07-03T05:25:29.234773Z",
     "iopub.status.idle": "2024-07-03T05:25:29.241272Z",
     "shell.execute_reply": "2024-07-03T05:25:29.239574Z"
    },
    "papermill": {
     "duration": 0.035627,
     "end_time": "2024-07-03T05:25:29.243916",
     "exception": false,
     "start_time": "2024-07-03T05:25:29.208289",
     "status": "completed"
    },
    "tags": []
   },
   "outputs": [],
   "source": [
    "num_pipe = Pipeline(steps=[('imputer',SimpleImputer(strategy='mean')),\n",
    "                          ('scaler',StandardScaler())])"
   ]
  },
  {
   "cell_type": "code",
   "execution_count": 21,
   "id": "2ff7709f",
   "metadata": {
    "execution": {
     "iopub.execute_input": "2024-07-03T05:25:29.292977Z",
     "iopub.status.busy": "2024-07-03T05:25:29.292550Z",
     "iopub.status.idle": "2024-07-03T05:25:29.298260Z",
     "shell.execute_reply": "2024-07-03T05:25:29.296898Z"
    },
    "papermill": {
     "duration": 0.033169,
     "end_time": "2024-07-03T05:25:29.300792",
     "exception": false,
     "start_time": "2024-07-03T05:25:29.267623",
     "status": "completed"
    },
    "tags": []
   },
   "outputs": [],
   "source": [
    "cat_pipe = Pipeline(steps=[('imputer',SimpleImputer(strategy='most_frequent')),\n",
    "                          ('ohe',OneHotEncoder(handle_unknown='ignore',sparse_output=False))])"
   ]
  },
  {
   "cell_type": "code",
   "execution_count": 22,
   "id": "a8ba5854",
   "metadata": {
    "execution": {
     "iopub.execute_input": "2024-07-03T05:25:29.349762Z",
     "iopub.status.busy": "2024-07-03T05:25:29.349341Z",
     "iopub.status.idle": "2024-07-03T05:25:29.355023Z",
     "shell.execute_reply": "2024-07-03T05:25:29.353873Z"
    },
    "papermill": {
     "duration": 0.034445,
     "end_time": "2024-07-03T05:25:29.357877",
     "exception": false,
     "start_time": "2024-07-03T05:25:29.323432",
     "status": "completed"
    },
    "tags": []
   },
   "outputs": [],
   "source": [
    "pre = ColumnTransformer([('num',num_pipe,con),\n",
    "                        ('cat',cat_pipe,cat)]).set_output(transform='pandas')"
   ]
  },
  {
   "cell_type": "code",
   "execution_count": 23,
   "id": "8cc8e004",
   "metadata": {
    "execution": {
     "iopub.execute_input": "2024-07-03T05:25:29.407011Z",
     "iopub.status.busy": "2024-07-03T05:25:29.406582Z",
     "iopub.status.idle": "2024-07-03T05:25:29.445416Z",
     "shell.execute_reply": "2024-07-03T05:25:29.444089Z"
    },
    "papermill": {
     "duration": 0.066616,
     "end_time": "2024-07-03T05:25:29.448601",
     "exception": false,
     "start_time": "2024-07-03T05:25:29.381985",
     "status": "completed"
    },
    "tags": []
   },
   "outputs": [
    {
     "data": {
      "text/html": [
       "<style>#sk-container-id-1 {color: black;background-color: white;}#sk-container-id-1 pre{padding: 0;}#sk-container-id-1 div.sk-toggleable {background-color: white;}#sk-container-id-1 label.sk-toggleable__label {cursor: pointer;display: block;width: 100%;margin-bottom: 0;padding: 0.3em;box-sizing: border-box;text-align: center;}#sk-container-id-1 label.sk-toggleable__label-arrow:before {content: \"▸\";float: left;margin-right: 0.25em;color: #696969;}#sk-container-id-1 label.sk-toggleable__label-arrow:hover:before {color: black;}#sk-container-id-1 div.sk-estimator:hover label.sk-toggleable__label-arrow:before {color: black;}#sk-container-id-1 div.sk-toggleable__content {max-height: 0;max-width: 0;overflow: hidden;text-align: left;background-color: #f0f8ff;}#sk-container-id-1 div.sk-toggleable__content pre {margin: 0.2em;color: black;border-radius: 0.25em;background-color: #f0f8ff;}#sk-container-id-1 input.sk-toggleable__control:checked~div.sk-toggleable__content {max-height: 200px;max-width: 100%;overflow: auto;}#sk-container-id-1 input.sk-toggleable__control:checked~label.sk-toggleable__label-arrow:before {content: \"▾\";}#sk-container-id-1 div.sk-estimator input.sk-toggleable__control:checked~label.sk-toggleable__label {background-color: #d4ebff;}#sk-container-id-1 div.sk-label input.sk-toggleable__control:checked~label.sk-toggleable__label {background-color: #d4ebff;}#sk-container-id-1 input.sk-hidden--visually {border: 0;clip: rect(1px 1px 1px 1px);clip: rect(1px, 1px, 1px, 1px);height: 1px;margin: -1px;overflow: hidden;padding: 0;position: absolute;width: 1px;}#sk-container-id-1 div.sk-estimator {font-family: monospace;background-color: #f0f8ff;border: 1px dotted black;border-radius: 0.25em;box-sizing: border-box;margin-bottom: 0.5em;}#sk-container-id-1 div.sk-estimator:hover {background-color: #d4ebff;}#sk-container-id-1 div.sk-parallel-item::after {content: \"\";width: 100%;border-bottom: 1px solid gray;flex-grow: 1;}#sk-container-id-1 div.sk-label:hover label.sk-toggleable__label {background-color: #d4ebff;}#sk-container-id-1 div.sk-serial::before {content: \"\";position: absolute;border-left: 1px solid gray;box-sizing: border-box;top: 0;bottom: 0;left: 50%;z-index: 0;}#sk-container-id-1 div.sk-serial {display: flex;flex-direction: column;align-items: center;background-color: white;padding-right: 0.2em;padding-left: 0.2em;position: relative;}#sk-container-id-1 div.sk-item {position: relative;z-index: 1;}#sk-container-id-1 div.sk-parallel {display: flex;align-items: stretch;justify-content: center;background-color: white;position: relative;}#sk-container-id-1 div.sk-item::before, #sk-container-id-1 div.sk-parallel-item::before {content: \"\";position: absolute;border-left: 1px solid gray;box-sizing: border-box;top: 0;bottom: 0;left: 50%;z-index: -1;}#sk-container-id-1 div.sk-parallel-item {display: flex;flex-direction: column;z-index: 1;position: relative;background-color: white;}#sk-container-id-1 div.sk-parallel-item:first-child::after {align-self: flex-end;width: 50%;}#sk-container-id-1 div.sk-parallel-item:last-child::after {align-self: flex-start;width: 50%;}#sk-container-id-1 div.sk-parallel-item:only-child::after {width: 0;}#sk-container-id-1 div.sk-dashed-wrapped {border: 1px dashed gray;margin: 0 0.4em 0.5em 0.4em;box-sizing: border-box;padding-bottom: 0.4em;background-color: white;}#sk-container-id-1 div.sk-label label {font-family: monospace;font-weight: bold;display: inline-block;line-height: 1.2em;}#sk-container-id-1 div.sk-label-container {text-align: center;}#sk-container-id-1 div.sk-container {/* jupyter's `normalize.less` sets `[hidden] { display: none; }` but bootstrap.min.css set `[hidden] { display: none !important; }` so we also need the `!important` here to be able to override the default hidden behavior on the sphinx rendered scikit-learn.org. See: https://github.com/scikit-learn/scikit-learn/issues/21755 */display: inline-block !important;position: relative;}#sk-container-id-1 div.sk-text-repr-fallback {display: none;}</style><div id=\"sk-container-id-1\" class=\"sk-top-container\"><div class=\"sk-text-repr-fallback\"><pre>ColumnTransformer(transformers=[(&#x27;num&#x27;,\n",
       "                                 Pipeline(steps=[(&#x27;imputer&#x27;, SimpleImputer()),\n",
       "                                                 (&#x27;scaler&#x27;, StandardScaler())]),\n",
       "                                 [&#x27;Product ID&#x27;, &#x27;Air temperature [K]&#x27;,\n",
       "                                  &#x27;Process temperature [K]&#x27;,\n",
       "                                  &#x27;Rotational speed [rpm]&#x27;, &#x27;Torque [Nm]&#x27;,\n",
       "                                  &#x27;Tool wear [min]&#x27;, &#x27;TWF&#x27;, &#x27;HDF&#x27;, &#x27;PWF&#x27;, &#x27;OSF&#x27;,\n",
       "                                  &#x27;RNF&#x27;]),\n",
       "                                (&#x27;cat&#x27;,\n",
       "                                 Pipeline(steps=[(&#x27;imputer&#x27;,\n",
       "                                                  SimpleImputer(strategy=&#x27;most_frequent&#x27;)),\n",
       "                                                 (&#x27;ohe&#x27;,\n",
       "                                                  OneHotEncoder(handle_unknown=&#x27;ignore&#x27;,\n",
       "                                                                sparse_output=False))]),\n",
       "                                 [&#x27;Type&#x27;])])</pre><b>In a Jupyter environment, please rerun this cell to show the HTML representation or trust the notebook. <br />On GitHub, the HTML representation is unable to render, please try loading this page with nbviewer.org.</b></div><div class=\"sk-container\" hidden><div class=\"sk-item sk-dashed-wrapped\"><div class=\"sk-label-container\"><div class=\"sk-label sk-toggleable\"><input class=\"sk-toggleable__control sk-hidden--visually\" id=\"sk-estimator-id-1\" type=\"checkbox\" ><label for=\"sk-estimator-id-1\" class=\"sk-toggleable__label sk-toggleable__label-arrow\">ColumnTransformer</label><div class=\"sk-toggleable__content\"><pre>ColumnTransformer(transformers=[(&#x27;num&#x27;,\n",
       "                                 Pipeline(steps=[(&#x27;imputer&#x27;, SimpleImputer()),\n",
       "                                                 (&#x27;scaler&#x27;, StandardScaler())]),\n",
       "                                 [&#x27;Product ID&#x27;, &#x27;Air temperature [K]&#x27;,\n",
       "                                  &#x27;Process temperature [K]&#x27;,\n",
       "                                  &#x27;Rotational speed [rpm]&#x27;, &#x27;Torque [Nm]&#x27;,\n",
       "                                  &#x27;Tool wear [min]&#x27;, &#x27;TWF&#x27;, &#x27;HDF&#x27;, &#x27;PWF&#x27;, &#x27;OSF&#x27;,\n",
       "                                  &#x27;RNF&#x27;]),\n",
       "                                (&#x27;cat&#x27;,\n",
       "                                 Pipeline(steps=[(&#x27;imputer&#x27;,\n",
       "                                                  SimpleImputer(strategy=&#x27;most_frequent&#x27;)),\n",
       "                                                 (&#x27;ohe&#x27;,\n",
       "                                                  OneHotEncoder(handle_unknown=&#x27;ignore&#x27;,\n",
       "                                                                sparse_output=False))]),\n",
       "                                 [&#x27;Type&#x27;])])</pre></div></div></div><div class=\"sk-parallel\"><div class=\"sk-parallel-item\"><div class=\"sk-item\"><div class=\"sk-label-container\"><div class=\"sk-label sk-toggleable\"><input class=\"sk-toggleable__control sk-hidden--visually\" id=\"sk-estimator-id-2\" type=\"checkbox\" ><label for=\"sk-estimator-id-2\" class=\"sk-toggleable__label sk-toggleable__label-arrow\">num</label><div class=\"sk-toggleable__content\"><pre>[&#x27;Product ID&#x27;, &#x27;Air temperature [K]&#x27;, &#x27;Process temperature [K]&#x27;, &#x27;Rotational speed [rpm]&#x27;, &#x27;Torque [Nm]&#x27;, &#x27;Tool wear [min]&#x27;, &#x27;TWF&#x27;, &#x27;HDF&#x27;, &#x27;PWF&#x27;, &#x27;OSF&#x27;, &#x27;RNF&#x27;]</pre></div></div></div><div class=\"sk-serial\"><div class=\"sk-item\"><div class=\"sk-serial\"><div class=\"sk-item\"><div class=\"sk-estimator sk-toggleable\"><input class=\"sk-toggleable__control sk-hidden--visually\" id=\"sk-estimator-id-3\" type=\"checkbox\" ><label for=\"sk-estimator-id-3\" class=\"sk-toggleable__label sk-toggleable__label-arrow\">SimpleImputer</label><div class=\"sk-toggleable__content\"><pre>SimpleImputer()</pre></div></div></div><div class=\"sk-item\"><div class=\"sk-estimator sk-toggleable\"><input class=\"sk-toggleable__control sk-hidden--visually\" id=\"sk-estimator-id-4\" type=\"checkbox\" ><label for=\"sk-estimator-id-4\" class=\"sk-toggleable__label sk-toggleable__label-arrow\">StandardScaler</label><div class=\"sk-toggleable__content\"><pre>StandardScaler()</pre></div></div></div></div></div></div></div></div><div class=\"sk-parallel-item\"><div class=\"sk-item\"><div class=\"sk-label-container\"><div class=\"sk-label sk-toggleable\"><input class=\"sk-toggleable__control sk-hidden--visually\" id=\"sk-estimator-id-5\" type=\"checkbox\" ><label for=\"sk-estimator-id-5\" class=\"sk-toggleable__label sk-toggleable__label-arrow\">cat</label><div class=\"sk-toggleable__content\"><pre>[&#x27;Type&#x27;]</pre></div></div></div><div class=\"sk-serial\"><div class=\"sk-item\"><div class=\"sk-serial\"><div class=\"sk-item\"><div class=\"sk-estimator sk-toggleable\"><input class=\"sk-toggleable__control sk-hidden--visually\" id=\"sk-estimator-id-6\" type=\"checkbox\" ><label for=\"sk-estimator-id-6\" class=\"sk-toggleable__label sk-toggleable__label-arrow\">SimpleImputer</label><div class=\"sk-toggleable__content\"><pre>SimpleImputer(strategy=&#x27;most_frequent&#x27;)</pre></div></div></div><div class=\"sk-item\"><div class=\"sk-estimator sk-toggleable\"><input class=\"sk-toggleable__control sk-hidden--visually\" id=\"sk-estimator-id-7\" type=\"checkbox\" ><label for=\"sk-estimator-id-7\" class=\"sk-toggleable__label sk-toggleable__label-arrow\">OneHotEncoder</label><div class=\"sk-toggleable__content\"><pre>OneHotEncoder(handle_unknown=&#x27;ignore&#x27;, sparse_output=False)</pre></div></div></div></div></div></div></div></div></div></div></div></div>"
      ],
      "text/plain": [
       "ColumnTransformer(transformers=[('num',\n",
       "                                 Pipeline(steps=[('imputer', SimpleImputer()),\n",
       "                                                 ('scaler', StandardScaler())]),\n",
       "                                 ['Product ID', 'Air temperature [K]',\n",
       "                                  'Process temperature [K]',\n",
       "                                  'Rotational speed [rpm]', 'Torque [Nm]',\n",
       "                                  'Tool wear [min]', 'TWF', 'HDF', 'PWF', 'OSF',\n",
       "                                  'RNF']),\n",
       "                                ('cat',\n",
       "                                 Pipeline(steps=[('imputer',\n",
       "                                                  SimpleImputer(strategy='most_frequent')),\n",
       "                                                 ('ohe',\n",
       "                                                  OneHotEncoder(handle_unknown='ignore',\n",
       "                                                                sparse_output=False))]),\n",
       "                                 ['Type'])])"
      ]
     },
     "execution_count": 23,
     "metadata": {},
     "output_type": "execute_result"
    }
   ],
   "source": [
    "pre"
   ]
  },
  {
   "cell_type": "code",
   "execution_count": 24,
   "id": "cf504b4e",
   "metadata": {
    "execution": {
     "iopub.execute_input": "2024-07-03T05:25:29.498503Z",
     "iopub.status.busy": "2024-07-03T05:25:29.498140Z",
     "iopub.status.idle": "2024-07-03T05:25:29.688516Z",
     "shell.execute_reply": "2024-07-03T05:25:29.687122Z"
    },
    "papermill": {
     "duration": 0.219707,
     "end_time": "2024-07-03T05:25:29.691623",
     "exception": false,
     "start_time": "2024-07-03T05:25:29.471916",
     "status": "completed"
    },
    "tags": []
   },
   "outputs": [
    {
     "data": {
      "text/html": [
       "<div>\n",
       "<style scoped>\n",
       "    .dataframe tbody tr th:only-of-type {\n",
       "        vertical-align: middle;\n",
       "    }\n",
       "\n",
       "    .dataframe tbody tr th {\n",
       "        vertical-align: top;\n",
       "    }\n",
       "\n",
       "    .dataframe thead th {\n",
       "        text-align: right;\n",
       "    }\n",
       "</style>\n",
       "<table border=\"1\" class=\"dataframe\">\n",
       "  <thead>\n",
       "    <tr style=\"text-align: right;\">\n",
       "      <th></th>\n",
       "      <th>num__Product ID</th>\n",
       "      <th>num__Air temperature [K]</th>\n",
       "      <th>num__Process temperature [K]</th>\n",
       "      <th>num__Rotational speed [rpm]</th>\n",
       "      <th>num__Torque [Nm]</th>\n",
       "      <th>num__Tool wear [min]</th>\n",
       "      <th>num__TWF</th>\n",
       "      <th>num__HDF</th>\n",
       "      <th>num__PWF</th>\n",
       "      <th>num__OSF</th>\n",
       "      <th>num__RNF</th>\n",
       "      <th>cat__Type_H</th>\n",
       "      <th>cat__Type_L</th>\n",
       "      <th>cat__Type_M</th>\n",
       "    </tr>\n",
       "  </thead>\n",
       "  <tbody>\n",
       "    <tr>\n",
       "      <th>0</th>\n",
       "      <td>0.455430</td>\n",
       "      <td>0.395634</td>\n",
       "      <td>-0.246272</td>\n",
       "      <td>0.545724</td>\n",
       "      <td>-0.499466</td>\n",
       "      <td>0.557269</td>\n",
       "      <td>-0.03924</td>\n",
       "      <td>-0.072168</td>\n",
       "      <td>-0.048691</td>\n",
       "      <td>-0.06289</td>\n",
       "      <td>-0.047611</td>\n",
       "      <td>0.0</td>\n",
       "      <td>1.0</td>\n",
       "      <td>0.0</td>\n",
       "    </tr>\n",
       "    <tr>\n",
       "      <th>1</th>\n",
       "      <td>-1.649926</td>\n",
       "      <td>1.469374</td>\n",
       "      <td>1.558865</td>\n",
       "      <td>1.721407</td>\n",
       "      <td>-1.323713</td>\n",
       "      <td>1.495570</td>\n",
       "      <td>-0.03924</td>\n",
       "      <td>-0.072168</td>\n",
       "      <td>-0.048691</td>\n",
       "      <td>-0.06289</td>\n",
       "      <td>-0.047611</td>\n",
       "      <td>0.0</td>\n",
       "      <td>0.0</td>\n",
       "      <td>1.0</td>\n",
       "    </tr>\n",
       "    <tr>\n",
       "      <th>2</th>\n",
       "      <td>0.410001</td>\n",
       "      <td>-0.302297</td>\n",
       "      <td>-1.040532</td>\n",
       "      <td>2.053195</td>\n",
       "      <td>-1.629862</td>\n",
       "      <td>-1.241141</td>\n",
       "      <td>-0.03924</td>\n",
       "      <td>-0.072168</td>\n",
       "      <td>-0.048691</td>\n",
       "      <td>-0.06289</td>\n",
       "      <td>-0.047611</td>\n",
       "      <td>0.0</td>\n",
       "      <td>1.0</td>\n",
       "      <td>0.0</td>\n",
       "    </tr>\n",
       "    <tr>\n",
       "      <th>3</th>\n",
       "      <td>0.686040</td>\n",
       "      <td>0.610382</td>\n",
       "      <td>0.692399</td>\n",
       "      <td>0.026404</td>\n",
       "      <td>0.466080</td>\n",
       "      <td>1.448655</td>\n",
       "      <td>-0.03924</td>\n",
       "      <td>-0.072168</td>\n",
       "      <td>-0.048691</td>\n",
       "      <td>-0.06289</td>\n",
       "      <td>-0.047611</td>\n",
       "      <td>0.0</td>\n",
       "      <td>1.0</td>\n",
       "      <td>0.0</td>\n",
       "    </tr>\n",
       "    <tr>\n",
       "      <th>4</th>\n",
       "      <td>-1.387614</td>\n",
       "      <td>-1.000229</td>\n",
       "      <td>-0.679505</td>\n",
       "      <td>0.870299</td>\n",
       "      <td>-0.581891</td>\n",
       "      <td>-1.100396</td>\n",
       "      <td>-0.03924</td>\n",
       "      <td>-0.072168</td>\n",
       "      <td>-0.048691</td>\n",
       "      <td>-0.06289</td>\n",
       "      <td>-0.047611</td>\n",
       "      <td>0.0</td>\n",
       "      <td>0.0</td>\n",
       "      <td>1.0</td>\n",
       "    </tr>\n",
       "  </tbody>\n",
       "</table>\n",
       "</div>"
      ],
      "text/plain": [
       "   num__Product ID  num__Air temperature [K]  num__Process temperature [K]  \\\n",
       "0         0.455430                  0.395634                     -0.246272   \n",
       "1        -1.649926                  1.469374                      1.558865   \n",
       "2         0.410001                 -0.302297                     -1.040532   \n",
       "3         0.686040                  0.610382                      0.692399   \n",
       "4        -1.387614                 -1.000229                     -0.679505   \n",
       "\n",
       "   num__Rotational speed [rpm]  num__Torque [Nm]  num__Tool wear [min]  \\\n",
       "0                     0.545724         -0.499466              0.557269   \n",
       "1                     1.721407         -1.323713              1.495570   \n",
       "2                     2.053195         -1.629862             -1.241141   \n",
       "3                     0.026404          0.466080              1.448655   \n",
       "4                     0.870299         -0.581891             -1.100396   \n",
       "\n",
       "   num__TWF  num__HDF  num__PWF  num__OSF  num__RNF  cat__Type_H  cat__Type_L  \\\n",
       "0  -0.03924 -0.072168 -0.048691  -0.06289 -0.047611          0.0          1.0   \n",
       "1  -0.03924 -0.072168 -0.048691  -0.06289 -0.047611          0.0          0.0   \n",
       "2  -0.03924 -0.072168 -0.048691  -0.06289 -0.047611          0.0          1.0   \n",
       "3  -0.03924 -0.072168 -0.048691  -0.06289 -0.047611          0.0          1.0   \n",
       "4  -0.03924 -0.072168 -0.048691  -0.06289 -0.047611          0.0          0.0   \n",
       "\n",
       "   cat__Type_M  \n",
       "0          0.0  \n",
       "1          1.0  \n",
       "2          0.0  \n",
       "3          0.0  \n",
       "4          1.0  "
      ]
     },
     "execution_count": 24,
     "metadata": {},
     "output_type": "execute_result"
    }
   ],
   "source": [
    "X_pre = pre.fit_transform(X)\n",
    "X_pre.head()"
   ]
  },
  {
   "cell_type": "markdown",
   "id": "b6e0ba9e",
   "metadata": {
    "papermill": {
     "duration": 0.025302,
     "end_time": "2024-07-03T05:25:29.741567",
     "exception": false,
     "start_time": "2024-07-03T05:25:29.716265",
     "status": "completed"
    },
    "tags": []
   },
   "source": [
    "## Perform Train Test Split to divide the dataset into 75% training and 25% testing"
   ]
  },
  {
   "cell_type": "code",
   "execution_count": 25,
   "id": "ee53275d",
   "metadata": {
    "execution": {
     "iopub.execute_input": "2024-07-03T05:25:29.796527Z",
     "iopub.status.busy": "2024-07-03T05:25:29.796109Z",
     "iopub.status.idle": "2024-07-03T05:25:29.829160Z",
     "shell.execute_reply": "2024-07-03T05:25:29.827923Z"
    },
    "papermill": {
     "duration": 0.064639,
     "end_time": "2024-07-03T05:25:29.831993",
     "exception": false,
     "start_time": "2024-07-03T05:25:29.767354",
     "status": "completed"
    },
    "tags": []
   },
   "outputs": [],
   "source": [
    "xtrain, xtest, ytrain, ytest = train_test_split(X_pre,Y,train_size=0.75,test_size=0.25,random_state=21)"
   ]
  },
  {
   "cell_type": "code",
   "execution_count": 26,
   "id": "333fc4fe",
   "metadata": {
    "execution": {
     "iopub.execute_input": "2024-07-03T05:25:29.885186Z",
     "iopub.status.busy": "2024-07-03T05:25:29.884769Z",
     "iopub.status.idle": "2024-07-03T05:25:29.892298Z",
     "shell.execute_reply": "2024-07-03T05:25:29.891192Z"
    },
    "papermill": {
     "duration": 0.037919,
     "end_time": "2024-07-03T05:25:29.894932",
     "exception": false,
     "start_time": "2024-07-03T05:25:29.857013",
     "status": "completed"
    },
    "tags": []
   },
   "outputs": [
    {
     "data": {
      "text/plain": [
       "(101471, 14)"
      ]
     },
     "execution_count": 26,
     "metadata": {},
     "output_type": "execute_result"
    }
   ],
   "source": [
    "xtrain.shape"
   ]
  },
  {
   "cell_type": "code",
   "execution_count": 27,
   "id": "9c91f0e6",
   "metadata": {
    "execution": {
     "iopub.execute_input": "2024-07-03T05:25:29.946719Z",
     "iopub.status.busy": "2024-07-03T05:25:29.946339Z",
     "iopub.status.idle": "2024-07-03T05:25:29.953564Z",
     "shell.execute_reply": "2024-07-03T05:25:29.952143Z"
    },
    "papermill": {
     "duration": 0.036231,
     "end_time": "2024-07-03T05:25:29.956360",
     "exception": false,
     "start_time": "2024-07-03T05:25:29.920129",
     "status": "completed"
    },
    "tags": []
   },
   "outputs": [
    {
     "data": {
      "text/plain": [
       "(33824, 14)"
      ]
     },
     "execution_count": 27,
     "metadata": {},
     "output_type": "execute_result"
    }
   ],
   "source": [
    "xtest.shape"
   ]
  },
  {
   "cell_type": "code",
   "execution_count": 28,
   "id": "3fa6c565",
   "metadata": {
    "execution": {
     "iopub.execute_input": "2024-07-03T05:25:30.010779Z",
     "iopub.status.busy": "2024-07-03T05:25:30.010379Z",
     "iopub.status.idle": "2024-07-03T05:25:30.018410Z",
     "shell.execute_reply": "2024-07-03T05:25:30.017150Z"
    },
    "papermill": {
     "duration": 0.039076,
     "end_time": "2024-07-03T05:25:30.020960",
     "exception": false,
     "start_time": "2024-07-03T05:25:29.981884",
     "status": "completed"
    },
    "tags": []
   },
   "outputs": [
    {
     "data": {
      "text/plain": [
       "(101471, 1)"
      ]
     },
     "execution_count": 28,
     "metadata": {},
     "output_type": "execute_result"
    }
   ],
   "source": [
    "ytrain.shape"
   ]
  },
  {
   "cell_type": "code",
   "execution_count": 29,
   "id": "b8adae53",
   "metadata": {
    "execution": {
     "iopub.execute_input": "2024-07-03T05:25:30.074160Z",
     "iopub.status.busy": "2024-07-03T05:25:30.073766Z",
     "iopub.status.idle": "2024-07-03T05:25:30.080782Z",
     "shell.execute_reply": "2024-07-03T05:25:30.079624Z"
    },
    "papermill": {
     "duration": 0.037184,
     "end_time": "2024-07-03T05:25:30.083733",
     "exception": false,
     "start_time": "2024-07-03T05:25:30.046549",
     "status": "completed"
    },
    "tags": []
   },
   "outputs": [
    {
     "data": {
      "text/plain": [
       "(33824, 1)"
      ]
     },
     "execution_count": 29,
     "metadata": {},
     "output_type": "execute_result"
    }
   ],
   "source": [
    "ytest.shape"
   ]
  },
  {
   "cell_type": "markdown",
   "id": "28d61640",
   "metadata": {
    "papermill": {
     "duration": 0.023838,
     "end_time": "2024-07-03T05:25:30.133305",
     "exception": false,
     "start_time": "2024-07-03T05:25:30.109467",
     "status": "completed"
    },
    "tags": []
   },
   "source": [
    "## Build the model"
   ]
  },
  {
   "cell_type": "code",
   "execution_count": 30,
   "id": "456fb307",
   "metadata": {
    "execution": {
     "iopub.execute_input": "2024-07-03T05:25:30.186581Z",
     "iopub.status.busy": "2024-07-03T05:25:30.186186Z",
     "iopub.status.idle": "2024-07-03T05:25:30.947181Z",
     "shell.execute_reply": "2024-07-03T05:25:30.945585Z"
    },
    "papermill": {
     "duration": 0.792248,
     "end_time": "2024-07-03T05:25:30.951426",
     "exception": false,
     "start_time": "2024-07-03T05:25:30.159178",
     "status": "completed"
    },
    "tags": []
   },
   "outputs": [
    {
     "data": {
      "text/html": [
       "<style>#sk-container-id-2 {color: black;background-color: white;}#sk-container-id-2 pre{padding: 0;}#sk-container-id-2 div.sk-toggleable {background-color: white;}#sk-container-id-2 label.sk-toggleable__label {cursor: pointer;display: block;width: 100%;margin-bottom: 0;padding: 0.3em;box-sizing: border-box;text-align: center;}#sk-container-id-2 label.sk-toggleable__label-arrow:before {content: \"▸\";float: left;margin-right: 0.25em;color: #696969;}#sk-container-id-2 label.sk-toggleable__label-arrow:hover:before {color: black;}#sk-container-id-2 div.sk-estimator:hover label.sk-toggleable__label-arrow:before {color: black;}#sk-container-id-2 div.sk-toggleable__content {max-height: 0;max-width: 0;overflow: hidden;text-align: left;background-color: #f0f8ff;}#sk-container-id-2 div.sk-toggleable__content pre {margin: 0.2em;color: black;border-radius: 0.25em;background-color: #f0f8ff;}#sk-container-id-2 input.sk-toggleable__control:checked~div.sk-toggleable__content {max-height: 200px;max-width: 100%;overflow: auto;}#sk-container-id-2 input.sk-toggleable__control:checked~label.sk-toggleable__label-arrow:before {content: \"▾\";}#sk-container-id-2 div.sk-estimator input.sk-toggleable__control:checked~label.sk-toggleable__label {background-color: #d4ebff;}#sk-container-id-2 div.sk-label input.sk-toggleable__control:checked~label.sk-toggleable__label {background-color: #d4ebff;}#sk-container-id-2 input.sk-hidden--visually {border: 0;clip: rect(1px 1px 1px 1px);clip: rect(1px, 1px, 1px, 1px);height: 1px;margin: -1px;overflow: hidden;padding: 0;position: absolute;width: 1px;}#sk-container-id-2 div.sk-estimator {font-family: monospace;background-color: #f0f8ff;border: 1px dotted black;border-radius: 0.25em;box-sizing: border-box;margin-bottom: 0.5em;}#sk-container-id-2 div.sk-estimator:hover {background-color: #d4ebff;}#sk-container-id-2 div.sk-parallel-item::after {content: \"\";width: 100%;border-bottom: 1px solid gray;flex-grow: 1;}#sk-container-id-2 div.sk-label:hover label.sk-toggleable__label {background-color: #d4ebff;}#sk-container-id-2 div.sk-serial::before {content: \"\";position: absolute;border-left: 1px solid gray;box-sizing: border-box;top: 0;bottom: 0;left: 50%;z-index: 0;}#sk-container-id-2 div.sk-serial {display: flex;flex-direction: column;align-items: center;background-color: white;padding-right: 0.2em;padding-left: 0.2em;position: relative;}#sk-container-id-2 div.sk-item {position: relative;z-index: 1;}#sk-container-id-2 div.sk-parallel {display: flex;align-items: stretch;justify-content: center;background-color: white;position: relative;}#sk-container-id-2 div.sk-item::before, #sk-container-id-2 div.sk-parallel-item::before {content: \"\";position: absolute;border-left: 1px solid gray;box-sizing: border-box;top: 0;bottom: 0;left: 50%;z-index: -1;}#sk-container-id-2 div.sk-parallel-item {display: flex;flex-direction: column;z-index: 1;position: relative;background-color: white;}#sk-container-id-2 div.sk-parallel-item:first-child::after {align-self: flex-end;width: 50%;}#sk-container-id-2 div.sk-parallel-item:last-child::after {align-self: flex-start;width: 50%;}#sk-container-id-2 div.sk-parallel-item:only-child::after {width: 0;}#sk-container-id-2 div.sk-dashed-wrapped {border: 1px dashed gray;margin: 0 0.4em 0.5em 0.4em;box-sizing: border-box;padding-bottom: 0.4em;background-color: white;}#sk-container-id-2 div.sk-label label {font-family: monospace;font-weight: bold;display: inline-block;line-height: 1.2em;}#sk-container-id-2 div.sk-label-container {text-align: center;}#sk-container-id-2 div.sk-container {/* jupyter's `normalize.less` sets `[hidden] { display: none; }` but bootstrap.min.css set `[hidden] { display: none !important; }` so we also need the `!important` here to be able to override the default hidden behavior on the sphinx rendered scikit-learn.org. See: https://github.com/scikit-learn/scikit-learn/issues/21755 */display: inline-block !important;position: relative;}#sk-container-id-2 div.sk-text-repr-fallback {display: none;}</style><div id=\"sk-container-id-2\" class=\"sk-top-container\"><div class=\"sk-text-repr-fallback\"><pre>LogisticRegression()</pre><b>In a Jupyter environment, please rerun this cell to show the HTML representation or trust the notebook. <br />On GitHub, the HTML representation is unable to render, please try loading this page with nbviewer.org.</b></div><div class=\"sk-container\" hidden><div class=\"sk-item\"><div class=\"sk-estimator sk-toggleable\"><input class=\"sk-toggleable__control sk-hidden--visually\" id=\"sk-estimator-id-8\" type=\"checkbox\" checked><label for=\"sk-estimator-id-8\" class=\"sk-toggleable__label sk-toggleable__label-arrow\">LogisticRegression</label><div class=\"sk-toggleable__content\"><pre>LogisticRegression()</pre></div></div></div></div></div>"
      ],
      "text/plain": [
       "LogisticRegression()"
      ]
     },
     "execution_count": 30,
     "metadata": {},
     "output_type": "execute_result"
    }
   ],
   "source": [
    "model = LogisticRegression()\n",
    "model.fit(xtrain,ytrain)"
   ]
  },
  {
   "cell_type": "code",
   "execution_count": 31,
   "id": "c5caa956",
   "metadata": {
    "execution": {
     "iopub.execute_input": "2024-07-03T05:25:31.061914Z",
     "iopub.status.busy": "2024-07-03T05:25:31.061486Z",
     "iopub.status.idle": "2024-07-03T05:25:31.107064Z",
     "shell.execute_reply": "2024-07-03T05:25:31.105355Z"
    },
    "papermill": {
     "duration": 0.102607,
     "end_time": "2024-07-03T05:25:31.111466",
     "exception": false,
     "start_time": "2024-07-03T05:25:31.008859",
     "status": "completed"
    },
    "tags": []
   },
   "outputs": [
    {
     "data": {
      "text/plain": [
       "0.9961663923682629"
      ]
     },
     "execution_count": 31,
     "metadata": {},
     "output_type": "execute_result"
    }
   ],
   "source": [
    "model.score(xtrain,ytrain)"
   ]
  },
  {
   "cell_type": "code",
   "execution_count": 32,
   "id": "6d8c7ce0",
   "metadata": {
    "execution": {
     "iopub.execute_input": "2024-07-03T05:25:31.207773Z",
     "iopub.status.busy": "2024-07-03T05:25:31.207224Z",
     "iopub.status.idle": "2024-07-03T05:25:31.235171Z",
     "shell.execute_reply": "2024-07-03T05:25:31.233370Z"
    },
    "papermill": {
     "duration": 0.075818,
     "end_time": "2024-07-03T05:25:31.239610",
     "exception": false,
     "start_time": "2024-07-03T05:25:31.163792",
     "status": "completed"
    },
    "tags": []
   },
   "outputs": [
    {
     "data": {
      "text/plain": [
       "0.9962157048249763"
      ]
     },
     "execution_count": 32,
     "metadata": {},
     "output_type": "execute_result"
    }
   ],
   "source": [
    "model.score(xtest,ytest)"
   ]
  },
  {
   "cell_type": "markdown",
   "id": "e507173a",
   "metadata": {
    "papermill": {
     "duration": 0.044983,
     "end_time": "2024-07-03T05:25:31.341502",
     "exception": false,
     "start_time": "2024-07-03T05:25:31.296519",
     "status": "completed"
    },
    "tags": []
   },
   "source": [
    "## Model Evaluation"
   ]
  },
  {
   "cell_type": "code",
   "execution_count": 33,
   "id": "e6b35d6f",
   "metadata": {
    "execution": {
     "iopub.execute_input": "2024-07-03T05:25:31.393524Z",
     "iopub.status.busy": "2024-07-03T05:25:31.393095Z",
     "iopub.status.idle": "2024-07-03T05:25:31.407927Z",
     "shell.execute_reply": "2024-07-03T05:25:31.406304Z"
    },
    "papermill": {
     "duration": 0.046146,
     "end_time": "2024-07-03T05:25:31.412456",
     "exception": false,
     "start_time": "2024-07-03T05:25:31.366310",
     "status": "completed"
    },
    "tags": []
   },
   "outputs": [
    {
     "data": {
      "text/plain": [
       "array([0, 0, 0, 0, 0])"
      ]
     },
     "execution_count": 33,
     "metadata": {},
     "output_type": "execute_result"
    }
   ],
   "source": [
    "preds = model.predict(xtest)\n",
    "preds[:5]"
   ]
  },
  {
   "cell_type": "code",
   "execution_count": 34,
   "id": "1230d62d",
   "metadata": {
    "execution": {
     "iopub.execute_input": "2024-07-03T05:25:31.523972Z",
     "iopub.status.busy": "2024-07-03T05:25:31.523408Z",
     "iopub.status.idle": "2024-07-03T05:25:31.537001Z",
     "shell.execute_reply": "2024-07-03T05:25:31.535219Z"
    },
    "papermill": {
     "duration": 0.072042,
     "end_time": "2024-07-03T05:25:31.539994",
     "exception": false,
     "start_time": "2024-07-03T05:25:31.467952",
     "status": "completed"
    },
    "tags": []
   },
   "outputs": [
    {
     "data": {
      "text/html": [
       "<div>\n",
       "<style scoped>\n",
       "    .dataframe tbody tr th:only-of-type {\n",
       "        vertical-align: middle;\n",
       "    }\n",
       "\n",
       "    .dataframe tbody tr th {\n",
       "        vertical-align: top;\n",
       "    }\n",
       "\n",
       "    .dataframe thead th {\n",
       "        text-align: right;\n",
       "    }\n",
       "</style>\n",
       "<table border=\"1\" class=\"dataframe\">\n",
       "  <thead>\n",
       "    <tr style=\"text-align: right;\">\n",
       "      <th></th>\n",
       "      <th>Machine failure</th>\n",
       "    </tr>\n",
       "  </thead>\n",
       "  <tbody>\n",
       "    <tr>\n",
       "      <th>17484</th>\n",
       "      <td>0</td>\n",
       "    </tr>\n",
       "    <tr>\n",
       "      <th>68919</th>\n",
       "      <td>0</td>\n",
       "    </tr>\n",
       "    <tr>\n",
       "      <th>22775</th>\n",
       "      <td>0</td>\n",
       "    </tr>\n",
       "    <tr>\n",
       "      <th>33252</th>\n",
       "      <td>0</td>\n",
       "    </tr>\n",
       "    <tr>\n",
       "      <th>24428</th>\n",
       "      <td>0</td>\n",
       "    </tr>\n",
       "  </tbody>\n",
       "</table>\n",
       "</div>"
      ],
      "text/plain": [
       "       Machine failure\n",
       "17484                0\n",
       "68919                0\n",
       "22775                0\n",
       "33252                0\n",
       "24428                0"
      ]
     },
     "execution_count": 34,
     "metadata": {},
     "output_type": "execute_result"
    }
   ],
   "source": [
    "ytest.head()"
   ]
  },
  {
   "cell_type": "code",
   "execution_count": 35,
   "id": "dccd3fd7",
   "metadata": {
    "execution": {
     "iopub.execute_input": "2024-07-03T05:25:31.594477Z",
     "iopub.status.busy": "2024-07-03T05:25:31.594048Z",
     "iopub.status.idle": "2024-07-03T05:25:31.609017Z",
     "shell.execute_reply": "2024-07-03T05:25:31.607314Z"
    },
    "papermill": {
     "duration": 0.047826,
     "end_time": "2024-07-03T05:25:31.613819",
     "exception": false,
     "start_time": "2024-07-03T05:25:31.565993",
     "status": "completed"
    },
    "tags": []
   },
   "outputs": [
    {
     "data": {
      "text/plain": [
       "array([[0.99813339, 0.00186661],\n",
       "       [0.99650155, 0.00349845],\n",
       "       [0.99651596, 0.00348404],\n",
       "       ...,\n",
       "       [0.99719588, 0.00280412],\n",
       "       [0.99743947, 0.00256053],\n",
       "       [0.99494459, 0.00505541]])"
      ]
     },
     "execution_count": 35,
     "metadata": {},
     "output_type": "execute_result"
    }
   ],
   "source": [
    "probs = model.predict_proba(xtest)\n",
    "probs"
   ]
  },
  {
   "cell_type": "code",
   "execution_count": 36,
   "id": "5e0a2349",
   "metadata": {
    "execution": {
     "iopub.execute_input": "2024-07-03T05:25:31.727345Z",
     "iopub.status.busy": "2024-07-03T05:25:31.726923Z",
     "iopub.status.idle": "2024-07-03T05:25:31.735486Z",
     "shell.execute_reply": "2024-07-03T05:25:31.734034Z"
    },
    "papermill": {
     "duration": 0.0685,
     "end_time": "2024-07-03T05:25:31.738553",
     "exception": false,
     "start_time": "2024-07-03T05:25:31.670053",
     "status": "completed"
    },
    "tags": []
   },
   "outputs": [
    {
     "data": {
      "text/plain": [
       "array([0.00186661, 0.00349845, 0.00348404, ..., 0.00280412, 0.00256053,\n",
       "       0.00505541])"
      ]
     },
     "execution_count": 36,
     "metadata": {},
     "output_type": "execute_result"
    }
   ],
   "source": [
    "prob_failure = probs[:,1]\n",
    "prob_failure"
   ]
  },
  {
   "cell_type": "markdown",
   "id": "f99f9453",
   "metadata": {
    "papermill": {
     "duration": 0.027401,
     "end_time": "2024-07-03T05:25:31.794163",
     "exception": false,
     "start_time": "2024-07-03T05:25:31.766762",
     "status": "completed"
    },
    "tags": []
   },
   "source": [
    "### Plot the confusion matrix"
   ]
  },
  {
   "cell_type": "code",
   "execution_count": 37,
   "id": "17a45d1b",
   "metadata": {
    "execution": {
     "iopub.execute_input": "2024-07-03T05:25:31.849159Z",
     "iopub.status.busy": "2024-07-03T05:25:31.848727Z",
     "iopub.status.idle": "2024-07-03T05:25:32.192259Z",
     "shell.execute_reply": "2024-07-03T05:25:32.190514Z"
    },
    "papermill": {
     "duration": 0.374693,
     "end_time": "2024-07-03T05:25:32.195259",
     "exception": false,
     "start_time": "2024-07-03T05:25:31.820566",
     "status": "completed"
    },
    "tags": []
   },
   "outputs": [
    {
     "data": {
      "text/plain": [
       "<sklearn.metrics._plot.confusion_matrix.ConfusionMatrixDisplay at 0x7a34fc5214e0>"
      ]
     },
     "execution_count": 37,
     "metadata": {},
     "output_type": "execute_result"
    },
    {
     "data": {
      "image/png": "[encoded data removed]",
      "text/plain": [
       "<Figure size 640x480 with 2 Axes>"
      ]
     },
     "metadata": {},
     "output_type": "display_data"
    }
   ],
   "source": [
    "cf = confusion_matrix(preds,ytest)\n",
    "ConfusionMatrixDisplay(cf,display_labels=model.classes_).plot()"
   ]
  },
  {
   "cell_type": "markdown",
   "id": "3c9d5b35",
   "metadata": {
    "papermill": {
     "duration": 0.027134,
     "end_time": "2024-07-03T05:25:32.249346",
     "exception": false,
     "start_time": "2024-07-03T05:25:32.222212",
     "status": "completed"
    },
    "tags": []
   },
   "source": [
    "### Print the classification report"
   ]
  },
  {
   "cell_type": "code",
   "execution_count": 38,
   "id": "c7fc7ff5",
   "metadata": {
    "execution": {
     "iopub.execute_input": "2024-07-03T05:25:32.308700Z",
     "iopub.status.busy": "2024-07-03T05:25:32.308290Z",
     "iopub.status.idle": "2024-07-03T05:25:32.369217Z",
     "shell.execute_reply": "2024-07-03T05:25:32.367720Z"
    },
    "papermill": {
     "duration": 0.093538,
     "end_time": "2024-07-03T05:25:32.372018",
     "exception": false,
     "start_time": "2024-07-03T05:25:32.278480",
     "status": "completed"
    },
    "tags": []
   },
   "outputs": [
    {
     "name": "stdout",
     "output_type": "stream",
     "text": [
      "              precision    recall  f1-score   support\n",
      "\n",
      "           0       1.00      1.00      1.00     33416\n",
      "           1       0.76      0.99      0.86       408\n",
      "\n",
      "    accuracy                           1.00     33824\n",
      "   macro avg       0.88      0.99      0.93     33824\n",
      "weighted avg       1.00      1.00      1.00     33824\n",
      "\n"
     ]
    }
   ],
   "source": [
    "print(classification_report(preds,ytest,labels=model.classes_))"
   ]
  },
  {
   "cell_type": "markdown",
   "id": "a1e4d071",
   "metadata": {
    "papermill": {
     "duration": 0.026352,
     "end_time": "2024-07-03T05:25:32.425647",
     "exception": false,
     "start_time": "2024-07-03T05:25:32.399295",
     "status": "completed"
    },
    "tags": []
   },
   "source": [
    "We can observe that f1-score macro avg is 93% and accuracy is 100%. This is a good model. We can consider this model for final prediction"
   ]
  },
  {
   "cell_type": "markdown",
   "id": "200b74c1",
   "metadata": {
    "papermill": {
     "duration": 0.027719,
     "end_time": "2024-07-03T05:25:32.481728",
     "exception": false,
     "start_time": "2024-07-03T05:25:32.454009",
     "status": "completed"
    },
    "tags": []
   },
   "source": [
    "## Plot area under the ROC curve"
   ]
  },
  {
   "cell_type": "code",
   "execution_count": 39,
   "id": "afce8d85",
   "metadata": {
    "execution": {
     "iopub.execute_input": "2024-07-03T05:25:32.540032Z",
     "iopub.status.busy": "2024-07-03T05:25:32.538612Z",
     "iopub.status.idle": "2024-07-03T05:25:32.545609Z",
     "shell.execute_reply": "2024-07-03T05:25:32.544341Z"
    },
    "papermill": {
     "duration": 0.039536,
     "end_time": "2024-07-03T05:25:32.548397",
     "exception": false,
     "start_time": "2024-07-03T05:25:32.508861",
     "status": "completed"
    },
    "tags": []
   },
   "outputs": [],
   "source": [
    "from sklearn.metrics import RocCurveDisplay\n",
    "import matplotlib.pyplot as plt"
   ]
  },
  {
   "cell_type": "code",
   "execution_count": 40,
   "id": "95f6cd35",
   "metadata": {
    "execution": {
     "iopub.execute_input": "2024-07-03T05:25:32.607989Z",
     "iopub.status.busy": "2024-07-03T05:25:32.607559Z",
     "iopub.status.idle": "2024-07-03T05:25:33.009110Z",
     "shell.execute_reply": "2024-07-03T05:25:33.007620Z"
    },
    "papermill": {
     "duration": 0.434478,
     "end_time": "2024-07-03T05:25:33.012248",
     "exception": false,
     "start_time": "2024-07-03T05:25:32.577770",
     "status": "completed"
    },
    "tags": []
   },
   "outputs": [
    {
     "data": {
      "image/png": "[encoded data removed]",
      "text/plain": [
       "<Figure size 640x480 with 1 Axes>"
      ]
     },
     "metadata": {},
     "output_type": "display_data"
    }
   ],
   "source": [
    "RocCurveDisplay.from_estimator(model,xtrain,ytrain)\n",
    "plt.title('Area under ROC curve for Training Data')\n",
    "plt.show()"
   ]
  },
  {
   "cell_type": "code",
   "execution_count": 41,
   "id": "075e0868",
   "metadata": {
    "execution": {
     "iopub.execute_input": "2024-07-03T05:25:33.078003Z",
     "iopub.status.busy": "2024-07-03T05:25:33.076622Z",
     "iopub.status.idle": "2024-07-03T05:25:33.450501Z",
     "shell.execute_reply": "2024-07-03T05:25:33.448821Z"
    },
    "papermill": {
     "duration": 0.407476,
     "end_time": "2024-07-03T05:25:33.453139",
     "exception": false,
     "start_time": "2024-07-03T05:25:33.045663",
     "status": "completed"
    },
    "tags": []
   },
   "outputs": [
    {
     "data": {
      "image/png": "[encoded data removed]",
      "text/plain": [
       "<Figure size 640x480 with 1 Axes>"
      ]
     },
     "metadata": {},
     "output_type": "display_data"
    }
   ],
   "source": [
    "RocCurveDisplay.from_estimator(model,xtest,ytest)\n",
    "plt.title('Area under ROC curve for Testing Data')\n",
    "plt.show()"
   ]
  },
  {
   "cell_type": "code",
   "execution_count": 42,
   "id": "fb4ee28e",
   "metadata": {
    "execution": {
     "iopub.execute_input": "2024-07-03T05:25:33.515565Z",
     "iopub.status.busy": "2024-07-03T05:25:33.515142Z",
     "iopub.status.idle": "2024-07-03T05:25:33.521083Z",
     "shell.execute_reply": "2024-07-03T05:25:33.519698Z"
    },
    "papermill": {
     "duration": 0.040189,
     "end_time": "2024-07-03T05:25:33.523537",
     "exception": false,
     "start_time": "2024-07-03T05:25:33.483348",
     "status": "completed"
    },
    "tags": []
   },
   "outputs": [],
   "source": [
    "from sklearn.metrics import roc_curve"
   ]
  },
  {
   "cell_type": "code",
   "execution_count": 43,
   "id": "e4fc8da5",
   "metadata": {
    "execution": {
     "iopub.execute_input": "2024-07-03T05:25:33.585731Z",
     "iopub.status.busy": "2024-07-03T05:25:33.585240Z",
     "iopub.status.idle": "2024-07-03T05:25:33.592401Z",
     "shell.execute_reply": "2024-07-03T05:25:33.590718Z"
    },
    "papermill": {
     "duration": 0.040766,
     "end_time": "2024-07-03T05:25:33.595385",
     "exception": false,
     "start_time": "2024-07-03T05:25:33.554619",
     "status": "completed"
    },
    "tags": []
   },
   "outputs": [],
   "source": [
    "def plot_roc_curve(ytrue,ypred):\n",
    "\n",
    "    fpr,tpr,threshold = roc_curve(ytest,preds)\n",
    "    plt.plot(fpr,tpr)\n",
    "    plt.xlabel('False Positive Rate')\n",
    "    plt.ylabel('True Positive Rate')\n",
    "    plt.show()"
   ]
  },
  {
   "cell_type": "code",
   "execution_count": 44,
   "id": "08ee1cb1",
   "metadata": {
    "execution": {
     "iopub.execute_input": "2024-07-03T05:25:33.655078Z",
     "iopub.status.busy": "2024-07-03T05:25:33.654639Z",
     "iopub.status.idle": "2024-07-03T05:25:33.909266Z",
     "shell.execute_reply": "2024-07-03T05:25:33.908030Z"
    },
    "papermill": {
     "duration": 0.287234,
     "end_time": "2024-07-03T05:25:33.912116",
     "exception": false,
     "start_time": "2024-07-03T05:25:33.624882",
     "status": "completed"
    },
    "tags": []
   },
   "outputs": [
    {
     "data": {
      "image/png": "[encoded data removed]",
      "text/plain": [
       "<Figure size 640x480 with 1 Axes>"
      ]
     },
     "metadata": {},
     "output_type": "display_data"
    }
   ],
   "source": [
    "plot_roc_curve(ytest,probs)"
   ]
  },
  {
   "cell_type": "markdown",
   "id": "f31f0204",
   "metadata": {
    "papermill": {
     "duration": 0.02923,
     "end_time": "2024-07-03T05:25:33.970586",
     "exception": false,
     "start_time": "2024-07-03T05:25:33.941356",
     "status": "completed"
    },
    "tags": []
   },
   "source": [
    "## Load the test dataset and predict the machine failure result"
   ]
  },
  {
   "cell_type": "code",
   "execution_count": 45,
   "id": "d9f8b5c5",
   "metadata": {
    "execution": {
     "iopub.execute_input": "2024-07-03T05:25:34.030253Z",
     "iopub.status.busy": "2024-07-03T05:25:34.029703Z",
     "iopub.status.idle": "2024-07-03T05:25:34.078090Z",
     "shell.execute_reply": "2024-07-03T05:25:34.076334Z"
    },
    "papermill": {
     "duration": 0.081991,
     "end_time": "2024-07-03T05:25:34.081188",
     "exception": false,
     "start_time": "2024-07-03T05:25:33.999197",
     "status": "completed"
    },
    "tags": []
   },
   "outputs": [
    {
     "data": {
      "text/html": [
       "<div>\n",
       "<style scoped>\n",
       "    .dataframe tbody tr th:only-of-type {\n",
       "        vertical-align: middle;\n",
       "    }\n",
       "\n",
       "    .dataframe tbody tr th {\n",
       "        vertical-align: top;\n",
       "    }\n",
       "\n",
       "    .dataframe thead th {\n",
       "        text-align: right;\n",
       "    }\n",
       "</style>\n",
       "<table border=\"1\" class=\"dataframe\">\n",
       "  <thead>\n",
       "    <tr style=\"text-align: right;\">\n",
       "      <th></th>\n",
       "      <th>id</th>\n",
       "      <th>Product ID</th>\n",
       "      <th>Type</th>\n",
       "      <th>Air temperature [K]</th>\n",
       "      <th>Process temperature [K]</th>\n",
       "      <th>Rotational speed [rpm]</th>\n",
       "      <th>Torque [Nm]</th>\n",
       "      <th>Tool wear [min]</th>\n",
       "      <th>TWF</th>\n",
       "      <th>HDF</th>\n",
       "      <th>PWF</th>\n",
       "      <th>OSF</th>\n",
       "      <th>RNF</th>\n",
       "    </tr>\n",
       "  </thead>\n",
       "  <tbody>\n",
       "    <tr>\n",
       "      <th>0</th>\n",
       "      <td>0</td>\n",
       "      <td>M14860</td>\n",
       "      <td>M</td>\n",
       "      <td>298.1</td>\n",
       "      <td>308.6</td>\n",
       "      <td>1551</td>\n",
       "      <td>42.8</td>\n",
       "      <td>0</td>\n",
       "      <td>0</td>\n",
       "      <td>0</td>\n",
       "      <td>0</td>\n",
       "      <td>0</td>\n",
       "      <td>0</td>\n",
       "    </tr>\n",
       "    <tr>\n",
       "      <th>1</th>\n",
       "      <td>1</td>\n",
       "      <td>L47181</td>\n",
       "      <td>L</td>\n",
       "      <td>298.2</td>\n",
       "      <td>308.7</td>\n",
       "      <td>1408</td>\n",
       "      <td>46.3</td>\n",
       "      <td>3</td>\n",
       "      <td>0</td>\n",
       "      <td>0</td>\n",
       "      <td>0</td>\n",
       "      <td>0</td>\n",
       "      <td>0</td>\n",
       "    </tr>\n",
       "    <tr>\n",
       "      <th>2</th>\n",
       "      <td>2</td>\n",
       "      <td>L47182</td>\n",
       "      <td>L</td>\n",
       "      <td>298.1</td>\n",
       "      <td>308.5</td>\n",
       "      <td>1498</td>\n",
       "      <td>49.4</td>\n",
       "      <td>5</td>\n",
       "      <td>0</td>\n",
       "      <td>0</td>\n",
       "      <td>0</td>\n",
       "      <td>0</td>\n",
       "      <td>0</td>\n",
       "    </tr>\n",
       "    <tr>\n",
       "      <th>3</th>\n",
       "      <td>3</td>\n",
       "      <td>L47183</td>\n",
       "      <td>L</td>\n",
       "      <td>298.2</td>\n",
       "      <td>308.6</td>\n",
       "      <td>1433</td>\n",
       "      <td>39.5</td>\n",
       "      <td>7</td>\n",
       "      <td>0</td>\n",
       "      <td>0</td>\n",
       "      <td>0</td>\n",
       "      <td>0</td>\n",
       "      <td>0</td>\n",
       "    </tr>\n",
       "    <tr>\n",
       "      <th>4</th>\n",
       "      <td>4</td>\n",
       "      <td>L47184</td>\n",
       "      <td>L</td>\n",
       "      <td>298.2</td>\n",
       "      <td>308.7</td>\n",
       "      <td>1408</td>\n",
       "      <td>40.0</td>\n",
       "      <td>9</td>\n",
       "      <td>0</td>\n",
       "      <td>0</td>\n",
       "      <td>0</td>\n",
       "      <td>0</td>\n",
       "      <td>0</td>\n",
       "    </tr>\n",
       "  </tbody>\n",
       "</table>\n",
       "</div>"
      ],
      "text/plain": [
       "   id Product ID Type  Air temperature [K]  Process temperature [K]  \\\n",
       "0   0     M14860    M                298.1                    308.6   \n",
       "1   1     L47181    L                298.2                    308.7   \n",
       "2   2     L47182    L                298.1                    308.5   \n",
       "3   3     L47183    L                298.2                    308.6   \n",
       "4   4     L47184    L                298.2                    308.7   \n",
       "\n",
       "   Rotational speed [rpm]  Torque [Nm]  Tool wear [min]  TWF  HDF  PWF  OSF  \\\n",
       "0                    1551         42.8                0    0    0    0    0   \n",
       "1                    1408         46.3                3    0    0    0    0   \n",
       "2                    1498         49.4                5    0    0    0    0   \n",
       "3                    1433         39.5                7    0    0    0    0   \n",
       "4                    1408         40.0                9    0    0    0    0   \n",
       "\n",
       "   RNF  \n",
       "0    0  \n",
       "1    0  \n",
       "2    0  \n",
       "3    0  \n",
       "4    0  "
      ]
     },
     "execution_count": 45,
     "metadata": {},
     "output_type": "execute_result"
    }
   ],
   "source": [
    "xnew = pd.read_csv('/kaggle/input/machine-failure-prediction-iti-data-science/test.csv')\n",
    "xnew.head()"
   ]
  },
  {
   "cell_type": "code",
   "execution_count": 46,
   "id": "5ad56239",
   "metadata": {
    "execution": {
     "iopub.execute_input": "2024-07-03T05:25:34.141991Z",
     "iopub.status.busy": "2024-07-03T05:25:34.141563Z",
     "iopub.status.idle": "2024-07-03T05:25:34.153644Z",
     "shell.execute_reply": "2024-07-03T05:25:34.152528Z"
    },
    "papermill": {
     "duration": 0.044237,
     "end_time": "2024-07-03T05:25:34.156104",
     "exception": false,
     "start_time": "2024-07-03T05:25:34.111867",
     "status": "completed"
    },
    "tags": []
   },
   "outputs": [
    {
     "data": {
      "text/html": [
       "<div>\n",
       "<style scoped>\n",
       "    .dataframe tbody tr th:only-of-type {\n",
       "        vertical-align: middle;\n",
       "    }\n",
       "\n",
       "    .dataframe tbody tr th {\n",
       "        vertical-align: top;\n",
       "    }\n",
       "\n",
       "    .dataframe thead th {\n",
       "        text-align: right;\n",
       "    }\n",
       "</style>\n",
       "<table border=\"1\" class=\"dataframe\">\n",
       "  <thead>\n",
       "    <tr style=\"text-align: right;\">\n",
       "      <th></th>\n",
       "      <th>id</th>\n",
       "    </tr>\n",
       "  </thead>\n",
       "  <tbody>\n",
       "    <tr>\n",
       "      <th>0</th>\n",
       "      <td>0</td>\n",
       "    </tr>\n",
       "    <tr>\n",
       "      <th>1</th>\n",
       "      <td>1</td>\n",
       "    </tr>\n",
       "    <tr>\n",
       "      <th>2</th>\n",
       "      <td>2</td>\n",
       "    </tr>\n",
       "    <tr>\n",
       "      <th>3</th>\n",
       "      <td>3</td>\n",
       "    </tr>\n",
       "    <tr>\n",
       "      <th>4</th>\n",
       "      <td>4</td>\n",
       "    </tr>\n",
       "    <tr>\n",
       "      <th>...</th>\n",
       "      <td>...</td>\n",
       "    </tr>\n",
       "    <tr>\n",
       "      <th>9995</th>\n",
       "      <td>9995</td>\n",
       "    </tr>\n",
       "    <tr>\n",
       "      <th>9996</th>\n",
       "      <td>9996</td>\n",
       "    </tr>\n",
       "    <tr>\n",
       "      <th>9997</th>\n",
       "      <td>9997</td>\n",
       "    </tr>\n",
       "    <tr>\n",
       "      <th>9998</th>\n",
       "      <td>9998</td>\n",
       "    </tr>\n",
       "    <tr>\n",
       "      <th>9999</th>\n",
       "      <td>9999</td>\n",
       "    </tr>\n",
       "  </tbody>\n",
       "</table>\n",
       "<p>10000 rows × 1 columns</p>\n",
       "</div>"
      ],
      "text/plain": [
       "        id\n",
       "0        0\n",
       "1        1\n",
       "2        2\n",
       "3        3\n",
       "4        4\n",
       "...    ...\n",
       "9995  9995\n",
       "9996  9996\n",
       "9997  9997\n",
       "9998  9998\n",
       "9999  9999\n",
       "\n",
       "[10000 rows x 1 columns]"
      ]
     },
     "execution_count": 46,
     "metadata": {},
     "output_type": "execute_result"
    }
   ],
   "source": [
    "ml_df = xnew[['id']]\n",
    "ml_df"
   ]
  },
  {
   "cell_type": "code",
   "execution_count": 47,
   "id": "f12a8605",
   "metadata": {
    "execution": {
     "iopub.execute_input": "2024-07-03T05:25:34.218044Z",
     "iopub.status.busy": "2024-07-03T05:25:34.217596Z",
     "iopub.status.idle": "2024-07-03T05:25:34.226511Z",
     "shell.execute_reply": "2024-07-03T05:25:34.224988Z"
    },
    "papermill": {
     "duration": 0.044231,
     "end_time": "2024-07-03T05:25:34.229546",
     "exception": false,
     "start_time": "2024-07-03T05:25:34.185315",
     "status": "completed"
    },
    "tags": []
   },
   "outputs": [],
   "source": [
    "xnew.drop(columns=['id'],inplace=True)"
   ]
  },
  {
   "cell_type": "code",
   "execution_count": 48,
   "id": "b09a675d",
   "metadata": {
    "execution": {
     "iopub.execute_input": "2024-07-03T05:25:34.290478Z",
     "iopub.status.busy": "2024-07-03T05:25:34.290055Z",
     "iopub.status.idle": "2024-07-03T05:25:34.317247Z",
     "shell.execute_reply": "2024-07-03T05:25:34.315740Z"
    },
    "papermill": {
     "duration": 0.061309,
     "end_time": "2024-07-03T05:25:34.320206",
     "exception": false,
     "start_time": "2024-07-03T05:25:34.258897",
     "status": "completed"
    },
    "tags": []
   },
   "outputs": [
    {
     "data": {
      "text/plain": [
       "0       14860\n",
       "1       47181\n",
       "2       47182\n",
       "3       47183\n",
       "4       47184\n",
       "        ...  \n",
       "9995    24855\n",
       "9996    39410\n",
       "9997    24857\n",
       "9998    39412\n",
       "9999    24859\n",
       "Name: Product ID, Length: 10000, dtype: int64"
      ]
     },
     "execution_count": 48,
     "metadata": {},
     "output_type": "execute_result"
    }
   ],
   "source": [
    "# Product ID has Type details attached to it. Let's remove those details\n",
    "xnew['Product ID'] = xnew['Product ID'].str.strip('L') \n",
    "xnew['Product ID'] = xnew['Product ID'].str.strip('M') \n",
    "xnew['Product ID'] = xnew['Product ID'].str.strip('H')\n",
    "# convert product id into interger\n",
    "xnew['Product ID'] = xnew['Product ID'].astype(int)\n",
    "xnew['Product ID']"
   ]
  },
  {
   "cell_type": "code",
   "execution_count": 49,
   "id": "175b7371",
   "metadata": {
    "execution": {
     "iopub.execute_input": "2024-07-03T05:25:34.381190Z",
     "iopub.status.busy": "2024-07-03T05:25:34.380734Z",
     "iopub.status.idle": "2024-07-03T05:25:34.420983Z",
     "shell.execute_reply": "2024-07-03T05:25:34.419787Z"
    },
    "papermill": {
     "duration": 0.073367,
     "end_time": "2024-07-03T05:25:34.423765",
     "exception": false,
     "start_time": "2024-07-03T05:25:34.350398",
     "status": "completed"
    },
    "tags": []
   },
   "outputs": [
    {
     "data": {
      "text/html": [
       "<div>\n",
       "<style scoped>\n",
       "    .dataframe tbody tr th:only-of-type {\n",
       "        vertical-align: middle;\n",
       "    }\n",
       "\n",
       "    .dataframe tbody tr th {\n",
       "        vertical-align: top;\n",
       "    }\n",
       "\n",
       "    .dataframe thead th {\n",
       "        text-align: right;\n",
       "    }\n",
       "</style>\n",
       "<table border=\"1\" class=\"dataframe\">\n",
       "  <thead>\n",
       "    <tr style=\"text-align: right;\">\n",
       "      <th></th>\n",
       "      <th>num__Product ID</th>\n",
       "      <th>num__Air temperature [K]</th>\n",
       "      <th>num__Process temperature [K]</th>\n",
       "      <th>num__Rotational speed [rpm]</th>\n",
       "      <th>num__Torque [Nm]</th>\n",
       "      <th>num__Tool wear [min]</th>\n",
       "      <th>num__TWF</th>\n",
       "      <th>num__HDF</th>\n",
       "      <th>num__PWF</th>\n",
       "      <th>num__OSF</th>\n",
       "      <th>num__RNF</th>\n",
       "      <th>cat__Type_H</th>\n",
       "      <th>cat__Type_L</th>\n",
       "      <th>cat__Type_M</th>\n",
       "    </tr>\n",
       "  </thead>\n",
       "  <tbody>\n",
       "    <tr>\n",
       "      <th>0</th>\n",
       "      <td>-2.037909</td>\n",
       "      <td>-0.946542</td>\n",
       "      <td>-0.968327</td>\n",
       "      <td>0.221149</td>\n",
       "      <td>0.289455</td>\n",
       "      <td>-1.632100</td>\n",
       "      <td>-0.03924</td>\n",
       "      <td>-0.072168</td>\n",
       "      <td>-0.048691</td>\n",
       "      <td>-0.06289</td>\n",
       "      <td>-0.047611</td>\n",
       "      <td>0.0</td>\n",
       "      <td>0.0</td>\n",
       "      <td>1.0</td>\n",
       "    </tr>\n",
       "    <tr>\n",
       "      <th>1</th>\n",
       "      <td>0.249161</td>\n",
       "      <td>-0.892855</td>\n",
       "      <td>-0.896121</td>\n",
       "      <td>-0.810279</td>\n",
       "      <td>0.701579</td>\n",
       "      <td>-1.585185</td>\n",
       "      <td>-0.03924</td>\n",
       "      <td>-0.072168</td>\n",
       "      <td>-0.048691</td>\n",
       "      <td>-0.06289</td>\n",
       "      <td>-0.047611</td>\n",
       "      <td>0.0</td>\n",
       "      <td>1.0</td>\n",
       "      <td>0.0</td>\n",
       "    </tr>\n",
       "    <tr>\n",
       "      <th>2</th>\n",
       "      <td>0.249232</td>\n",
       "      <td>-0.946542</td>\n",
       "      <td>-1.040532</td>\n",
       "      <td>-0.161129</td>\n",
       "      <td>1.066602</td>\n",
       "      <td>-1.553908</td>\n",
       "      <td>-0.03924</td>\n",
       "      <td>-0.072168</td>\n",
       "      <td>-0.048691</td>\n",
       "      <td>-0.06289</td>\n",
       "      <td>-0.047611</td>\n",
       "      <td>0.0</td>\n",
       "      <td>1.0</td>\n",
       "      <td>0.0</td>\n",
       "    </tr>\n",
       "    <tr>\n",
       "      <th>3</th>\n",
       "      <td>0.249303</td>\n",
       "      <td>-0.892855</td>\n",
       "      <td>-0.968327</td>\n",
       "      <td>-0.629959</td>\n",
       "      <td>-0.099118</td>\n",
       "      <td>-1.522631</td>\n",
       "      <td>-0.03924</td>\n",
       "      <td>-0.072168</td>\n",
       "      <td>-0.048691</td>\n",
       "      <td>-0.06289</td>\n",
       "      <td>-0.047611</td>\n",
       "      <td>0.0</td>\n",
       "      <td>1.0</td>\n",
       "      <td>0.0</td>\n",
       "    </tr>\n",
       "    <tr>\n",
       "      <th>4</th>\n",
       "      <td>0.249373</td>\n",
       "      <td>-0.892855</td>\n",
       "      <td>-0.896121</td>\n",
       "      <td>-0.810279</td>\n",
       "      <td>-0.040243</td>\n",
       "      <td>-1.491354</td>\n",
       "      <td>-0.03924</td>\n",
       "      <td>-0.072168</td>\n",
       "      <td>-0.048691</td>\n",
       "      <td>-0.06289</td>\n",
       "      <td>-0.047611</td>\n",
       "      <td>0.0</td>\n",
       "      <td>1.0</td>\n",
       "      <td>0.0</td>\n",
       "    </tr>\n",
       "  </tbody>\n",
       "</table>\n",
       "</div>"
      ],
      "text/plain": [
       "   num__Product ID  num__Air temperature [K]  num__Process temperature [K]  \\\n",
       "0        -2.037909                 -0.946542                     -0.968327   \n",
       "1         0.249161                 -0.892855                     -0.896121   \n",
       "2         0.249232                 -0.946542                     -1.040532   \n",
       "3         0.249303                 -0.892855                     -0.968327   \n",
       "4         0.249373                 -0.892855                     -0.896121   \n",
       "\n",
       "   num__Rotational speed [rpm]  num__Torque [Nm]  num__Tool wear [min]  \\\n",
       "0                     0.221149          0.289455             -1.632100   \n",
       "1                    -0.810279          0.701579             -1.585185   \n",
       "2                    -0.161129          1.066602             -1.553908   \n",
       "3                    -0.629959         -0.099118             -1.522631   \n",
       "4                    -0.810279         -0.040243             -1.491354   \n",
       "\n",
       "   num__TWF  num__HDF  num__PWF  num__OSF  num__RNF  cat__Type_H  cat__Type_L  \\\n",
       "0  -0.03924 -0.072168 -0.048691  -0.06289 -0.047611          0.0          0.0   \n",
       "1  -0.03924 -0.072168 -0.048691  -0.06289 -0.047611          0.0          1.0   \n",
       "2  -0.03924 -0.072168 -0.048691  -0.06289 -0.047611          0.0          1.0   \n",
       "3  -0.03924 -0.072168 -0.048691  -0.06289 -0.047611          0.0          1.0   \n",
       "4  -0.03924 -0.072168 -0.048691  -0.06289 -0.047611          0.0          1.0   \n",
       "\n",
       "   cat__Type_M  \n",
       "0          1.0  \n",
       "1          0.0  \n",
       "2          0.0  \n",
       "3          0.0  \n",
       "4          0.0  "
      ]
     },
     "execution_count": 49,
     "metadata": {},
     "output_type": "execute_result"
    }
   ],
   "source": [
    "xnew_pre = pre.transform(xnew)\n",
    "xnew_pre.head()"
   ]
  },
  {
   "cell_type": "code",
   "execution_count": 50,
   "id": "31620feb",
   "metadata": {
    "execution": {
     "iopub.execute_input": "2024-07-03T05:25:34.487162Z",
     "iopub.status.busy": "2024-07-03T05:25:34.486739Z",
     "iopub.status.idle": "2024-07-03T05:25:34.502833Z",
     "shell.execute_reply": "2024-07-03T05:25:34.499638Z"
    },
    "papermill": {
     "duration": 0.053665,
     "end_time": "2024-07-03T05:25:34.507935",
     "exception": false,
     "start_time": "2024-07-03T05:25:34.454270",
     "status": "completed"
    },
    "tags": []
   },
   "outputs": [
    {
     "data": {
      "text/plain": [
       "array([[9.98455694e-01, 1.54430576e-03],\n",
       "       [9.97996232e-01, 2.00376755e-03],\n",
       "       [9.95653438e-01, 4.34656212e-03],\n",
       "       [9.99099142e-01, 9.00857979e-04],\n",
       "       [9.99131440e-01, 8.68560461e-04]])"
      ]
     },
     "execution_count": 50,
     "metadata": {},
     "output_type": "execute_result"
    }
   ],
   "source": [
    "new_probs = model.predict_proba(xnew_pre)\n",
    "new_probs[:5]"
   ]
  },
  {
   "cell_type": "code",
   "execution_count": 51,
   "id": "498b337c",
   "metadata": {
    "execution": {
     "iopub.execute_input": "2024-07-03T05:25:34.628999Z",
     "iopub.status.busy": "2024-07-03T05:25:34.628576Z",
     "iopub.status.idle": "2024-07-03T05:25:34.637753Z",
     "shell.execute_reply": "2024-07-03T05:25:34.636501Z"
    },
    "papermill": {
     "duration": 0.067303,
     "end_time": "2024-07-03T05:25:34.640279",
     "exception": false,
     "start_time": "2024-07-03T05:25:34.572976",
     "status": "completed"
    },
    "tags": []
   },
   "outputs": [
    {
     "data": {
      "text/plain": [
       "array([0.00154431, 0.00200377, 0.00434656, ..., 0.00085243, 0.00336874,\n",
       "       0.00131613])"
      ]
     },
     "execution_count": 51,
     "metadata": {},
     "output_type": "execute_result"
    }
   ],
   "source": [
    "machine_failure_probs = new_probs[:,1]\n",
    "machine_failure_probs"
   ]
  },
  {
   "cell_type": "code",
   "execution_count": 52,
   "id": "77ddf557",
   "metadata": {
    "execution": {
     "iopub.execute_input": "2024-07-03T05:25:34.702962Z",
     "iopub.status.busy": "2024-07-03T05:25:34.702508Z",
     "iopub.status.idle": "2024-07-03T05:25:34.718847Z",
     "shell.execute_reply": "2024-07-03T05:25:34.716985Z"
    },
    "papermill": {
     "duration": 0.051272,
     "end_time": "2024-07-03T05:25:34.721695",
     "exception": false,
     "start_time": "2024-07-03T05:25:34.670423",
     "status": "completed"
    },
    "tags": []
   },
   "outputs": [
    {
     "data": {
      "text/html": [
       "<div>\n",
       "<style scoped>\n",
       "    .dataframe tbody tr th:only-of-type {\n",
       "        vertical-align: middle;\n",
       "    }\n",
       "\n",
       "    .dataframe tbody tr th {\n",
       "        vertical-align: top;\n",
       "    }\n",
       "\n",
       "    .dataframe thead th {\n",
       "        text-align: right;\n",
       "    }\n",
       "</style>\n",
       "<table border=\"1\" class=\"dataframe\">\n",
       "  <thead>\n",
       "    <tr style=\"text-align: right;\">\n",
       "      <th></th>\n",
       "      <th>id</th>\n",
       "      <th>Machine failure</th>\n",
       "    </tr>\n",
       "  </thead>\n",
       "  <tbody>\n",
       "    <tr>\n",
       "      <th>0</th>\n",
       "      <td>0</td>\n",
       "      <td>0.001544</td>\n",
       "    </tr>\n",
       "    <tr>\n",
       "      <th>1</th>\n",
       "      <td>1</td>\n",
       "      <td>0.002004</td>\n",
       "    </tr>\n",
       "    <tr>\n",
       "      <th>2</th>\n",
       "      <td>2</td>\n",
       "      <td>0.004347</td>\n",
       "    </tr>\n",
       "    <tr>\n",
       "      <th>3</th>\n",
       "      <td>3</td>\n",
       "      <td>0.000901</td>\n",
       "    </tr>\n",
       "    <tr>\n",
       "      <th>4</th>\n",
       "      <td>4</td>\n",
       "      <td>0.000869</td>\n",
       "    </tr>\n",
       "    <tr>\n",
       "      <th>...</th>\n",
       "      <td>...</td>\n",
       "      <td>...</td>\n",
       "    </tr>\n",
       "    <tr>\n",
       "      <th>9995</th>\n",
       "      <td>9995</td>\n",
       "      <td>0.000412</td>\n",
       "    </tr>\n",
       "    <tr>\n",
       "      <th>9996</th>\n",
       "      <td>9996</td>\n",
       "      <td>0.000758</td>\n",
       "    </tr>\n",
       "    <tr>\n",
       "      <th>9997</th>\n",
       "      <td>9997</td>\n",
       "      <td>0.000852</td>\n",
       "    </tr>\n",
       "    <tr>\n",
       "      <th>9998</th>\n",
       "      <td>9998</td>\n",
       "      <td>0.003369</td>\n",
       "    </tr>\n",
       "    <tr>\n",
       "      <th>9999</th>\n",
       "      <td>9999</td>\n",
       "      <td>0.001316</td>\n",
       "    </tr>\n",
       "  </tbody>\n",
       "</table>\n",
       "<p>10000 rows × 2 columns</p>\n",
       "</div>"
      ],
      "text/plain": [
       "        id  Machine failure\n",
       "0        0         0.001544\n",
       "1        1         0.002004\n",
       "2        2         0.004347\n",
       "3        3         0.000901\n",
       "4        4         0.000869\n",
       "...    ...              ...\n",
       "9995  9995         0.000412\n",
       "9996  9996         0.000758\n",
       "9997  9997         0.000852\n",
       "9998  9998         0.003369\n",
       "9999  9999         0.001316\n",
       "\n",
       "[10000 rows x 2 columns]"
      ]
     },
     "execution_count": 52,
     "metadata": {},
     "output_type": "execute_result"
    }
   ],
   "source": [
    "ml_df['Machine failure'] = machine_failure_probs\n",
    "ml_df"
   ]
  },
  {
   "cell_type": "code",
   "execution_count": 53,
   "id": "79d6d86d",
   "metadata": {
    "execution": {
     "iopub.execute_input": "2024-07-03T05:25:34.787935Z",
     "iopub.status.busy": "2024-07-03T05:25:34.787464Z",
     "iopub.status.idle": "2024-07-03T05:25:34.802718Z",
     "shell.execute_reply": "2024-07-03T05:25:34.801498Z"
    },
    "papermill": {
     "duration": 0.051257,
     "end_time": "2024-07-03T05:25:34.805378",
     "exception": false,
     "start_time": "2024-07-03T05:25:34.754121",
     "status": "completed"
    },
    "tags": []
   },
   "outputs": [
    {
     "data": {
      "text/plain": [
       "Machine failure\n",
       "0.001544    1\n",
       "0.002011    1\n",
       "0.012975    1\n",
       "0.004443    1\n",
       "0.004858    1\n",
       "           ..\n",
       "0.005958    1\n",
       "0.001529    1\n",
       "0.002343    1\n",
       "0.002301    1\n",
       "0.001316    1\n",
       "Name: count, Length: 10000, dtype: int64"
      ]
     },
     "execution_count": 53,
     "metadata": {},
     "output_type": "execute_result"
    }
   ],
   "source": [
    "ml_df['Machine failure'].value_counts()"
   ]
  },
  {
   "cell_type": "code",
   "execution_count": 54,
   "id": "b08fa86a",
   "metadata": {
    "execution": {
     "iopub.execute_input": "2024-07-03T05:25:34.868262Z",
     "iopub.status.busy": "2024-07-03T05:25:34.867684Z",
     "iopub.status.idle": "2024-07-03T05:25:34.912226Z",
     "shell.execute_reply": "2024-07-03T05:25:34.910964Z"
    },
    "papermill": {
     "duration": 0.079797,
     "end_time": "2024-07-03T05:25:34.915128",
     "exception": false,
     "start_time": "2024-07-03T05:25:34.835331",
     "status": "completed"
    },
    "tags": []
   },
   "outputs": [],
   "source": [
    "ml_df.to_csv('submission.csv',index=False)"
   ]
  }
 ],
 "metadata": {
  "kaggle": {
   "accelerator": "none",
   "dataSources": [
    {
     "databundleVersionId": 7826639,
     "sourceId": 71596,
     "sourceType": "competition"
    }
   ],
   "dockerImageVersionId": 30732,
   "isGpuEnabled": false,
   "isInternetEnabled": true,
   "language": "python",
   "sourceType": "notebook"
  },
  "kernelspec": {
   "display_name": "Python 3",
   "language": "python",
   "name": "python3"
  },
  "language_info": {
   "codemirror_mode": {
    "name": "ipython",
    "version": 3
   },
   "file_extension": ".py",
   "mimetype": "text/x-python",
   "name": "python",
   "nbconvert_exporter": "python",
   "pygments_lexer": "ipython3",
   "version": "3.10.13"
  },
  "papermill": {
   "default_parameters": {},
   "duration": 16.455526,
   "end_time": "2024-07-03T05:25:35.670654",
   "environment_variables": {},
   "exception": null,
   "input_path": "__notebook__.ipynb",
   "output_path": "__notebook__.ipynb",
   "parameters": {},
   "start_time": "2024-07-03T05:25:19.215128",
   "version": "2.5.0"
  }
 },
 "nbformat": 4,
 "nbformat_minor": 5
}
